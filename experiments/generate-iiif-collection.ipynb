{
 "cells": [
  {
   "cell_type": "code",
   "execution_count": 1,
   "metadata": {},
   "outputs": [],
   "source": [
    "import json\n",
    "from os.path import join\n",
    "from SPARQLWrapper import SPARQLWrapper, JSON\n",
    "from string import Template\n",
    "from tqdm import tqdm"
   ]
  },
  {
   "cell_type": "code",
   "execution_count": 2,
   "metadata": {},
   "outputs": [],
   "source": [
    "outputFolder = \"../static/iiif/\"\n",
    "limit = 99999\n",
    "offset = 0\n",
    "suffix = \"\""
   ]
  },
  {
   "cell_type": "code",
   "execution_count": 3,
   "metadata": {},
   "outputs": [],
   "source": [
    "endpoint = \"http://localhost:8887/blazegraph/sparql\""
   ]
  },
  {
   "cell_type": "code",
   "execution_count": 4,
   "metadata": {},
   "outputs": [],
   "source": [
    "sparql = SPARQLWrapper(endpoint)\n",
    "sparql.setReturnFormat(JSON)"
   ]
  },
  {
   "cell_type": "code",
   "execution_count": 5,
   "metadata": {},
   "outputs": [],
   "source": [
    "def sparqlResultToDict(results):\n",
    "    rows = []\n",
    "    for result in results[\"results\"][\"bindings\"]:\n",
    "        row = {}\n",
    "        for key in list(result.keys()):\n",
    "            row[key] = result[key][\"value\"]\n",
    "        rows.append(row)\n",
    "    return rows\n"
   ]
  },
  {
   "cell_type": "code",
   "execution_count": 6,
   "metadata": {},
   "outputs": [],
   "source": [
    "objectsQuery = \"\"\"\n",
    "PREFIX crm: <http://www.cidoc-crm.org/cidoc-crm/>\n",
    "PREFIX search: <https://platform.swissartresearch.net/search/>\n",
    "SELECT DISTINCT ?subject ?label WHERE {\n",
    "    ?subject a search:Object ;\n",
    "        rdfs:label ?label .\n",
    "    ?subject crm:P109_has_current_or_former_curator <https://d-nb.info/gnd/1012546-2> .\n",
    "    FILTER(REGEX(STR(?subject), \"zbz-\"))\n",
    "}\n",
    "\"\"\""
   ]
  },
  {
   "cell_type": "code",
   "execution_count": 7,
   "metadata": {},
   "outputs": [],
   "source": [
    "sparql.setQuery(objectsQuery)\n",
    "objects = sparqlResultToDict(sparql.query().convert())"
   ]
  },
  {
   "cell_type": "code",
   "execution_count": 8,
   "metadata": {},
   "outputs": [],
   "source": [
    "collectionManifest = {\n",
    "    \"@context\": \"http://iiif.io/api/presentation/3/context.json\",\n",
    "    \"id\": \"https://resource.swissartresearch.net/manifest/zbz-collection\" + suffix,\n",
    "    \"type\": \"Collection\",\n",
    "    \"label\": {\"de\": [\"Bilder der Schweiz Online\"]},\n",
    "    \"items\" : []\n",
    "}"
   ]
  },
  {
   "cell_type": "code",
   "execution_count": 9,
   "metadata": {},
   "outputs": [
    {
     "name": "stderr",
     "output_type": "stream",
     "text": [
      "100%|██████████| 19031/19031 [00:00<00:00, 543230.86it/s]\n"
     ]
    }
   ],
   "source": [
    "for obj in tqdm(objects[offset:offset + limit]):\n",
    "    itemManifestUri = obj['subject'].replace('artwork', 'manifest')\n",
    "    collectionManifest['items'].append({\n",
    "        \"@id\": itemManifestUri,\n",
    "        \"type\": \"Manifest\",\n",
    "        \"label\": {\"de\": [ obj['label'] ]}\n",
    "    })"
   ]
  },
  {
   "cell_type": "code",
   "execution_count": 10,
   "metadata": {},
   "outputs": [],
   "source": [
    "filename = join(outputFolder, \"zbz-collection%s.json\" % suffix)\n",
    "with open(filename, 'w') as f:\n",
    "    json.dump(collectionManifest, f, ensure_ascii=False, indent=4)"
   ]
  },
  {
   "cell_type": "code",
   "execution_count": null,
   "metadata": {},
   "outputs": [],
   "source": []
  }
 ],
 "metadata": {
  "kernelspec": {
   "display_name": "Python 3",
   "language": "python",
   "name": "python3"
  },
  "language_info": {
   "codemirror_mode": {
    "name": "ipython",
    "version": 3
   },
   "file_extension": ".py",
   "mimetype": "text/x-python",
   "name": "python",
   "nbconvert_exporter": "python",
   "pygments_lexer": "ipython3",
   "version": "3.7.3"
  }
 },
 "nbformat": 4,
 "nbformat_minor": 2
}
