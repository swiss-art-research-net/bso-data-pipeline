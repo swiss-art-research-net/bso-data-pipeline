{
 "cells": [
  {
   "cell_type": "code",
   "execution_count": 64,
   "metadata": {
    "collapsed": true
   },
   "outputs": [],
   "source": [
    "import json\n",
    "import urllib.request\n",
    "import rdflib\n",
    "from os import listdir"
   ]
  },
  {
   "cell_type": "code",
   "execution_count": 65,
   "metadata": {
    "collapsed": true
   },
   "outputs": [],
   "source": [
    "ttlFolder='../output/'\n",
    "ttlOutput='../output/gnd.ttl'"
   ]
  },
  {
   "cell_type": "code",
   "execution_count": 66,
   "metadata": {},
   "outputs": [],
   "source": [
    "inputFiles = []\n",
    "for file in listdir(ttlFolder):\n",
    "    if file.endswith('.ttl'):\n",
    "        inputFiles.append(file)"
   ]
  },
  {
   "cell_type": "code",
   "execution_count": 67,
   "metadata": {},
   "outputs": [],
   "source": [
    "gndIdentifiers = []\n",
    "for file in inputFiles:\n",
    "    g = rdflib.Graph()\n",
    "    g.parse(ttlFolder + file, format='ttl')\n",
    "    queryResults = g.query(\n",
    "    \"\"\"SELECT DISTINCT ?gnd WHERE {\n",
    "        ?s ?p ?gnd .\n",
    "        FILTER(REGEX(STR(?gnd),\"lobid.org\"))\n",
    "    }\"\"\")\n",
    "    for row in queryResults:\n",
    "        gndIdentifiers.append(str(row[0]))\n",
    "gndIdentifiers = list(set(gndIdentifiers))"
   ]
  },
  {
   "cell_type": "code",
   "execution_count": 68,
   "metadata": {},
   "outputs": [],
   "source": [
    "with open(ttlOutput, 'w') as outputFile:\n",
    "    outputFile.write('')\n",
    "    \n",
    "with open(ttlOutput, 'a') as outputFile:\n",
    "    for row in qres:\n",
    "        url = \"%s.ttl\" % row[0]\n",
    "        try:\n",
    "            with urllib.request.urlopen(url) as r:\n",
    "                content = r.read().decode()\n",
    "            outputFile.write(content + \"\\n\")\n",
    "        except:\n",
    "            print(\"Could not retrieve\", url)"
   ]
  },
  {
   "cell_type": "code",
   "execution_count": null,
   "metadata": {
    "collapsed": true
   },
   "outputs": [],
   "source": []
  }
 ],
 "metadata": {
  "kernelspec": {
   "display_name": "Python 3",
   "language": "python",
   "name": "python3"
  },
  "language_info": {
   "codemirror_mode": {
    "name": "ipython",
    "version": 3
   },
   "file_extension": ".py",
   "mimetype": "text/x-python",
   "name": "python",
   "nbconvert_exporter": "python",
   "pygments_lexer": "ipython3",
   "version": "3.6.3"
  }
 },
 "nbformat": 4,
 "nbformat_minor": 2
}
