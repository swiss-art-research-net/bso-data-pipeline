{
 "cells": [
  {
   "cell_type": "code",
   "execution_count": null,
   "metadata": {},
   "outputs": [],
   "source": [
    "import sys\n",
    "!{sys.executable} -m pip install edtf"
   ]
  },
  {
   "cell_type": "code",
   "execution_count": null,
   "metadata": {
    "collapsed": true
   },
   "outputs": [],
   "source": [
    "import csv\n",
    "import json\n",
    "import random\n",
    "import re\n",
    "from collections import OrderedDict\n",
    "from edtf import parse_edtf"
   ]
  },
  {
   "cell_type": "code",
   "execution_count": null,
   "metadata": {
    "collapsed": true
   },
   "outputs": [],
   "source": [
    "inputFile = \"../input/sari_abzug-utf-8_23_04-tsv.txt\"\n",
    "output = \"./output\""
   ]
  },
  {
   "cell_type": "code",
   "execution_count": null,
   "metadata": {
    "collapsed": true
   },
   "outputs": [],
   "source": [
    "with open(inputFile, 'r') as f:\n",
    "    rawData = json.load(f)"
   ]
  },
  {
   "cell_type": "code",
   "execution_count": null,
   "metadata": {
    "collapsed": true
   },
   "outputs": [],
   "source": [
    "datefields = ['100$d', '260$c', '260$g', '264$c', '533$d', '600$d', '611$d', '700$d']"
   ]
  },
  {
   "cell_type": "code",
   "execution_count": null,
   "metadata": {
    "collapsed": true
   },
   "outputs": [],
   "source": [
    "artefactsToRemoveBefore = r'\\[|\\]'\n",
    "monthsGermanFull = r'(Januar)|(Februar)|(März)|(April)|(Mai)|(Juni)|(Juli)|(August)|(September)|(Oktober)|(November)|(Dezember)'\n",
    "monthsGermanAbr = r'(Jan)|(Feb)|(Mär)|(Apr)|(Mai)|(Jun)|(Jul)|(Aug)|(Sept)|(Okt)|(Nov)|(Dez)'\n",
    "monthsFrenchFull = r'(janvier)|(fégenericDatevrier)|(mars)|(avril)|(mai)|(juin)|(juillet)|(aout)|(septembre)|(octobre)|(novembre)|(décembre)'\n",
    "monthsFrenchAbr = r'(janv)|(févr)|(mars)|(avril)|(avr)|(mai)|(juin)|(juil)|(aout)|(aou)|(sept)|(oct)|(nov)|(déc)'\n",
    "monthsEnglishFull = r'(January)|(February)|(March)|(April)|(May)|(June)|(July)|(August)|(September)|(October)|(November)|(December)'\n",
    "monthsEnglishAbr = r'(Jan)|(Feb)|(Mar)|(Apr)|(May)|(Jun)|(Jul)|(Aug)|(Sep)|(Oct)|(Nov)|(Dec)'\n",
    "monthsRoman = r'((?:\\s|\\.)I(?:\\s|\\.))|((?:\\s|\\.)II(?:\\s|\\.))|((?:\\s|\\.)III(?:\\s|\\.))|((?:\\s|\\.)IV(?:\\s|\\.))|((?:\\s|\\.)V(?:\\s|\\.))|((?:\\s|\\.)VI(?:\\s|\\.))|((?:\\s|\\.)VII(?:\\s|\\.))|((?:\\s|\\.)VIII(?:\\s|\\.))|((?:\\s|\\.)IX(?:\\s|\\.))|((?:\\s|\\.)X(?:\\s|\\.))|((?:\\s|\\.)XI(?:\\s|\\.))|((?:\\s|\\.)XII(?:\\s|\\.))'\n",
    "unknowns = r'XX|xx'"
   ]
  },
  {
   "cell_type": "code",
   "execution_count": null,
   "metadata": {},
   "outputs": [],
   "source": [
    "dateVariantsPerField = {}\n",
    "for datefield in datefields:\n",
    "    dateVariants = {}\n",
    "    for row in rawData['rows']:\n",
    "        uuid = row['UUID']\n",
    "        if datefield in row and row[datefield] != None:\n",
    "            date = row[datefield]\n",
    "            for d in date.split('|'):\n",
    "                if d:\n",
    "                    genericDate = re.sub(artefactsToRemoveBefore, '', d)\n",
    "                    genericDate = re.sub(r'\\d','_', genericDate)\n",
    "                    genericDate = re.sub(monthsGermanFull, '🌕🇩🇪', genericDate, flags=re.IGNORECASE)\n",
    "                    genericDate = re.sub(monthsFrenchFull, '🌕🇫🇷', genericDate, flags=re.IGNORECASE)\n",
    "                    genericDate = re.sub(monthsEnglishFull, '🌕🇬🇧', genericDate, flags=re.IGNORECASE)\n",
    "                    genericDate = re.sub(monthsGermanAbr, '🌙🇩🇪', genericDate, flags=re.IGNORECASE)\n",
    "                    genericDate = re.sub(monthsFrenchAbr, '🌙🇫🇷', genericDate, flags=re.IGNORECASE)\n",
    "                    genericDate = re.sub(monthsEnglishAbr, '🌙🇬🇧', genericDate, flags=re.IGNORECASE)\n",
    "                    genericDate = re.sub(unknowns, '❓', genericDate)\n",
    "                    genericDate = re.sub(monthsRoman, ' 🏛 ', genericDate)\n",
    "                    genericDate = genericDate.strip()\n",
    "                    entry = { 'uuid': uuid, 'value': d}\n",
    "                    if genericDate in dateVariants:\n",
    "                        dateVariants[genericDate]['count'] += 1\n",
    "                        dateVariants[genericDate]['examples'].append(entry)\n",
    "                    else:\n",
    "                        dateVariants[genericDate] = {\n",
    "                            'count': 1,\n",
    "                            'examples': [entry]\n",
    "                        }\n",
    "    dateVariantsOrdered = OrderedDict(sorted(dateVariants.items(), key=lambda kv: kv[1]['count'], reverse=True))\n",
    "    dateVariantsPerField[datefield] = dateVariantsOrdered"
   ]
  },
  {
   "cell_type": "markdown",
   "metadata": {
    "collapsed": true
   },
   "source": [
    "# Interpret Values"
   ]
  },
  {
   "cell_type": "code",
   "execution_count": null,
   "metadata": {
    "collapsed": true,
    "scrolled": false
   },
   "outputs": [],
   "source": [
    "uncertaintyQualifiers = 'ca\\.|ca|circa|um|vermutlich um'\n",
    "r = {\n",
    "    'afterYearWithQualifier': r'^(' + uncertaintyQualifiers + ')?(?:nach|nicht vor)\\s?(_{4})\\??$',\n",
    "    'beforeYearWithQualifier': r'^(' + uncertaintyQualifiers + ')?(?:vor|nicht nach)\\s?(_{4})\\??$',\n",
    "    'fullDateWithMonthInLangOrRoman': '_{1,2}(\\.|\\s)*((🌕|🌙)(🇩🇪|🇫🇷|🇬🇧)|🏛)(\\.|\\s)*(_{2,4})',\n",
    "    'monthAndYearWithMonthInLangOrRoman': '((🌕|🌙)(🇩🇪|🇫🇷|🇬🇧)|🏛)(\\.|\\s)*(_{2,4})',\n",
    "    'singleDate': r'(?:i\\.e\\.|den|le)?\\s?(_{1,2}\\._{1,2}\\._{2,4})',\n",
    "    'singleYearWithQualifier': r'^(?:' + uncertaintyQualifiers + '|A°|A°\\.|Anno|anno|gezeichnet nach der Natur)?\\s?(____)\\??$',\n",
    "    'yearRangeWithQualifier': r'(?:ca\\.)?\\s?(?:zwischen)?\\s?(____\\??)\\s?(?:-|und|ud)\\s?(____\\??)',\n",
    "    'yearWithPlaceHolderAndQualifier': r'(__--|___-)'\n",
    "}\n",
    "\n",
    "def cleanDateString(dateString):\n",
    "    s = re.sub('\\[|\\]', '', dateString)\n",
    "    return s\n",
    "\n",
    "def guessMonth(monthString):\n",
    "    monthsGermanFull = [\"Januar\",\"Februar\",\"März\",\"April\",\"Mai\",\"Juni\",\"Juli\",\"August\",\"September\",\"Oktober\",\"November\",\"Dezember\"]\n",
    "    monthsGermanAbr = [\"Jan\",\"Feb\",\"Mär\",\"Apr\",\"Mai\",\"Jun\",\"Jul\",\"Aug\",\"Sept\",\"Okt\",\"Nov\",\"Dez\"]\n",
    "    monthsFrenchFull = [\"janvier\",\"février\",\"mars\",\"avril\",\"mai\",\"juin\",\"juillet\",\"aout\",\"septembre\",\"octobre\",\"novembre\",\"décembre\"]\n",
    "    monthsFrenchAbr = [\"janv\",\"févr\",\"mars\",\"avril\",\"avr\",\"mai\",\"juin\",\"juil\",\"aout\",\"aou\",\"sept\",\"oct\",\"nov\",\"déc\"]\n",
    "    monthsEnglishFull = [\"January\",\"February\",\"March\",\"April\",\"May\",\"June\",\"July\",\"August\",\"September\",\"October\",\"November\",\"December\"]\n",
    "    monthsEnglishAbr = [\"Jan\",\"Feb\",\"Mar\",\"Apr\",\"May\",\"Jun\",\"Jul\",\"Aug\",\"Sep\",\"Oct\",\"Nov\",\"Dec\"]\n",
    "    monthsRoman = [\"I\",\"II\",\"III\",\"IV\",\"V\",\"VI\",\"VII\",\"VIII\",\"IX\",\"X\",\"XI\",\"XII\"]\n",
    "    testOrder = [monthsGermanFull, monthsFrenchFull, monthsEnglishFull, monthsGermanAbr, monthsFrenchAbr, monthsEnglishAbr, monthsRoman]\n",
    "    monthString = re.sub(r'\\.|\\s', '', monthString)\n",
    "    for test in testOrder:\n",
    "        for i, month in enumerate(test):\n",
    "            if month.lower() == monthString.lower():\n",
    "                return i + 1\n",
    "    return 0\n",
    "            \n",
    "def afterYearWithQualifier(dateString):\n",
    "    year = re.search(r'(\\d{4}\\??)', dateString).group(1)\n",
    "    uncertain = re.search(r'(' + uncertaintyQualifiers + ')', dateString)\n",
    "    year = \"/\" + year\n",
    "    if uncertain and not '?' in year:\n",
    "        return year + \"?\"\n",
    "    else:\n",
    "        return year\n",
    "\n",
    "def beforeYearWithQualifier(dateString):\n",
    "    year = re.search(r'(\\d{4}\\??)', dateString).group(1)\n",
    "    uncertain = re.search(r'(' + uncertaintyQualifiers + ')', dateString)\n",
    "    year = \"/\" + year\n",
    "    if uncertain and not '?' in year:\n",
    "        return year + \"?\"\n",
    "    else:\n",
    "        return year\n",
    "\n",
    "def singleYearWithQualifier(dateString):\n",
    "    year = re.search(r'(\\d{4}\\??)', dateString).group(1)\n",
    "    uncertain = re.search(r'(' + uncertaintyQualifiers + ')', dateString)\n",
    "    if uncertain and not '?' in year:\n",
    "        return year + \"?\"\n",
    "    else:\n",
    "        return year\n",
    "\n",
    "def yearRangeWithQualifier(dateString):\n",
    "    years = re.findall(r'(\\d{4}\\??)', dateString)\n",
    "    uncertain = re.search(r'(ca)', dateString)\n",
    "    if uncertain:\n",
    "        for i, year in enumerate(years):\n",
    "            if not '?' in year:\n",
    "                years[i] += '?'\n",
    "    return \"/\".join(years)\n",
    "\n",
    "def singleDate(dateString):\n",
    "    date = re.search(r'\\d{1,2}\\.\\d{1,2}\\.\\d{2,4}', dateString)\n",
    "    return date.group(0)\n",
    "\n",
    "def fullDateWithMonthInLangOrRoman(dateString):\n",
    "    allMonths = '|'.join([monthsGermanFull, monthsFrenchFull, monthsEnglishFull, monthsGermanAbr, monthsFrenchAbr, monthsEnglishAbr, monthsRoman])\n",
    "    datePattern = r'(\\d{1,2})(?:\\.|\\s)*(?:' + allMonths + ')(?:\\.|\\s)*(?:\\d{2,4})'\n",
    "    yearPattern = r'((\\d{2,4})\\.?$|\\d{4})'\n",
    "    try:\n",
    "        date = re.search(datePattern, dateString, flags=re.IGNORECASE).group(1)\n",
    "    except:\n",
    "        date = \"xx\"\n",
    "        \n",
    "    try:\n",
    "        monthWords = re.search(allMonths, dateString, flags=re.IGNORECASE).group(0)\n",
    "        month = str(guessMonth(monthWords))\n",
    "    except:\n",
    "        month = \"xx\"\n",
    "\n",
    "    try:\n",
    "        year = re.search(yearPattern, dateString).group(1)\n",
    "    except:\n",
    "        year = \"xxxx\"\n",
    "    \n",
    "    return '.'.join([date, month, year])\n",
    "\n",
    "def monthAndYearWithMonthInLangOrRoman(dateString):\n",
    "    allMonths = '|'.join([monthsGermanFull, monthsFrenchFull, monthsEnglishFull, monthsGermanAbr, monthsFrenchAbr, monthsEnglishAbr, monthsRoman])\n",
    "    yearPattern = r'((\\d{2,4})\\.?$|\\d{4})'\n",
    "        \n",
    "    try:\n",
    "        monthWords = re.search(allMonths, dateString, flags=re.IGNORECASE).group(0)\n",
    "        month = str(guessMonth(monthWords))\n",
    "    except:\n",
    "        month = \"xx\"\n",
    "\n",
    "    try:\n",
    "        year = re.search(yearPattern, dateString).group(1)\n",
    "    except:\n",
    "        year = \"xxxx\"\n",
    "    \n",
    "    return '.'.join([month, year])\n",
    "\n",
    "def yearWithPlaceHolderAndQualifier(dateString):\n",
    "    uncertain = re.search(r'(ca|\\?)', dateString)\n",
    "    quantifier = '?' if uncertain else ''\n",
    "    m = re.search(r'(\\d{2})--', dateString)\n",
    "    if m:\n",
    "        century = m.group(1)\n",
    "        return \"%s00%s/%s99%s\" % (century, quantifier, century, quantifier)\n",
    "    m = re.search(r'(\\d{3})-', dateString)\n",
    "    if m:\n",
    "        century = m.group(1)\n",
    "        return \"%s0%s/%s9%s\" % (century, quantifier, century, quantifier)\n",
    "\n",
    "def interpret(dateString, pattern):\n",
    "    ds = cleanDateString(dateString)\n",
    "    testOrder = ['singleDate', 'fullDateWithMonthInLangOrRoman', 'monthAndYearWithMonthInLangOrRoman', 'singleYearWithQualifier', 'beforeYearWithQualifier', 'afterYearWithQualifier', 'yearRangeWithQualifier', 'yearWithPlaceHolderAndQualifier']\n",
    "    possibles = globals().copy()\n",
    "    possibles.update(locals())\n",
    "    for test in testOrder:\n",
    "        m = re.search(r[test], pattern)\n",
    "        if m:    \n",
    "            f = possibles.get(test)\n",
    "            if not f:\n",
    "                raise NotImplementedError(\"Function %s not implemented\" % test)\n",
    "            return f(ds)\n",
    "    \n",
    "    return None"
   ]
  },
  {
   "cell_type": "code",
   "execution_count": null,
   "metadata": {},
   "outputs": [],
   "source": [
    "field = '260$c'\n",
    "matches = {\n",
    "    'matched': [],\n",
    "    'notMatched': []\n",
    "}\n",
    "print(len(dateVariantsPerField[field]))\n",
    "for pattern in dateVariantsPerField[field].keys():\n",
    "    example = random.choice(dateVariantsPerField[field][pattern]['examples'])['value']\n",
    "    if not interpret(example, pattern):    \n",
    "        m = re.search(r'(__--|___-)', pattern)\n",
    "        if m:\n",
    "            matches['matched'].append(pattern)\n",
    "#             print(example, \" --> \", yearWithPlaceHolderAndQualifier(example))\n",
    "        else:\n",
    "            matches['notMatched'].append(pattern)\n",
    "\n",
    "# print(\"Matches\")\n",
    "# print(\"\\n\".join(matches['matched']))\n",
    "# print(\"====\\nNot matched\")\n",
    "# print(\"\\n\".join(matches['notMatched']))"
   ]
  },
  {
   "cell_type": "markdown",
   "metadata": {},
   "source": [
    "## Output"
   ]
  },
  {
   "cell_type": "code",
   "execution_count": null,
   "metadata": {
    "collapsed": true
   },
   "outputs": [],
   "source": [
    "for field in datefields:\n",
    "    with open(output + '/dateVariants-' + field + '.csv', 'w') as csvfile:\n",
    "        csvwriter = csv.writer(csvfile, delimiter=',',quotechar='\"', quoting=csv.QUOTE_MINIMAL)\n",
    "        csvwriter.writerow(('Format', 'Appearances', 'Example', 'Interpretation'))\n",
    "        for k, d in enumerate(dateVariantsPerField[field]):\n",
    "            example = dateVariantsPerField[field][d]['examples'][0]['value']\n",
    "            csvwriter.writerow((d, dateVariantsPerField[field][d]['count'], example, interpret(example, d)))"
   ]
  },
  {
   "cell_type": "code",
   "execution_count": null,
   "metadata": {
    "collapsed": true
   },
   "outputs": [],
   "source": []
  }
 ],
 "metadata": {
  "kernelspec": {
   "display_name": "Python 3",
   "language": "python",
   "name": "python3"
  },
  "language_info": {
   "codemirror_mode": {
    "name": "ipython",
    "version": 3
   },
   "file_extension": ".py",
   "mimetype": "text/x-python",
   "name": "python",
   "nbconvert_exporter": "python",
   "pygments_lexer": "ipython3",
   "version": "3.6.3"
  }
 },
 "nbformat": 4,
 "nbformat_minor": 2
}
