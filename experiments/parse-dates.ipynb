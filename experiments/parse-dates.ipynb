{
 "cells": [
  {
   "cell_type": "code",
   "execution_count": null,
   "metadata": {},
   "outputs": [],
   "source": [
    "import sys\n",
    "!{sys.executable} -m pip install edtf"
   ]
  },
  {
   "cell_type": "code",
   "execution_count": null,
   "metadata": {
    "collapsed": true
   },
   "outputs": [],
   "source": [
    "import csv\n",
    "import json\n",
    "import random\n",
    "import re\n",
    "from collections import OrderedDict\n",
    "from edtf import parse_edtf"
   ]
  },
  {
   "cell_type": "code",
   "execution_count": null,
   "metadata": {
    "collapsed": true
   },
   "outputs": [],
   "source": [
    "inputFile = \"../input/sari_abzug-utf-8_23_04-tsv.txt\"\n",
    "output = \"./output\""
   ]
  },
  {
   "cell_type": "code",
   "execution_count": null,
   "metadata": {
    "collapsed": true
   },
   "outputs": [],
   "source": [
    "with open(inputFile, 'r') as f:\n",
    "    rawData = json.load(f)"
   ]
  },
  {
   "cell_type": "code",
   "execution_count": null,
   "metadata": {
    "collapsed": true
   },
   "outputs": [],
   "source": [
    "datefields = ['100$d', '260$c', '260$g', '264$c', '533$d', '600$d', '611$d', '700$d']"
   ]
  },
  {
   "cell_type": "code",
   "execution_count": null,
   "metadata": {
    "collapsed": true
   },
   "outputs": [],
   "source": [
    "monthsGermanFull = r'(Januar)|(Februar)|(März)|(April)|(Mai)|(Juni)|(Juli)|(August)|(September)|(Oktober)|(November)|(Dezember)'\n",
    "monthsGermanAbr = r'(Jan)|(Feb)|(Mär)|(Apr)|(Mai)|(Jun)|(Jul)|(Aug)|(Sept)|(Okt)|(Nov)|(Dez)'\n",
    "monthsFrenchFull = r'(janvier)|(février)|(mars)|(avril)|(mai)|(juin)|(juillet)|(aout)|(septembre)|(octobre)|(novembre)|(décembre)'\n",
    "monthsFrenchAbr = r'(janv)|(févr)|(mars)|(avril)|(avr)|(mai)|(juin)|(juil)|(aout)|(aou)|(sept)|(oct)|(nov)|(déc)'\n",
    "monthsEnglishFull = r'(January)|(February)|(March)|(April)|(May)|(June)|(July)|(August)|(September)|(October)|(November)|(December)'\n",
    "monthsEnglishAbr = r'(Jan)|(Feb)|(Mar)|(Apr)|(May)|(Jun)|(Jul)|(Aug)|(Sep)|(Oct)|(Nov)|(Dec)'\n",
    "numeralRomans = r'(VIII)|(III)|(IV)|(VI)|(VII)|(V)|(IX)|(X)|II|I'\n",
    "remaining = r'[A-z]'\n",
    "unknowns = r'XX|xx'"
   ]
  },
  {
   "cell_type": "code",
   "execution_count": null,
   "metadata": {},
   "outputs": [],
   "source": [
    "dateVariantsPerField = {}\n",
    "for datefield in datefields:\n",
    "    dateVariants = {}\n",
    "    for row in rawData['rows']:\n",
    "        uuid = row['UUID']\n",
    "        if datefield in row and row[datefield] != None:\n",
    "            date = row[datefield]\n",
    "            for d in date.split('|'):\n",
    "                if d:\n",
    "                    genericDate = re.sub(r'\\d','_', d)\n",
    "                    genericDate = re.sub(monthsGermanFull, '🌕🇩🇪', genericDate, flags=re.IGNORECASE)\n",
    "                    genericDate = re.sub(monthsFrenchFull, '🌕🇫🇷', genericDate, flags=re.IGNORECASE)\n",
    "                    genericDate = re.sub(monthsEnglishFull, '🌕🇬🇧', genericDate, flags=re.IGNORECASE)\n",
    "                    genericDate = re.sub(monthsGermanAbr, '🌙🇩🇪', genericDate, flags=re.IGNORECASE)\n",
    "                    genericDate = re.sub(monthsFrenchAbr, '🌙🇫🇷', genericDate, flags=re.IGNORECASE)\n",
    "                    genericDate = re.sub(monthsEnglishAbr, '🌙🇬🇧', genericDate, flags=re.IGNORECASE)\n",
    "                    genericDate = re.sub(unknowns, '❓', genericDate)\n",
    "                    genericDate = re.sub(numeralRomans, '🏛', genericDate)\n",
    "                    #genericDate = re.sub(remaining, '', genericDate)\n",
    "                    genericDate = genericDate.strip()\n",
    "                    entry = { 'uuid': uuid, 'value': d}\n",
    "                    if genericDate in dateVariants:\n",
    "                        dateVariants[genericDate]['count'] += 1\n",
    "                        dateVariants[genericDate]['examples'].append(entry)\n",
    "                    else:\n",
    "                        dateVariants[genericDate] = {\n",
    "                            'count': 1,\n",
    "                            'examples': [entry]\n",
    "                        }\n",
    "    dateVariantsOrdered = OrderedDict(sorted(dateVariants.items(), key=lambda kv: kv[1]['count'], reverse=True))\n",
    "    dateVariantsPerField[datefield] = dateVariantsOrdered"
   ]
  },
  {
   "cell_type": "code",
   "execution_count": null,
   "metadata": {},
   "outputs": [],
   "source": [
    "for field in datefields:\n",
    "    with open(output + '/dateVariants-' + field + '.csv', 'w') as csvfile:\n",
    "        csvwriter = csv.writer(csvfile, delimiter=',',quotechar='\"', quoting=csv.QUOTE_MINIMAL)\n",
    "        csvwriter.writerow(('Format', 'Appearances', 'Example'))\n",
    "        for k, d in enumerate(dateVariantsPerField[field]):\n",
    "            csvwriter.writerow((d, dateVariantsPerField[field][d]['count'], dateVariantsPerField[field][d]['examples'][0]['value']))\n"
   ]
  },
  {
   "cell_type": "markdown",
   "metadata": {
    "collapsed": true
   },
   "source": [
    "# Interpret Values"
   ]
  },
  {
   "cell_type": "code",
   "execution_count": null,
   "metadata": {},
   "outputs": [],
   "source": [
    "field = '260$c'"
   ]
  },
  {
   "cell_type": "code",
   "execution_count": null,
   "metadata": {
    "scrolled": false
   },
   "outputs": [],
   "source": [
    "uncertaintyQualifiers = 'ca\\.|ca|circa|um|vermutlich um'\n",
    "r = {\n",
    "    'singleYearWithQualifier': r'^\\[?(?:' + uncertaintyQualifiers + '|A°|A°\\.|Anno|a\\[nn\\]o|gezeichnet nach der Natur)?\\s?(____)\\??\\]?$',\n",
    "    'yearRangeWithQualifier': r'(?:ca\\.)?\\s?(?:zwischen)?\\s?(____\\??)\\s?(?:-|und|ud)\\s?(____\\??)'\n",
    "}\n",
    "\n",
    "def singleYearWithQualifier(dateString):\n",
    "    year = re.search(r'(\\d{4}\\??)', dateString).group(1)\n",
    "    uncertain = re.search(r'(' + uncertaintyQualifiers + ')', dateString)\n",
    "    if uncertain:\n",
    "        return year + \"?\"\n",
    "    else:\n",
    "        return year\n",
    "\n",
    "def yearRangeWithQualifier(dateString):\n",
    "    years = re.findall(r'(\\d{4}\\??)', dateString)\n",
    "    uncertain = re.search(r'(ca)', dateString)\n",
    "    if uncertain:\n",
    "        for i, year in enumerate(years):\n",
    "            if not '?' in year:\n",
    "                years[i] += '?'\n",
    "    return \"/\".join(years)\n",
    "\n",
    "def interpret(dateString, pattern):\n",
    "    m = re.search(r['singleYearWithQualifier'], pattern)\n",
    "    if m:\n",
    "        return singleYearWithQualifier(dateString)\n",
    "    \n",
    "    m = re.search(r['yearRangeWithQualifier'])\n",
    "    if m:\n",
    "        return yearRangeWithQualifier(dateString)\n",
    "    \n",
    "    return None"
   ]
  },
  {
   "cell_type": "code",
   "execution_count": null,
   "metadata": {},
   "outputs": [],
   "source": [
    "matches = {\n",
    "    'matched': [],\n",
    "    'notMatched': []\n",
    "}\n",
    "for pattern in dateVariantsPerField[field].keys():\n",
    "\n",
    "    m = re.search(r['yearRangeWithQualifier'], pattern)\n",
    "    if m:\n",
    "        matches['matched'].append(pattern)\n",
    "        example = random.choice(dateVariantsPerField[field][pattern]['examples'])['value']\n",
    "        print(example, \" --> \", yearRangeWithQualifier(example))\n",
    "    else:\n",
    "        matches['notMatched'].append(pattern)\n",
    "\n",
    "print(\"Matches\")\n",
    "print(\"\\n\".join(matches['matched']))\n",
    "print(\"====\\nNot matched\")\n",
    "print(\"\\n\".join(matches['notMatched']))"
   ]
  }
 ],
 "metadata": {
  "kernelspec": {
   "display_name": "Python 3",
   "language": "python",
   "name": "python3"
  },
  "language_info": {
   "codemirror_mode": {
    "name": "ipython",
    "version": 3
   },
   "file_extension": ".py",
   "mimetype": "text/x-python",
   "name": "python",
   "nbconvert_exporter": "python",
   "pygments_lexer": "ipython3",
   "version": "3.6.3"
  }
 },
 "nbformat": 4,
 "nbformat_minor": 2
}
