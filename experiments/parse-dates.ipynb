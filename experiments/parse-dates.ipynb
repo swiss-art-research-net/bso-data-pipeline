{
 "cells": [
  {
   "cell_type": "code",
   "execution_count": 1,
   "metadata": {},
   "outputs": [
    {
     "name": "stdout",
     "output_type": "stream",
     "text": [
      "Requirement already satisfied: edtf in /Users/fkraeutli/anaconda/lib/python3.6/site-packages (4.0.1)\n",
      "Requirement already satisfied: python-dateutil in /Users/fkraeutli/anaconda/lib/python3.6/site-packages (from edtf) (2.7.2)\n",
      "Requirement already satisfied: six in /Users/fkraeutli/anaconda/lib/python3.6/site-packages (from edtf) (1.11.0)\n",
      "Requirement already satisfied: pyparsing in /Users/fkraeutli/anaconda/lib/python3.6/site-packages (from edtf) (2.2.0)\n",
      "\u001b[33mWARNING: You are using pip version 20.1.1; however, version 20.2.4 is available.\n",
      "You should consider upgrading via the '/Users/fkraeutli/anaconda/bin/python -m pip install --upgrade pip' command.\u001b[0m\n"
     ]
    }
   ],
   "source": [
    "import sys\n",
    "!{sys.executable} -m pip install edtf"
   ]
  },
  {
   "cell_type": "code",
   "execution_count": 2,
   "metadata": {
    "collapsed": true
   },
   "outputs": [],
   "source": [
    "import csv\n",
    "import json\n",
    "import random\n",
    "import re\n",
    "from collections import OrderedDict\n",
    "from edtf import parse_edtf"
   ]
  },
  {
   "cell_type": "code",
   "execution_count": 3,
   "metadata": {
    "collapsed": true
   },
   "outputs": [],
   "source": [
    "inputFile = \"../input/sari_abzug-utf-8_23_04-tsv.txt\"\n",
    "output = \"./output\""
   ]
  },
  {
   "cell_type": "code",
   "execution_count": 4,
   "metadata": {
    "collapsed": true
   },
   "outputs": [],
   "source": [
    "with open(inputFile, 'r') as f:\n",
    "    rawData = json.load(f)"
   ]
  },
  {
   "cell_type": "code",
   "execution_count": 5,
   "metadata": {
    "collapsed": true
   },
   "outputs": [],
   "source": [
    "datefields = ['100$d', '260$c', '260$g', '264$c', '533$d', '600$d', '611$d', '700$d']"
   ]
  },
  {
   "cell_type": "code",
   "execution_count": 6,
   "metadata": {
    "collapsed": true
   },
   "outputs": [],
   "source": [
    "monthsGermanFull = r'(Januar)|(Februar)|(März)|(April)|(Mai)|(Juni)|(Juli)|(August)|(September)|(Oktober)|(November)|(Dezember)'\n",
    "monthsGermanAbr = r'(Jan)|(Feb)|(Mär)|(Apr)|(Mai)|(Jun)|(Jul)|(Aug)|(Sept)|(Okt)|(Nov)|(Dez)'\n",
    "monthsFrenchFull = r'(janvier)|(février)|(mars)|(avril)|(mai)|(juin)|(juillet)|(aout)|(septembre)|(octobre)|(novembre)|(décembre)'\n",
    "monthsFrenchAbr = r'(janv)|(févr)|(mars)|(avril)|(avr)|(mai)|(juin)|(juil)|(aout)|(aou)|(sept)|(oct)|(nov)|(déc)'\n",
    "monthsEnglishFull = r'(January)|(February)|(March)|(April)|(May)|(June)|(July)|(August)|(September)|(October)|(November)|(December)'\n",
    "monthsEnglishAbr = r'(Jan)|(Feb)|(Mar)|(Apr)|(May)|(Jun)|(Jul)|(Aug)|(Sep)|(Oct)|(Nov)|(Dec)'\n",
    "numeralRomans = r'(VIII)|(III)|(IV)|(VI)|(VII)|(V)|(IX)|(X)|II|I'\n",
    "remaining = r'[A-z]'\n",
    "unknowns = r'XX|xx'"
   ]
  },
  {
   "cell_type": "code",
   "execution_count": 7,
   "metadata": {},
   "outputs": [],
   "source": [
    "dateVariantsPerField = {}\n",
    "for datefield in datefields:\n",
    "    dateVariants = {}\n",
    "    for row in rawData['rows']:\n",
    "        uuid = row['UUID']\n",
    "        if datefield in row and row[datefield] != None:\n",
    "            date = row[datefield]\n",
    "            for d in date.split('|'):\n",
    "                if d:\n",
    "                    genericDate = re.sub(r'\\d','_', d)\n",
    "                    genericDate = re.sub(monthsGermanFull, '🌕🇩🇪', genericDate, flags=re.IGNORECASE)\n",
    "                    genericDate = re.sub(monthsFrenchFull, '🌕🇫🇷', genericDate, flags=re.IGNORECASE)\n",
    "                    genericDate = re.sub(monthsEnglishFull, '🌕🇬🇧', genericDate, flags=re.IGNORECASE)\n",
    "                    genericDate = re.sub(monthsGermanAbr, '🌙🇩🇪', genericDate, flags=re.IGNORECASE)\n",
    "                    genericDate = re.sub(monthsFrenchAbr, '🌙🇫🇷', genericDate, flags=re.IGNORECASE)\n",
    "                    genericDate = re.sub(monthsEnglishAbr, '🌙🇬🇧', genericDate, flags=re.IGNORECASE)\n",
    "                    genericDate = re.sub(unknowns, '❓', genericDate)\n",
    "                    genericDate = re.sub(numeralRomans, '🏛', genericDate)\n",
    "                    #genericDate = re.sub(remaining, '', genericDate)\n",
    "                    genericDate = genericDate.strip()\n",
    "                    entry = { 'uuid': uuid, 'value': d}\n",
    "                    if genericDate in dateVariants:\n",
    "                        dateVariants[genericDate]['count'] += 1\n",
    "                        dateVariants[genericDate]['examples'].append(entry)\n",
    "                    else:\n",
    "                        dateVariants[genericDate] = {\n",
    "                            'count': 1,\n",
    "                            'examples': [entry]\n",
    "                        }\n",
    "    dateVariantsOrdered = OrderedDict(sorted(dateVariants.items(), key=lambda kv: kv[1]['count'], reverse=True))\n",
    "    dateVariantsPerField[datefield] = dateVariantsOrdered"
   ]
  },
  {
   "cell_type": "markdown",
   "metadata": {
    "collapsed": true
   },
   "source": [
    "# Interpret Values"
   ]
  },
  {
   "cell_type": "code",
   "execution_count": 8,
   "metadata": {},
   "outputs": [],
   "source": [
    "field = '260$c'"
   ]
  },
  {
   "cell_type": "code",
   "execution_count": 9,
   "metadata": {
    "scrolled": false
   },
   "outputs": [],
   "source": [
    "uncertaintyQualifiers = 'ca\\.|ca|circa|um|vermutlich um'\n",
    "r = {\n",
    "    'singleYearWithQualifier': r'^\\[?(?:' + uncertaintyQualifiers + '|A°|A°\\.|Anno|a\\[nn\\]o|gezeichnet nach der Natur)?\\s?(____)\\??\\]?$',\n",
    "    'yearRangeWithQualifier': r'(?:ca\\.)?\\s?(?:zwischen)?\\s?(____\\??)\\s?(?:-|und|ud)\\s?(____\\??)',\n",
    "    'singleDate': r'(?:i\\.e\\.|den|le)?\\s?(_{1,2}\\._{1,2}\\._{2,4})'\n",
    "}\n",
    "\n",
    "def singleYearWithQualifier(dateString):\n",
    "    year = re.search(r'(\\d{4}\\??)', dateString).group(1)\n",
    "    uncertain = re.search(r'(' + uncertaintyQualifiers + ')', dateString)\n",
    "    if uncertain and not '?' in year:\n",
    "        return year + \"?\"\n",
    "    else:\n",
    "        return year\n",
    "\n",
    "def yearRangeWithQualifier(dateString):\n",
    "    years = re.findall(r'(\\d{4}\\??)', dateString)\n",
    "    uncertain = re.search(r'(ca)', dateString)\n",
    "    if uncertain:\n",
    "        for i, year in enumerate(years):\n",
    "            if not '?' in year:\n",
    "                years[i] += '?'\n",
    "    return \"/\".join(years)\n",
    "\n",
    "def singleDate(dateString):\n",
    "    date = re.search(r'\\d{1,2}\\.\\d{1,2}\\.\\d{2,4}', dateString)\n",
    "    return date.group(0)\n",
    "\n",
    "def interpret(dateString, pattern):\n",
    "    m = re.search(r['singleDate'], pattern)\n",
    "    if m:\n",
    "        return singleDate(dateString)\n",
    "    \n",
    "    m = re.search(r['singleYearWithQualifier'], pattern)\n",
    "    if m:\n",
    "        return singleYearWithQualifier(dateString)\n",
    "    \n",
    "    m = re.search(r['yearRangeWithQualifier'], pattern)\n",
    "    if m:\n",
    "        return yearRangeWithQualifier(dateString)\n",
    "    \n",
    "    \n",
    "    \n",
    "    return None"
   ]
  },
  {
   "cell_type": "code",
   "execution_count": 10,
   "metadata": {},
   "outputs": [
    {
     "name": "stdout",
     "output_type": "stream",
     "text": [
      "15 IX 92 [i.e. 15.9.1892]  -->  15.9.1892\n",
      "21 Sept 99 [i.e. 21.9.1899]  -->  21.9.1899\n",
      "14 April 63 [i.e. 14.4.1863]  -->  14.4.1863\n",
      "5 April 62 [i.e. 5.4.1862]  -->  5.4.1862\n",
      "27 VIII. 04 [i.e. 27.8.1904]  -->  27.8.1904\n",
      "2 Aug 65 [i.e. 2.8.1865]  -->  2.8.1865\n",
      "7 VIII 03 [i.e. 7.8.1903]  -->  7.8.1903\n",
      "6 IX. 06 [i.e. 6.9.1906]  -->  6.9.1906\n",
      "1 Oct 63 [i.e. 1.10.1863]  -->  1.10.1863\n",
      "20 Aug. 09 [i.e. 20.8.1909]  -->  20.8.1909\n",
      "2 X. 93 [i.e. 2.10.1893]  -->  2.10.1893\n",
      "18 Oct 66 [i.e. 18.10.1866]  -->  18.10.1866\n",
      "5 Sept. 99 [i.e. 5.9.1899]  -->  5.9.1899\n",
      "24. VIII. 93 [i.e. 24.8.1893]  -->  24.8.1893\n",
      "7 X 90 [i.e. 7.10.1890]  -->  7.10.1890\n",
      "31 X 89 [i.e. 31.10.1889]  -->  31.10.1889\n",
      "19/20 Sept 99 [i.e. 19./20.9.1899]  -->  20.9.1899\n",
      "19 Nov 58 [i.e. 19.11.1858]  -->  19.11.1858\n",
      "8. IV. 94 [i.e. 8.4.1894]  -->  8.4.1894\n",
      "22. Juli 95 [i.e. 22.7.1895]  -->  22.7.1895\n",
      "4/5 IV. 94 [i.e. 4./5.4.1894]  -->  5.4.1894\n",
      "24/4/97 [i.e. 24.4.1897]  -->  24.4.1897\n",
      "4 Oct. 98 [i.e. 4.10.1898]  -->  4.10.1898\n",
      "30. VIII 93 [i.e. 30.8.1893]  -->  30.8.1893\n",
      "27 Mai 60 aufg. [i.e. 27.5.1860]  -->  27.5.1860\n",
      "1 April 60. aufg. [i.e. 1.4.1860]  -->  1.4.1860\n",
      "7 Maerz 60 [i.e. 7.3.1860]  -->  7.3.1860\n",
      "13/15 VIII 05 [i.e. 13./15.8.1905]  -->  15.8.1905\n",
      "24/30 VIII. 06 [i.e. 24./30.8.1906]  -->  30.8.1906\n",
      "cop. 28 IX. 05 [i.e. 28.9.1905]  -->  28.9.1905\n",
      "19/26 Sept. 05 [i.e. 19./26.9.1905]  -->  26.9.1905\n",
      "31/I 09 [i.e. 31.1.1909]  -->  31.1.1909\n",
      "27 Novb 66 [i.e. 27.11.1866]  -->  27.11.1866\n",
      "13 Febr 67 [i.e. 13.2.1867]  -->  13.2.1867\n",
      "1784.9.15  -->  84.9.15\n",
      "4 März 62 [.i.e. 4.3.1862]  -->  4.3.1862\n",
      "aufg. 29 Juni 59 [i.e. 29.6.1859]  -->  29.6.1859\n",
      "5/6 Sept. 11 [i.e. 5./6.9.1911]  -->  6.9.1911\n",
      "25 4 73 [i.e. 25.4.1873]  -->  25.4.1873\n",
      "16 / 17 IX 92 [i.e. 16./17.9.1892]  -->  17.9.1892\n",
      "4 April 60 aufg. [i.e. 4.4.1860]  -->  4.4.1860\n",
      "26 III 904 [i.e. 26.3.1904]  -->  26.3.1904\n",
      "2 Aug. 97 [i.e. 28.8.1897]  -->  28.8.1897\n",
      "4 Nov 66 [i.e. 4.11.1866]  -->  4.11.1866\n",
      "12 Novbr 66 [i.e. 12.11.1866]  -->  12.11.1866\n",
      "7 Dez. 66 [i.e. 7.12.1866]  -->  7.12.1866\n",
      "Aufgenommen 28 Octb 60 [i.e. 28.10.1860]  -->  28.10.1860\n",
      "Aufgenommen 8 Juli 60 [i.e. 8.7.1860]  -->  8.7.1860\n",
      "[8.7.1860]  -->  8.7.1860\n",
      "le 13.7.1785  -->  13.7.1785\n",
      "den 17.8.1785 um 9 Uhr dess Morgens  -->  17.8.1785\n",
      "den 20.8.1785 um 10 Uhr des Morgens  -->  20.8.1785\n",
      "le 18.11.1786  -->  18.11.1786\n",
      "7 X 89 [i.e.7.10.1889]  -->  7.10.1889\n",
      "aufgen. 11 Sept 59 [i.e. 11.9.1859]  -->  11.9.1859\n",
      "[11] Sept 59 sowie am rechten Bildrand 24 Oct 59 [i.e. 11.9. bzw. 24.10.1859]  -->  24.10.1859\n",
      "17 Oct[...] 61 [17.10.1861]  -->  17.10.1861\n",
      "11 Sept 59 / 21 Oct 59 [i.e. 11.9. bzw. 21.10.1859]  -->  21.10.1859\n",
      "11. [Juni 58] [i.e. 11.6.1858]  -->  11.6.1858\n",
      "2[3] Aug 09 [i.e. 23.8.1909]  -->  23.8.1909\n",
      "30 V 89 ziemlich genau [i.e. 30.5.1889]  -->  30.5.1889\n",
      "29 Dec 81 [i.e. 29.12.1881]  -->  29.12.1881\n",
      "le 21.7.1785 à 12h.  -->  21.7.1785\n",
      "le 31.7.1785. à 11 heures du matin  -->  31.7.1785\n",
      "le 11.8.1785. à 6.h. du matin  -->  11.8.1785\n",
      "le 10.8.1785. à 10h. du matin  -->  10.8.1785\n",
      "den 25.8.1785 10. [Uhr]  -->  25.8.1785\n",
      "18/19. II. 99 [i.e. 18./19.2.1899]  -->  19.2.1899\n",
      "2. Sept 61 [i.e. 2.9.1861]  -->  2.9.1861\n",
      "2 Sept 61 [i.e.2.9.1861]  -->  2.9.1861\n",
      "8 Sept. 11 [8.9.1911]  -->  8.9.1911\n",
      "20 XI. 95 [i.e. 20.11.1895]  -->  20.11.1895\n",
      "23. VII. 92 [i.e. 23.7.1892]  -->  23.7.1892\n",
      "20 July 61 [i.e. 20.7.1861]  -->  20.7.1861\n",
      "ad. nat. 18.11.1818.  -->  18.11.1818\n",
      "16 / 19 Oct 59 [i.e. 16./19.10.1859]  -->  19.10.1859\n",
      "18 Octob 59 [i.e. 18.10.1859]  -->  18.10.1859\n",
      "Aufg 18 März 60 [i.e. 18.3.1860]  -->  18.3.1860\n",
      "18 März 60 aufg [i.e. 18.3.1860]  -->  18.3.1860\n",
      "aufgen 31 Juli 59 [i.e. 31.7.1859]  -->  31.7.1859\n",
      "4. März 62 [i.e. 4.3.1862]  -->  4.3.1862\n",
      "30 IX 92 [i.e.30.9.1892]  -->  30.9.1892\n",
      "4. April 60 aufg. [i.e. 4.4.1860]  -->  4.4.1860\n",
      "22 Mai 89 genau [i.e. 22.5.1889]  -->  22.5.1889\n",
      "Palmsonntag 22 III 91 [i.e. 22.3.1891]  -->  22.3.1891\n",
      "Pfingstsonntag 5 VI. 92 [i.e. 5.6.1892]  -->  5.6.1892\n",
      "5 Sep 58 [i.e. 5.9.1858]  -->  5.9.1858\n",
      "13 X. 90 [i.e. 13.10.1890]  -->  13.10.1890\n",
      "19 VII 93 [i.e. 19.7.1893]  -->  19.7.1893\n",
      "Ostermontag 8 IV. 1901 [i.e. 8.4.1901]  -->  8.4.1901\n",
      "23.6.1897  -->  23.6.1897\n",
      "Aufg. 19 Sept. 58 [i.e. 19.9.1858]  -->  19.9.1858\n",
      "2.11.20.86 [i.e. [?] 1886]  -->  2.11.20\n",
      "12 Oct. 65 [i.e. 12.10.1865]  -->  12.10.1865\n",
      "Aufg.9 Juli 59 [i.e. 9.7.1859]  -->  9.7.1859\n",
      "Aufge 21 April 60 [i.e. 21.4.1860]  -->  21.4.1860\n",
      "6/7 IX 09 [i.e. 6./7.9.1909]  -->  7.9.1909\n",
      "8 Juli 59 aufg [i.e. 8.7.1859]  -->  8.7.1859\n",
      "Aufg. 7 Juli 59 [i.e. 7.7.1859]  -->  7.7.1859\n",
      "15 VII. 04 [i.e. 14.7.1904]  -->  14.7.1904\n",
      "22/24 VIII 08 [i.e. 22./.24.8.1908]  -->  24.8.1908\n",
      "8 VIII.05 [i.e. 8.8.1905]  -->  8.8.1905\n",
      "9/10 Aug. 05 [i.e. 9./10.8.1905]  -->  10.8.1905\n",
      "Ostermontag bei Regen 4 IV 904 [i.e. 4.4.1904]  -->  4.4.1904\n",
      "3 X. 903 [i.e. 3.10.1903]  -->  3.10.1903\n",
      "19 VIII / 5.IX. 06 [i.e. 19.8./5.9.1906]  -->  5.9.1906\n",
      "2 10 91 [i.e. 2.10.1891]  -->  2.10.1891\n",
      "5 Aug 94 [oben], 4 Aug 94 [unten], [i.e. 8.5. bzw. 4.8.1894]  -->  4.8.1894\n",
      "cop 29 IX. 05 [i.e. 29.9.1905]  -->  29.9.1905\n",
      "18 VIII 92 bei 30° Celsius [i.e. 18.8.1892]  -->  18.8.1892\n",
      "18 VIII 92 bei 32° Celsius! [i.e. 18.8.1892]  -->  18.8.1892\n",
      "7/12 IX 04 [i.e. 7./12.9.1904]  -->  12.9.1904\n",
      "1/2 X 93 [i.e. 1./.2.10.1893]  -->  2.10.1893\n",
      "6/7. IX. 05 [i.e. 6./7.9.1905]  -->  7.9.1905\n",
      "Aufg 18 VIII 05 [i.e. 18.8.1905]  -->  18.8.1905\n",
      "Aufgenommen 21 Octbr 60 [i.e. 21.10.1860]  -->  21.10.1860\n",
      "24 Maerz 96 [i.e. 24.3.1896]  -->  24.3.1896\n",
      "22. 3 96 [i.e. 22.3.1896]  -->  22.3.1896\n",
      "2 Novb. 62 [i.e. 2.11.1862]  -->  2.11.1862\n",
      "zwischen 23. VI. 97 und 30 VI. 97 [i.e. zwischen 23.6. und 30.6.1897]  -->  30.6.1897\n",
      "9 April 62 und 10. April [i.e. 9.4. und 10.4.1862]  -->  10.4.1862\n",
      "9 April [i.e. 9.4.1862]  -->  9.4.1862\n",
      "28 Septb 63 [i.e. 28.9.1863]  -->  28.9.1863\n",
      "14 Mai 64 1/2 5 Uhr abd. [i.e. 14.5.1864, 16.30 Uhr]  -->  14.5.1864\n",
      "14 Mai 64 6 Uhr 10 Min [i.e. 14.5.1864, 6.10 Uhr]  -->  14.5.1864\n",
      "6 Oct 63 i.e. 6.10.1863]  -->  6.10.1863\n",
      "6. VIII. 93 [6.8.1893]  -->  6.8.1893\n",
      "27. VIII. 93 [27.8.1893]  -->  27.8.1893\n",
      "1 Aug [i.e. 1.8.1863]  -->  1.8.1863\n",
      "1/2 Aug 63 [i.e. 1./2.8.1863]  -->  2.8.1863\n",
      "7 Septbr 65 [i.e. 7.9.1865]  -->  7.9.1865\n",
      "7/8 Mai 67 [i.e. 7./8.5.1867]  -->  8.5.1867\n",
      "Sonnabend 11 May 67 [i.e. 11.5.1867]  -->  11.5.1867\n",
      "21/V. 67 [i.e. 21.5.1867]  -->  21.5.1867\n",
      "[20.10.1866]  -->  20.10.1866\n",
      "8 Novb 66 [i.e. 8.11.1866]  -->  8.11.1866\n",
      "8/9 Nov 66 [i.e. 8./9.11.1866]  -->  9.11.1866\n",
      "12 November 66 [i.e. 12.11.1866]  -->  12.11.1866\n",
      "25 Nov 66 (nach Laspeyres) [i.e. 25.11.1866]  -->  25.11.1866\n",
      "21 Dez. 66 [i.e. 21.12.1866]  -->  21.12.1866\n",
      "22. XII 66 [i.e. 22.12.1866]  -->  22.12.1866\n",
      "[23.1.1867]  -->  23.1.1867\n",
      "2/3 Maerz 67 [i.e. 2./3.3.1867]  -->  3.3.1867\n",
      "II Maerz 67 [i.e. 2.3.1867]  -->  2.3.1867\n",
      "Aufg. 6 Oct. 60 [i.e. 6.10.1860]  -->  6.10.1860\n",
      "7/8 Oct 95 [i.e. 7./8.10.1895]  -->  8.10.1895\n",
      "Aufgenommen 6/7 Sept. 60 [i.e. 6./7.9.1860]  -->  7.9.1860\n",
      "Aufgenommen 21 Oct 60 [oben], aufgenommen 28 Oct 60 [unten] [i.e. 21. bzw. 28.10.1860]  -->  28.10.1860\n",
      "[16.-18.6.1655?]  -->  18.6.1655\n",
      "aufgen. 8 Juli 60 [i.e. 8.7.1860]  -->  8.7.1860\n",
      "Aufgenommen am 17 Aug 60 [i.e. 17.8.1860]  -->  17.8.1860\n"
     ]
    }
   ],
   "source": [
    "matches = {\n",
    "    'matched': [],\n",
    "    'notMatched': []\n",
    "}\n",
    "for pattern in dateVariantsPerField[field].keys():\n",
    "\n",
    "    m = re.search(r'(?:i\\.e\\.|den|le)?\\s?(_{1,2}\\._{1,2}\\._{2,4})', pattern)\n",
    "    if m:\n",
    "        matches['matched'].append(pattern)\n",
    "        example = random.choice(dateVariantsPerField[field][pattern]['examples'])['value']\n",
    "        print(example, \" --> \", singleDate(example))\n",
    "    else:\n",
    "        matches['notMatched'].append(pattern)\n",
    "\n",
    "# print(\"Matches\")\n",
    "# print(\"\\n\".join(matches['matched']))\n",
    "# print(\"====\\nNot matched\")\n",
    "# print(\"\\n\".join(matches['notMatched']))"
   ]
  },
  {
   "cell_type": "markdown",
   "metadata": {},
   "source": [
    "## Output"
   ]
  },
  {
   "cell_type": "code",
   "execution_count": 11,
   "metadata": {},
   "outputs": [],
   "source": [
    "for field in datefields:\n",
    "    with open(output + '/dateVariants-' + field + '.csv', 'w') as csvfile:\n",
    "        csvwriter = csv.writer(csvfile, delimiter=',',quotechar='\"', quoting=csv.QUOTE_MINIMAL)\n",
    "        csvwriter.writerow(('Format', 'Appearances', 'Example', 'Interpretation'))\n",
    "        for k, d in enumerate(dateVariantsPerField[field]):\n",
    "            example = dateVariantsPerField[field][d]['examples'][0]['value']\n",
    "            csvwriter.writerow((d, dateVariantsPerField[field][d]['count'], example, interpret(example, d)))\n"
   ]
  },
  {
   "cell_type": "code",
   "execution_count": null,
   "metadata": {
    "collapsed": true
   },
   "outputs": [],
   "source": []
  }
 ],
 "metadata": {
  "kernelspec": {
   "display_name": "Python 3",
   "language": "python",
   "name": "python3"
  },
  "language_info": {
   "codemirror_mode": {
    "name": "ipython",
    "version": 3
   },
   "file_extension": ".py",
   "mimetype": "text/x-python",
   "name": "python",
   "nbconvert_exporter": "python",
   "pygments_lexer": "ipython3",
   "version": "3.6.3"
  }
 },
 "nbformat": 4,
 "nbformat_minor": 2
}
