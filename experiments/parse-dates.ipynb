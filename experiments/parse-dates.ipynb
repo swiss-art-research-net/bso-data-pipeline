{
 "cells": [
  {
   "cell_type": "code",
   "execution_count": 1,
   "metadata": {},
   "outputs": [
    {
     "name": "stdout",
     "output_type": "stream",
     "text": [
      "Requirement already satisfied: edtf in /Users/fkraeutli/anaconda/lib/python3.6/site-packages (4.0.1)\n",
      "Requirement already satisfied: six in /Users/fkraeutli/anaconda/lib/python3.6/site-packages (from edtf) (1.11.0)\n",
      "Requirement already satisfied: pyparsing in /Users/fkraeutli/anaconda/lib/python3.6/site-packages (from edtf) (2.2.0)\n",
      "Requirement already satisfied: python-dateutil in /Users/fkraeutli/anaconda/lib/python3.6/site-packages (from edtf) (2.7.2)\n",
      "\u001b[33mWARNING: You are using pip version 20.1.1; however, version 20.2.4 is available.\n",
      "You should consider upgrading via the '/Users/fkraeutli/anaconda/bin/python -m pip install --upgrade pip' command.\u001b[0m\n"
     ]
    }
   ],
   "source": [
    "import sys\n",
    "!{sys.executable} -m pip install edtf"
   ]
  },
  {
   "cell_type": "code",
   "execution_count": 2,
   "metadata": {
    "collapsed": true
   },
   "outputs": [],
   "source": [
    "import csv\n",
    "import json\n",
    "import random\n",
    "import re\n",
    "from collections import OrderedDict\n",
    "from edtf import parse_edtf"
   ]
  },
  {
   "cell_type": "code",
   "execution_count": 3,
   "metadata": {
    "collapsed": true
   },
   "outputs": [],
   "source": [
    "inputFile = \"../input/sari_abzug-utf-8_23_04-tsv.txt\"\n",
    "output = \"./output\""
   ]
  },
  {
   "cell_type": "code",
   "execution_count": 4,
   "metadata": {
    "collapsed": true
   },
   "outputs": [],
   "source": [
    "with open(inputFile, 'r') as f:\n",
    "    rawData = json.load(f)"
   ]
  },
  {
   "cell_type": "code",
   "execution_count": 5,
   "metadata": {
    "collapsed": true
   },
   "outputs": [],
   "source": [
    "datefields = ['100$d', '260$c', '260$g', '264$c', '533$d', '600$d', '611$d', '700$d']"
   ]
  },
  {
   "cell_type": "code",
   "execution_count": 6,
   "metadata": {
    "collapsed": true
   },
   "outputs": [],
   "source": [
    "artefactsToRemoveBefore = r'\\[|\\]'\n",
    "monthsGermanFull = r'(Januar)|(Februar)|(März)|(April)|(Mai)|(Juni)|(Juli)|(August)|(September)|(Oktober)|(November)|(Dezember)'\n",
    "monthsGermanAbr = r'(Jan)|(Feb)|(Mär)|(Apr)|(Mai)|(Jun)|(Jul)|(Aug)|(Sept)|(Okt)|(Nov)|(Dez)'\n",
    "monthsFrenchFull = r'(janvier)|(fégenericDatevrier)|(mars)|(avril)|(mai)|(juin)|(juillet)|(aout)|(septembre)|(octobre)|(novembre)|(décembre)'\n",
    "monthsFrenchAbr = r'(janv)|(févr)|(mars)|(avril)|(avr)|(mai)|(juin)|(juil)|(aout)|(aou)|(sept)|(oct)|(nov)|(déc)'\n",
    "monthsEnglishFull = r'(January)|(February)|(March)|(April)|(May)|(June)|(July)|(August)|(September)|(October)|(November)|(December)'\n",
    "monthsEnglishAbr = r'(Jan)|(Feb)|(Mar)|(Apr)|(May)|(Jun)|(Jul)|(Aug)|(Sep)|(Oct)|(Nov)|(Dec)'\n",
    "monthsRoman = r'((?:\\s|\\.)I(?:\\s|\\.))|((?:\\s|\\.)II(?:\\s|\\.))|((?:\\s|\\.)III(?:\\s|\\.))|((?:\\s|\\.)IV(?:\\s|\\.))|((?:\\s|\\.)V(?:\\s|\\.))|((?:\\s|\\.)VI(?:\\s|\\.))|((?:\\s|\\.)VII(?:\\s|\\.))|((?:\\s|\\.)VIII(?:\\s|\\.))|((?:\\s|\\.)IX(?:\\s|\\.))|((?:\\s|\\.)X(?:\\s|\\.))|((?:\\s|\\.)XI(?:\\s|\\.))|((?:\\s|\\.)XII(?:\\s|\\.))'\n",
    "unknowns = r'XX|xx'"
   ]
  },
  {
   "cell_type": "code",
   "execution_count": 7,
   "metadata": {
    "collapsed": true,
    "scrolled": false
   },
   "outputs": [],
   "source": [
    "uncertaintyQualifiers = 'ca\\.|ca|circa|um|vermutlich um'\n",
    "r = {\n",
    "    'afterYearWithQualifier': r'^(' + uncertaintyQualifiers + ')?(?:nach|nicht vor)\\s?(_{4})\\??$',\n",
    "    'beforeYearWithQualifier': r'^(' + uncertaintyQualifiers + ')?(?:vor|nicht nach)\\s?(_{4})\\??$',\n",
    "    'fullDateWithMonthInLangOrRoman': '_{1,2}(\\.|\\s)*(🌕)(\\.|\\s)*(_{2,4})',\n",
    "    'monthAndYearWithMonthInLangOrRoman': '🌕(\\.|\\s)*(_{2,4})',\n",
    "    'singleDate': r'(?:i\\.e\\.|den|le)?\\s?(_{1,2}\\._{1,2}\\._{2,4})',\n",
    "    'singleYearWithQualifier': r'^(?:' + uncertaintyQualifiers + '|A°|A°\\.|Anno|anno|gezeichnet nach der Natur)?\\s?(____)\\??$',\n",
    "    'yearRangeWithQualifier': r'(?:ca\\.)?\\s?(?:zwischen)?\\s?(____\\??)\\s?(?:-|und|ud)\\s?(____\\??)',\n",
    "    'yearWithPlaceHolderAndQualifier': r'(__--|___-)'\n",
    "}\n",
    "\n",
    "months = {\n",
    "    'de': {\n",
    "        '1': [\"Januar\", \"Jan\"],\n",
    "        '2': [\"Februar\", \"Feb\"],\n",
    "        '3': [\"März\", \"Maerz\", \"Mrz\"],\n",
    "        '4': [\"April\", \"Apr\"],\n",
    "        '5': [\"Mai\"],\n",
    "        '6': [\"Juni\", \"Jun\"],\n",
    "        '7': [\"Juli\", \"Jul\"],\n",
    "        '8': [\"August\", \"Aug\", \"Augst\"],\n",
    "        '9': [\"September\", \"Sep\", \"Sept\"],\n",
    "        '10': [\"Oktober\", \"Okt\"],\n",
    "        '11': [\"November\", \"Nov\"],\n",
    "        '12': [\"Dezember\", \"Dez\"],\n",
    "    },\n",
    "    'en': {\n",
    "        '1': [\"January\", \"Jan\"],\n",
    "        '2': [\"February\", \"Feb\"],\n",
    "        '3': [\"March\", \"Mar\"],\n",
    "        '4': [\"April\", \"Apr\"],\n",
    "        '5': [\"May\"],\n",
    "        '6': [\"June\", \"Jun\"],\n",
    "        '7': [\"July\", \"Jul\"],\n",
    "        '8': [\"August\", \"Aug\"],\n",
    "        '9': [\"September\", \"Sep\", \"Sept\"],\n",
    "        '10': [\"October\", \"Oct\"],\n",
    "        '11': [\"November\", \"Nov\"],\n",
    "        '12': [\"December\", \"Dec\"],\n",
    "    },\n",
    "    'fr': {\n",
    "        '1': [\"Janvier\", \"Jan\", \"Janv\"],\n",
    "        '2': [\"Février\", \"Févr\"],\n",
    "        '3': [\"Mars\", \"Mar\"],\n",
    "        '4': [\"Avril\", \"Avr\"],\n",
    "        '5': [\"Mai\"],\n",
    "        '6': [\"Juin\"],\n",
    "        '7': [\"Juillet\", \"Juil\"],\n",
    "        '8': [\"Aout\", \"Aou\"],\n",
    "        '9': [\"Septembre\", \"Sep\", \"Sept\"],\n",
    "        '10': [\"Octobre\", \"Oct\"],\n",
    "        '11': [\"Novembre\", \"Nov\"],\n",
    "        '12': [\"Décembre\", \"Dec\"],\n",
    "    },\n",
    "    'roman': {\n",
    "        '1': [\"I\"],\n",
    "        '2': [\"II\"],\n",
    "        '3': [\"III\"],\n",
    "        '4': [\"IV\"],\n",
    "        '5': [\"V\"],\n",
    "        '6': [\"VI\"],\n",
    "        '7': [\"VII\"],\n",
    "        '8': [\"VIII\"],\n",
    "        '9': [\"IX\"],\n",
    "        '10': [\"X\"],\n",
    "        '11': [\"XI\"],\n",
    "        '12': [\"XII\"],\n",
    "    }\n",
    "}\n",
    "\n",
    "def cleanDateString(dateString):\n",
    "    s = re.sub('\\[|\\]', '', dateString)\n",
    "    return s\n",
    "\n",
    "def guessMonth(monthString):\n",
    "    testOrder = ['de', 'fr', 'en', 'roman']\n",
    "    monthString = re.sub(r'\\.|\\s', '', monthString)\n",
    "    for lang in testOrder:\n",
    "        for i in months[lang].keys():\n",
    "            for monthVariation in months[lang][i]:\n",
    "                if monthVariation.lower() == monthString.lower():\n",
    "                    return i\n",
    "    return 0\n",
    "            \n",
    "def afterYearWithQualifier(dateString):\n",
    "    year = re.search(r'(\\d{4}\\??)', dateString).group(1)\n",
    "    uncertain = re.search(r'(' + uncertaintyQualifiers + ')', dateString)\n",
    "    year = \"/\" + year\n",
    "    if uncertain and not '?' in year:\n",
    "        return year + \"?\"\n",
    "    else:\n",
    "        return year\n",
    "\n",
    "def beforeYearWithQualifier(dateString):\n",
    "    year = re.search(r'(\\d{4}\\??)', dateString).group(1)\n",
    "    uncertain = re.search(r'(' + uncertaintyQualifiers + ')', dateString)\n",
    "    year = \"/\" + year\n",
    "    if uncertain and not '?' in year:\n",
    "        return year + \"?\"\n",
    "    else:\n",
    "        return year\n",
    "\n",
    "def singleYearWithQualifier(dateString):\n",
    "    year = re.search(r'(\\d{4}\\??)', dateString).group(1)\n",
    "    uncertain = re.search(r'(' + uncertaintyQualifiers + ')', dateString)\n",
    "    if uncertain and not '?' in year:\n",
    "        return year + \"?\"\n",
    "    else:\n",
    "        return year\n",
    "\n",
    "def yearRangeWithQualifier(dateString):\n",
    "    years = re.findall(r'(\\d{4}\\??)', dateString)\n",
    "    uncertain = re.search(r'(ca)', dateString)\n",
    "    if uncertain:\n",
    "        for i, year in enumerate(years):\n",
    "            if not '?' in year:\n",
    "                years[i] += '?'\n",
    "    return \"/\".join(years)\n",
    "\n",
    "def singleDate(dateString):\n",
    "    date = re.search(r'\\d{1,2}\\.\\d{1,2}\\.\\d{2,4}', dateString)\n",
    "    return date.group(0)\n",
    "\n",
    "def fullDateWithMonthInLangOrRoman(dateString):\n",
    "    allMonths = '|'.join([monthsGermanFull, monthsFrenchFull, monthsEnglishFull, monthsGermanAbr, monthsFrenchAbr, monthsEnglishAbr, monthsRoman])\n",
    "    datePattern = r'(\\d{1,2})(?:\\.|\\s)*(?:' + allMonths + ')(?:\\.|\\s)*(?:\\d{2,4})'\n",
    "    yearPattern = r'((\\d{2,4})\\.?$|\\d{4})'\n",
    "    try:\n",
    "        date = re.search(datePattern, dateString, flags=re.IGNORECASE).group(1)\n",
    "    except:\n",
    "        date = \"xx\"\n",
    "        \n",
    "    try:\n",
    "        monthWords = re.search(allMonths, dateString, flags=re.IGNORECASE).group(0)\n",
    "        month = str(guessMonth(monthWords))\n",
    "    except:\n",
    "        month = \"xx\"\n",
    "\n",
    "    try:\n",
    "        year = re.search(yearPattern, dateString).group(1)\n",
    "    except:\n",
    "        year = \"xxxx\"\n",
    "    \n",
    "    return '.'.join([date, month, year])\n",
    "\n",
    "def monthAndYearWithMonthInLangOrRoman(dateString):\n",
    "    allMonths = '|'.join([monthsGermanFull, monthsFrenchFull, monthsEnglishFull, monthsGermanAbr, monthsFrenchAbr, monthsEnglishAbr, monthsRoman])\n",
    "    yearPattern = r'((\\d{2,4})\\.?$|\\d{4})'\n",
    "        \n",
    "    try:\n",
    "        monthWords = re.search(allMonths, dateString, flags=re.IGNORECASE).group(0)\n",
    "        month = str(guessMonth(monthWords))\n",
    "    except:\n",
    "        month = \"xx\"\n",
    "\n",
    "    try:\n",
    "        year = re.search(yearPattern, dateString).group(1)\n",
    "    except:\n",
    "        year = \"xxxx\"\n",
    "    \n",
    "    return '.'.join([month, year])\n",
    "\n",
    "def yearWithPlaceHolderAndQualifier(dateString):\n",
    "    uncertain = re.search(r'(ca|\\?)', dateString)\n",
    "    quantifier = '?' if uncertain else ''\n",
    "    m = re.search(r'(\\d{2})--', dateString)\n",
    "    if m:\n",
    "        century = m.group(1)\n",
    "        return \"%s00%s/%s99%s\" % (century, quantifier, century, quantifier)\n",
    "    m = re.search(r'(\\d{3})-', dateString)\n",
    "    if m:\n",
    "        century = m.group(1)\n",
    "        return \"%s0%s/%s9%s\" % (century, quantifier, century, quantifier)\n",
    "\n",
    "def interpret(dateString, pattern):\n",
    "    ds = cleanDateString(dateString)\n",
    "    testOrder = ['singleDate', 'fullDateWithMonthInLangOrRoman', 'monthAndYearWithMonthInLangOrRoman', 'singleYearWithQualifier', 'beforeYearWithQualifier', 'afterYearWithQualifier', 'yearRangeWithQualifier', 'yearWithPlaceHolderAndQualifier']\n",
    "    possibles = globals().copy()\n",
    "    possibles.update(locals())\n",
    "    for test in testOrder:\n",
    "        m = re.search(r[test], pattern)\n",
    "        if m:    \n",
    "            f = possibles.get(test)\n",
    "            if not f:\n",
    "                raise NotImplementedError(\"Function %s not implemented\" % test)\n",
    "            return f(ds)\n",
    "    \n",
    "    return None"
   ]
  },
  {
   "cell_type": "code",
   "execution_count": 8,
   "metadata": {},
   "outputs": [],
   "source": [
    "dateVariantsPerField = {}\n",
    "for datefield in datefields:\n",
    "    dateVariants = {}\n",
    "    for row in rawData['rows']:\n",
    "        uuid = row['UUID']\n",
    "        if datefield in row and row[datefield] != None:\n",
    "            date = row[datefield]\n",
    "            for d in date.split('|'):\n",
    "                if d:\n",
    "                    genericDate = re.sub(artefactsToRemoveBefore, '', d)\n",
    "                    genericDate = re.sub(r'\\d','_', genericDate)\n",
    "                    langOrder = ['de', 'fr', 'en']\n",
    "                    for lang in langOrder:\n",
    "                        r = r'(' + ')|('.join([month for variations in [months[lang][d] for d in months[lang]] for month in variations]) + ')'                            \n",
    "                        genericDate = re.sub(r, '🌕', genericDate, flags=re.IGNORECASE)\n",
    "                    genericDate = re.sub(unknowns, '❓', genericDate)\n",
    "                    monthsRoman = r'(' + ')|('.join([month for variations in [months['roman'][d] for d in months['roman']] for month in variations]) + ')'                            \n",
    "                    genericDate = re.sub(monthsRoman, ' 🏛 ', genericDate)\n",
    "                    genericDate = genericDate.strip()\n",
    "                    entry = { 'uuid': uuid, 'value': d}\n",
    "                    if genericDate in dateVariants:\n",
    "                        dateVariants[genericDate]['count'] += 1\n",
    "                        dateVariants[genericDate]['examples'].append(entry)\n",
    "                    else:\n",
    "                        dateVariants[genericDate] = {\n",
    "                            'count': 1,\n",
    "                            'examples': [entry]\n",
    "                        }\n",
    "    dateVariantsOrdered = OrderedDict(sorted(dateVariants.items(), key=lambda kv: kv[1]['count'], reverse=True))\n",
    "    dateVariantsPerField[datefield] = dateVariantsOrdered"
   ]
  },
  {
   "cell_type": "code",
   "execution_count": 9,
   "metadata": {},
   "outputs": [
    {
     "data": {
      "text/plain": [
       "'(Januar)|(Jan)|(Februar)|(Feb)|(März)|(Maerz)|(Mrz)|(April)|(Apr)|(Mai)|(Juni)|(Jun)|(Juli)|(Jul)|(August)|(Aug)|(Augst)|(September)|(Sep)|(Sept)|(Oktober)|(Okt)|(November)|(Nov)|(Dezember)|(Dez)'"
      ]
     },
     "execution_count": 9,
     "metadata": {},
     "output_type": "execute_result"
    }
   ],
   "source": [
    "r'(' + ')|('.join([month for variations in [months['de'][d] for d in months['de']] for month in variations]) + ')'"
   ]
  },
  {
   "cell_type": "markdown",
   "metadata": {
    "collapsed": true
   },
   "source": [
    "# Interpret Values"
   ]
  },
  {
   "cell_type": "code",
   "execution_count": 10,
   "metadata": {},
   "outputs": [
    {
     "name": "stdout",
     "output_type": "stream",
     "text": [
      "484\n"
     ]
    },
    {
     "ename": "TypeError",
     "evalue": "string indices must be integers",
     "output_type": "error",
     "traceback": [
      "\u001b[0;31m---------------------------------------------------------------------------\u001b[0m",
      "\u001b[0;31mTypeError\u001b[0m                                 Traceback (most recent call last)",
      "\u001b[0;32m<ipython-input-10-775e9339034f>\u001b[0m in \u001b[0;36m<module>\u001b[0;34m()\u001b[0m\n\u001b[1;32m      7\u001b[0m \u001b[0;32mfor\u001b[0m \u001b[0mpattern\u001b[0m \u001b[0;32min\u001b[0m \u001b[0mdateVariantsPerField\u001b[0m\u001b[0;34m[\u001b[0m\u001b[0mfield\u001b[0m\u001b[0;34m]\u001b[0m\u001b[0;34m.\u001b[0m\u001b[0mkeys\u001b[0m\u001b[0;34m(\u001b[0m\u001b[0;34m)\u001b[0m\u001b[0;34m:\u001b[0m\u001b[0;34m\u001b[0m\u001b[0m\n\u001b[1;32m      8\u001b[0m     \u001b[0mexample\u001b[0m \u001b[0;34m=\u001b[0m \u001b[0mrandom\u001b[0m\u001b[0;34m.\u001b[0m\u001b[0mchoice\u001b[0m\u001b[0;34m(\u001b[0m\u001b[0mdateVariantsPerField\u001b[0m\u001b[0;34m[\u001b[0m\u001b[0mfield\u001b[0m\u001b[0;34m]\u001b[0m\u001b[0;34m[\u001b[0m\u001b[0mpattern\u001b[0m\u001b[0;34m]\u001b[0m\u001b[0;34m[\u001b[0m\u001b[0;34m'examples'\u001b[0m\u001b[0;34m]\u001b[0m\u001b[0;34m)\u001b[0m\u001b[0;34m[\u001b[0m\u001b[0;34m'value'\u001b[0m\u001b[0;34m]\u001b[0m\u001b[0;34m\u001b[0m\u001b[0m\n\u001b[0;32m----> 9\u001b[0;31m     \u001b[0;32mif\u001b[0m \u001b[0;32mnot\u001b[0m \u001b[0minterpret\u001b[0m\u001b[0;34m(\u001b[0m\u001b[0mexample\u001b[0m\u001b[0;34m,\u001b[0m \u001b[0mpattern\u001b[0m\u001b[0;34m)\u001b[0m\u001b[0;34m:\u001b[0m\u001b[0;34m\u001b[0m\u001b[0m\n\u001b[0m\u001b[1;32m     10\u001b[0m         \u001b[0mm\u001b[0m \u001b[0;34m=\u001b[0m \u001b[0mre\u001b[0m\u001b[0;34m.\u001b[0m\u001b[0msearch\u001b[0m\u001b[0;34m(\u001b[0m\u001b[0;34mr'(__--|___-)'\u001b[0m\u001b[0;34m,\u001b[0m \u001b[0mpattern\u001b[0m\u001b[0;34m)\u001b[0m\u001b[0;34m\u001b[0m\u001b[0m\n\u001b[1;32m     11\u001b[0m         \u001b[0;32mif\u001b[0m \u001b[0mm\u001b[0m\u001b[0;34m:\u001b[0m\u001b[0;34m\u001b[0m\u001b[0m\n",
      "\u001b[0;32m<ipython-input-7-2a4c828338ac>\u001b[0m in \u001b[0;36minterpret\u001b[0;34m(dateString, pattern)\u001b[0m\n\u001b[1;32m    180\u001b[0m     \u001b[0mpossibles\u001b[0m\u001b[0;34m.\u001b[0m\u001b[0mupdate\u001b[0m\u001b[0;34m(\u001b[0m\u001b[0mlocals\u001b[0m\u001b[0;34m(\u001b[0m\u001b[0;34m)\u001b[0m\u001b[0;34m)\u001b[0m\u001b[0;34m\u001b[0m\u001b[0m\n\u001b[1;32m    181\u001b[0m     \u001b[0;32mfor\u001b[0m \u001b[0mtest\u001b[0m \u001b[0;32min\u001b[0m \u001b[0mtestOrder\u001b[0m\u001b[0;34m:\u001b[0m\u001b[0;34m\u001b[0m\u001b[0m\n\u001b[0;32m--> 182\u001b[0;31m         \u001b[0mm\u001b[0m \u001b[0;34m=\u001b[0m \u001b[0mre\u001b[0m\u001b[0;34m.\u001b[0m\u001b[0msearch\u001b[0m\u001b[0;34m(\u001b[0m\u001b[0mr\u001b[0m\u001b[0;34m[\u001b[0m\u001b[0mtest\u001b[0m\u001b[0;34m]\u001b[0m\u001b[0;34m,\u001b[0m \u001b[0mpattern\u001b[0m\u001b[0;34m)\u001b[0m\u001b[0;34m\u001b[0m\u001b[0m\n\u001b[0m\u001b[1;32m    183\u001b[0m         \u001b[0;32mif\u001b[0m \u001b[0mm\u001b[0m\u001b[0;34m:\u001b[0m\u001b[0;34m\u001b[0m\u001b[0m\n\u001b[1;32m    184\u001b[0m             \u001b[0mf\u001b[0m \u001b[0;34m=\u001b[0m \u001b[0mpossibles\u001b[0m\u001b[0;34m.\u001b[0m\u001b[0mget\u001b[0m\u001b[0;34m(\u001b[0m\u001b[0mtest\u001b[0m\u001b[0;34m)\u001b[0m\u001b[0;34m\u001b[0m\u001b[0m\n",
      "\u001b[0;31mTypeError\u001b[0m: string indices must be integers"
     ]
    }
   ],
   "source": [
    "field = '260$c'\n",
    "matches = {\n",
    "    'matched': [],\n",
    "    'notMatched': []\n",
    "}\n",
    "print(len(dateVariantsPerField[field]))\n",
    "for pattern in dateVariantsPerField[field].keys():\n",
    "    example = random.choice(dateVariantsPerField[field][pattern]['examples'])['value']\n",
    "    if not interpret(example, pattern):    \n",
    "        m = re.search(r'(__--|___-)', pattern)\n",
    "        if m:\n",
    "            matches['matched'].append(pattern)\n",
    "#             print(example, \" --> \", yearWithPlaceHolderAndQualifier(example))\n",
    "        else:\n",
    "            matches['notMatched'].append(pattern)\n",
    "\n",
    "# print(\"Matches\")\n",
    "# print(\"\\n\".join(matches['matched']))\n",
    "# print(\"====\\nNot matched\")\n",
    "# print(\"\\n\".join(matches['notMatched']))"
   ]
  },
  {
   "cell_type": "markdown",
   "metadata": {},
   "source": [
    "## Output"
   ]
  },
  {
   "cell_type": "code",
   "execution_count": null,
   "metadata": {
    "collapsed": true
   },
   "outputs": [],
   "source": [
    "for field in datefields:\n",
    "    with open(output + '/dateVariants-' + field + '.csv', 'w') as csvfile:\n",
    "        csvwriter = csv.writer(csvfile, delimiter=',',quotechar='\"', quoting=csv.QUOTE_MINIMAL)\n",
    "        csvwriter.writerow(('Format', 'Appearances', 'Example', 'Interpretation'))\n",
    "        for k, d in enumerate(dateVariantsPerField[field]):\n",
    "            example = dateVariantsPerField[field][d]['examples'][0]['value']\n",
    "            csvwriter.writerow((d, dateVariantsPerField[field][d]['count'], example, interpret(example, d)))"
   ]
  },
  {
   "cell_type": "code",
   "execution_count": null,
   "metadata": {
    "collapsed": true
   },
   "outputs": [],
   "source": []
  }
 ],
 "metadata": {
  "kernelspec": {
   "display_name": "Python 3",
   "language": "python",
   "name": "python3"
  },
  "language_info": {
   "codemirror_mode": {
    "name": "ipython",
    "version": 3
   },
   "file_extension": ".py",
   "mimetype": "text/x-python",
   "name": "python",
   "nbconvert_exporter": "python",
   "pygments_lexer": "ipython3",
   "version": "3.6.3"
  }
 },
 "nbformat": 4,
 "nbformat_minor": 2
}
