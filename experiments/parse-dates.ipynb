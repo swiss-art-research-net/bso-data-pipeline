{
 "cells": [
  {
   "cell_type": "code",
   "execution_count": 1,
   "metadata": {
    "collapsed": true
   },
   "outputs": [],
   "source": [
    "import csv\n",
    "import json\n",
    "import re\n",
    "from collections import OrderedDict"
   ]
  },
  {
   "cell_type": "code",
   "execution_count": 2,
   "metadata": {
    "collapsed": true
   },
   "outputs": [],
   "source": [
    "inputFile = \"../input/sari_abzug-utf-8_23_04-tsv.txt\""
   ]
  },
  {
   "cell_type": "code",
   "execution_count": 3,
   "metadata": {
    "collapsed": true
   },
   "outputs": [],
   "source": [
    "with open(inputFile, 'r') as f:\n",
    "    rawData = json.load(f)"
   ]
  },
  {
   "cell_type": "code",
   "execution_count": 4,
   "metadata": {
    "collapsed": true
   },
   "outputs": [],
   "source": [
    "datefields = ['100$d', '260$c', '260$g', '264$c', '533$d', '600$d', '611$d', '700$d']"
   ]
  },
  {
   "cell_type": "code",
   "execution_count": 5,
   "metadata": {
    "collapsed": true
   },
   "outputs": [],
   "source": [
    "monthsGermanFull = r'(Januar)|(Februar)|(März)|(April)|(Mai)|(Juni)|(Juli)|(August)|(September)|(Oktober)|(November)|(Dezember)'\n",
    "monthsGermanAbr = r'(Jan)|(Feb)|(Mär)|(Apr)|(Mai)|(Jun)|(Jul)|(Aug)|(Sept)|(Okt)|(Nov)|(Dez)'\n",
    "monthsFrenchFull = r'(janvier)|(février)|(mars)|(avril)|(mai)|(juin)|(juillet)|(aout)|(septembre)|(octobre)|(novembre)|(décembre)'\n",
    "monthsFrenchAbr = r'(janv)|(févr)|(mars)|(avril)|(avr)|(mai)|(juin)|(juil)|(aout)|(aou)|(sept)|(oct)|(nov)|(déc)'\n",
    "monthsEnglishFull = r'(January)|(February)|(March)|(April)|(May)|(June)|(July)|(August)|(September)|(October)|(November)|(December)'\n",
    "monthsEnglishAbr = r'(Jan)|(Feb)|(Mar)|(Apr)|(May)|(Jun)|(Jul)|(Aug)|(Sep)|(Oct)|(Nov)|(Dec)'\n",
    "numeralRomans = r'(III)|(II)|(I)|(IV)|(VI)|(VII)|(VIII)|(V)|(IX)|(X)'"
   ]
  },
  {
   "cell_type": "code",
   "execution_count": 6,
   "metadata": {
    "collapsed": true
   },
   "outputs": [],
   "source": [
    "dateVariantsPerField = {}\n",
    "for datefield in datefields:\n",
    "    dateVariants = {}\n",
    "    for row in rawData['rows']:\n",
    "        if datefield in row and row[datefield] != None:\n",
    "            date = row[datefield]\n",
    "            for d in date.split('|'):\n",
    "                genericDate = re.sub(r'\\d','x', d)\n",
    "                genericDate = re.sub(monthsGermanFull, 'MMMM(de)', genericDate, flags=re.IGNORECASE)\n",
    "                genericDate = re.sub(monthsFrenchFull, 'MMMM(fr)', genericDate, flags=re.IGNORECASE)\n",
    "                genericDate = re.sub(monthsEnglishFull, 'MMMM(en)', genericDate, flags=re.IGNORECASE)\n",
    "                genericDate = re.sub(monthsGermanAbr, 'MM(de)', genericDate, flags=re.IGNORECASE)\n",
    "                genericDate = re.sub(monthsFrenchAbr, 'MM(fr)', genericDate, flags=re.IGNORECASE)\n",
    "                genericDate = re.sub(monthsEnglishAbr, 'MM(en)', genericDate, flags=re.IGNORECASE)\n",
    "                genericDate = re.sub(numeralRomans, 'R', genericDate)\n",
    "                genericDate = genericDate.strip()\n",
    "                if genericDate in dateVariants:\n",
    "                    dateVariants[genericDate]['count'] += 1\n",
    "                    dateVariants[genericDate]['examples'].append(d)\n",
    "                else:\n",
    "                    dateVariants[genericDate] = {\n",
    "                        'count': 1,\n",
    "                        'examples': [d]\n",
    "                    }\n",
    "    dateVariantsOrdered = OrderedDict(sorted(dateVariants.items(), key=lambda kv: kv[1]['count'], reverse=True))\n",
    "    dateVariantsPerField[datefield] = dateVariantsOrdered"
   ]
  },
  {
   "cell_type": "code",
   "execution_count": 8,
   "metadata": {},
   "outputs": [],
   "source": [
    "for field in datefields:\n",
    "    with open('dateVariants-' + field + '.csv', 'w') as csvfile:\n",
    "        csvwriter = csv.writer(csvfile, delimiter=',',quotechar='\"', quoting=csv.QUOTE_MINIMAL)\n",
    "        csvwriter.writerow(('Format', 'Appearances', 'Example'))\n",
    "        for k, d in enumerate(dateVariantsPerField[field]):\n",
    "            csvwriter.writerow((d, dateVariantsPerField[field][d]['count'], dateVariantsPerField[field][d]['examples'][0]))\n"
   ]
  },
  {
   "cell_type": "code",
   "execution_count": null,
   "metadata": {
    "collapsed": true
   },
   "outputs": [],
   "source": []
  }
 ],
 "metadata": {
  "kernelspec": {
   "display_name": "Python 3",
   "language": "python",
   "name": "python3"
  },
  "language_info": {
   "codemirror_mode": {
    "name": "ipython",
    "version": 3
   },
   "file_extension": ".py",
   "mimetype": "text/x-python",
   "name": "python",
   "nbconvert_exporter": "python",
   "pygments_lexer": "ipython3",
   "version": "3.6.3"
  }
 },
 "nbformat": 4,
 "nbformat_minor": 2
}
