{
 "cells": [
  {
   "cell_type": "code",
   "execution_count": 1,
   "metadata": {},
   "outputs": [
    {
     "name": "stdout",
     "output_type": "stream",
     "text": [
      "Requirement already satisfied: edtf in /Users/fkraeutli/anaconda/lib/python3.6/site-packages (4.0.1)\n",
      "Requirement already satisfied: six in /Users/fkraeutli/anaconda/lib/python3.6/site-packages (from edtf) (1.11.0)\n",
      "Requirement already satisfied: python-dateutil in /Users/fkraeutli/anaconda/lib/python3.6/site-packages (from edtf) (2.7.2)\n",
      "Requirement already satisfied: pyparsing in /Users/fkraeutli/anaconda/lib/python3.6/site-packages (from edtf) (2.2.0)\n",
      "\u001b[33mWARNING: You are using pip version 20.1.1; however, version 20.2.4 is available.\n",
      "You should consider upgrading via the '/Users/fkraeutli/anaconda/bin/python -m pip install --upgrade pip' command.\u001b[0m\n"
     ]
    }
   ],
   "source": [
    "import sys\n",
    "!{sys.executable} -m pip install edtf"
   ]
  },
  {
   "cell_type": "code",
   "execution_count": 2,
   "metadata": {
    "collapsed": true
   },
   "outputs": [],
   "source": [
    "import csv\n",
    "import json\n",
    "import random\n",
    "import re\n",
    "from collections import OrderedDict\n",
    "from edtf import parse_edtf"
   ]
  },
  {
   "cell_type": "code",
   "execution_count": 3,
   "metadata": {
    "collapsed": true
   },
   "outputs": [],
   "source": [
    "inputFile = \"../input/sari_abzug-utf-8_23_04-tsv.txt\"\n",
    "output = \"./output\""
   ]
  },
  {
   "cell_type": "code",
   "execution_count": 4,
   "metadata": {
    "collapsed": true
   },
   "outputs": [],
   "source": [
    "with open(inputFile, 'r') as f:\n",
    "    rawData = json.load(f)"
   ]
  },
  {
   "cell_type": "code",
   "execution_count": 5,
   "metadata": {
    "collapsed": true
   },
   "outputs": [],
   "source": [
    "datefields = ['100$d', '260$c', '260$g', '264$c', '533$d', '600$d', '611$d', '700$d']"
   ]
  },
  {
   "cell_type": "code",
   "execution_count": 47,
   "metadata": {
    "collapsed": true
   },
   "outputs": [],
   "source": [
    "monthsGermanFull = r'(Januar)|(Februar)|(März)|(April)|(Mai)|(Juni)|(Juli)|(August)|(September)|(Oktober)|(November)|(Dezember)'\n",
    "monthsGermanAbr = r'(Jan)|(Feb)|(Mär)|(Apr)|(Mai)|(Jun)|(Jul)|(Aug)|(Sept)|(Okt)|(Nov)|(Dez)'\n",
    "monthsFrenchFull = r'(janvier)|(février)|(mars)|(avril)|(mai)|(juin)|(juillet)|(aout)|(septembre)|(octobre)|(novembre)|(décembre)'\n",
    "monthsFrenchAbr = r'(janv)|(févr)|(mars)|(avril)|(avr)|(mai)|(juin)|(juil)|(aout)|(aou)|(sept)|(oct)|(nov)|(déc)'\n",
    "monthsEnglishFull = r'(January)|(February)|(March)|(April)|(May)|(June)|(July)|(August)|(September)|(October)|(November)|(December)'\n",
    "monthsEnglishAbr = r'(Jan)|(Feb)|(Mar)|(Apr)|(May)|(Jun)|(Jul)|(Aug)|(Sep)|(Oct)|(Nov)|(Dec)'\n",
    "monthsRoman = r'(I)|(II)|(III)|(IV)|(V)|(VI)|(VII)|(VIII)|(IX)|(X)|(XI)|(XII)'\n",
    "numeralRomans = r'(VIII)|(III)|(IV)|(VI)|(VII)|(V)|(IX)|(X)|II|I'\n",
    "remaining = r'[A-z]'\n",
    "unknowns = r'XX|xx'"
   ]
  },
  {
   "cell_type": "code",
   "execution_count": 7,
   "metadata": {
    "collapsed": true
   },
   "outputs": [],
   "source": [
    "dateVariantsPerField = {}\n",
    "for datefield in datefields:\n",
    "    dateVariants = {}\n",
    "    for row in rawData['rows']:\n",
    "        uuid = row['UUID']\n",
    "        if datefield in row and row[datefield] != None:\n",
    "            date = row[datefield]\n",
    "            for d in date.split('|'):\n",
    "                if d:\n",
    "                    genericDate = re.sub(r'\\d','_', d)\n",
    "                    genericDate = re.sub(monthsGermanFull, '🌕🇩🇪', genericDate, flags=re.IGNORECASE)\n",
    "                    genericDate = re.sub(monthsFrenchFull, '🌕🇫🇷', genericDate, flags=re.IGNORECASE)\n",
    "                    genericDate = re.sub(monthsEnglishFull, '🌕🇬🇧', genericDate, flags=re.IGNORECASE)\n",
    "                    genericDate = re.sub(monthsGermanAbr, '🌙🇩🇪', genericDate, flags=re.IGNORECASE)\n",
    "                    genericDate = re.sub(monthsFrenchAbr, '🌙🇫🇷', genericDate, flags=re.IGNORECASE)\n",
    "                    genericDate = re.sub(monthsEnglishAbr, '🌙🇬🇧', genericDate, flags=re.IGNORECASE)\n",
    "                    genericDate = re.sub(unknowns, '❓', genericDate)\n",
    "                    genericDate = re.sub(numeralRomans, '🏛', genericDate)\n",
    "                    #genericDate = re.sub(remaining, '', genericDate)\n",
    "                    genericDate = genericDate.strip()\n",
    "                    entry = { 'uuid': uuid, 'value': d}\n",
    "                    if genericDate in dateVariants:\n",
    "                        dateVariants[genericDate]['count'] += 1\n",
    "                        dateVariants[genericDate]['examples'].append(entry)\n",
    "                    else:\n",
    "                        dateVariants[genericDate] = {\n",
    "                            'count': 1,\n",
    "                            'examples': [entry]\n",
    "                        }\n",
    "    dateVariantsOrdered = OrderedDict(sorted(dateVariants.items(), key=lambda kv: kv[1]['count'], reverse=True))\n",
    "    dateVariantsPerField[datefield] = dateVariantsOrdered"
   ]
  },
  {
   "cell_type": "markdown",
   "metadata": {
    "collapsed": true
   },
   "source": [
    "# Interpret Values"
   ]
  },
  {
   "cell_type": "code",
   "execution_count": 121,
   "metadata": {
    "scrolled": false
   },
   "outputs": [],
   "source": [
    "uncertaintyQualifiers = 'ca\\.|ca|circa|um|vermutlich um'\n",
    "r = {\n",
    "    'afterYearWithQualifier': r'^\\[?(' + uncertaintyQualifiers + ')?(?:nach|nicht vor)\\s?(_{4})\\??\\]?$',\n",
    "    'beforeYearWithQualifier': r'^\\[?(' + uncertaintyQualifiers + ')?(?:vor|nicht nach)\\s?(_{4})\\??\\]?$',\n",
    "    'singleDate': r'(?:i\\.e\\.|den|le)?\\s?(_{1,2}\\._{1,2}\\._{2,4})',\n",
    "    'singleYearWithQualifier': r'^\\[?(?:' + uncertaintyQualifiers + '|A°|A°\\.|Anno|a\\[nn\\]o|gezeichnet nach der Natur)?\\s?(____)\\??\\]?$',\n",
    "    'yearRangeWithQualifier': r'(?:ca\\.)?\\s?(?:zwischen)?\\s?(____\\??)\\s?(?:-|und|ud)\\s?(____\\??)'\n",
    "}\n",
    "    \n",
    "def guessMonth(monthString):\n",
    "    monthsGermanFull = [\"Januar\",\"Februar\",\"März\",\"April\",\"Mai\",\"Juni\",\"Juli\",\"August\",\"September\",\"Oktober\",\"November\",\"Dezember\"]\n",
    "    monthsGermanAbr = [\"Jan\",\"Feb\",\"Mär\",\"Apr\",\"Mai\",\"Jun\",\"Jul\",\"Aug\",\"Sept\",\"Okt\",\"Nov\",\"Dez\"]\n",
    "    monthsFrenchFull = [\"janvier\",\"février\",\"mars\",\"avril\",\"mai\",\"juin\",\"juillet\",\"aout\",\"septembre\",\"octobre\",\"novembre\",\"décembre\"]\n",
    "    monthsFrenchAbr = [\"janv\",\"févr\",\"mars\",\"avril\",\"avr\",\"mai\",\"juin\",\"juil\",\"aout\",\"aou\",\"sept\",\"oct\",\"nov\",\"déc\"]\n",
    "    monthsEnglishFull = [\"January\",\"February\",\"March\",\"April\",\"May\",\"June\",\"July\",\"August\",\"September\",\"October\",\"November\",\"December\"]\n",
    "    monthsEnglishAbr = [\"Jan\",\"Feb\",\"Mar\",\"Apr\",\"May\",\"Jun\",\"Jul\",\"Aug\",\"Sep\",\"Oct\",\"Nov\",\"Dec\"]\n",
    "    monthsRoman = [\"I\",\"II\",\"III\",\"IV\",\"V\",\"VI\",\"VII\",\"VIII\",\"IX\",\"X\",\"XI\",\"XII\"]\n",
    "    testOrder = [monthsGermanFull, monthsFrenchFull, monthsEnglishFull, monthsGermanAbr, monthsFrenchAbr, monthsEnglishAbr, monthsRoman]\n",
    "    for test in testOrder:\n",
    "        for i, month in enumerate(test):\n",
    "            if month.lower() == monthString.lower():\n",
    "                return i + 1\n",
    "    return 0\n",
    "            \n",
    "def afterYearWithQualifier(dateString):\n",
    "    year = re.search(r'(\\d{4}\\??)', dateString).group(1)\n",
    "    uncertain = re.search(r'(' + uncertaintyQualifiers + ')', dateString)\n",
    "    year = \"/\" + year\n",
    "    if uncertain and not '?' in year:\n",
    "        return year + \"?\"\n",
    "    else:\n",
    "        return year\n",
    "\n",
    "def beforeYearWithQualifier(dateString):\n",
    "    year = re.search(r'(\\d{4}\\??)', dateString).group(1)\n",
    "    uncertain = re.search(r'(' + uncertaintyQualifiers + ')', dateString)\n",
    "    year = \"/\" + year\n",
    "    if uncertain and not '?' in year:\n",
    "        return year + \"?\"\n",
    "    else:\n",
    "        return year\n",
    "\n",
    "def singleYearWithQualifier(dateString):\n",
    "    year = re.search(r'(\\d{4}\\??)', dateString).group(1)\n",
    "    uncertain = re.search(r'(' + uncertaintyQualifiers + ')', dateString)\n",
    "    if uncertain and not '?' in year:\n",
    "        return year + \"?\"\n",
    "    else:\n",
    "        return year\n",
    "\n",
    "def yearRangeWithQualifier(dateString):\n",
    "    years = re.findall(r'(\\d{4}\\??)', dateString)\n",
    "    uncertain = re.search(r'(ca)', dateString)\n",
    "    if uncertain:\n",
    "        for i, year in enumerate(years):\n",
    "            if not '?' in year:\n",
    "                years[i] += '?'\n",
    "    return \"/\".join(years)\n",
    "\n",
    "def singleDate(dateString):\n",
    "    date = re.search(r'\\d{1,2}\\.\\d{1,2}\\.\\d{2,4}', dateString)\n",
    "    return date.group(0)\n",
    "\n",
    "def fullDateWithMonthInLangOrRoman(dateString):\n",
    "    allMonths = '|'.join([monthsGermanFull, monthsFrenchFull, monthsEnglishFull, monthsGermanAbr, monthsFrenchAbr, monthsEnglishAbr, monthsRoman])\n",
    "    datePattern = r'(\\d{1,2})(?:\\.|\\s)*(?:' + allMonths + ')(?:\\.|\\s)*(?:\\d{2,4}|\\[\\d{1,3}\\]\\d{1,3})'\n",
    "    yearPattern = r'(\\d{2,4}|\\[\\d{1,3}\\]\\d{1,3})\\]?\\.?$'\n",
    "    try:\n",
    "        date = re.search(datePattern, dateString, flags=re.IGNORECASE).group(1)\n",
    "    except:\n",
    "        date = \"xx\"\n",
    "        \n",
    "    try:\n",
    "        monthWords = re.search(allMonths, dateString, flags=re.IGNORECASE).group(0)\n",
    "        month = str(guessMonth(monthWords))\n",
    "    except:\n",
    "        month = \"xx\"\n",
    "\n",
    "    try:\n",
    "        yearExtract = re.search(yearPattern, dateString).group(1)\n",
    "        year = re.sub(r'\\[|\\]','', yearExtract)\n",
    "    except:\n",
    "        year = \"xxxx\"\n",
    "    \n",
    "    return '.'.join([date, month, year])\n",
    "\n",
    "\n",
    "def interpret(dateString, pattern):\n",
    "    testOrder = ['singleDate', 'singleYearWithQualifier', 'beforeYearWithQualifier', 'afterYearWithQualifier', 'yearRangeWithQualifier']\n",
    "    possibles = globals().copy()\n",
    "    possibles.update(locals())\n",
    "    for test in testOrder:\n",
    "        m = re.search(r[test], pattern)\n",
    "        if m:    \n",
    "            f = possibles.get(test)\n",
    "            if not f:\n",
    "                raise NotImplementedError(\"Function %s not implemented\" % test)\n",
    "            return f(dateString)\n",
    "    \n",
    "    return None"
   ]
  },
  {
   "cell_type": "code",
   "execution_count": 122,
   "metadata": {},
   "outputs": [
    {
     "name": "stdout",
     "output_type": "stream",
     "text": [
      "540\n",
      "12 Juli 1844  -->  12.7.1844\n",
      "5 April 1862  -->  5.4.1862\n",
      "28 Aug. 1859  -->  28.8.1859\n",
      "1 Aug 1902  -->  1.8.1902\n",
      "8 Aug. 1902  -->  8.8.1902\n",
      "17 III 1896  -->  17.1.1896\n",
      "28 Aug 1859  -->  28.8.1859\n",
      "16 IX. 1904  -->  16.1.1904\n",
      "27 Aug [18]85  -->  27.8.1885\n",
      "26 V [18]89  -->  26.5.1889\n",
      "11. Mai 1867  -->  11.5.1867\n",
      "2 IV. 1901  -->  2.1.1901\n",
      "21 August [18]59  -->  21.8.1859\n",
      "6 Oct [18]80  -->  6.12.1880\n",
      "10/11 Aug. 1900  -->  11.8.1900\n",
      "5. April 1861  -->  5.4.1861\n",
      "27 Oct 1861  -->  27.12.1861\n",
      "d[en] 21 Sep [18]74  -->  21.9.1874\n",
      "31 May 1827  -->  31.5.1827\n",
      "7 IX 1904  -->  7.1.1904\n",
      "2 Sept [18]72  -->  2.9.1872\n",
      "14 Oct. 1897  -->  14.12.1897\n",
      "1 Oct 1889  -->  1.12.1889\n",
      "1 Oct. 1906  -->  1.12.1906\n",
      "5/7 Aug. 1911  -->  7.8.1911\n",
      "d[en] 9 Sep [18]74  -->  9.9.1874\n",
      "le 14 July 1844  -->  14.7.1844\n",
      "le 6. october 1786  -->  6.10.1786\n",
      "le 31 mars 1788  -->  31.3.1788\n",
      "9 VIII [18]74  -->  9.5.1874\n",
      "[nach 8. November 1792]  -->  8.11.1792\n",
      "[29. Juli 1794]  -->  29.7.1794\n",
      "5/6 IV. 1903  -->  6.1.1903\n",
      "7/8 Oct 1897  -->  8.12.1897\n",
      "4.IV.[18]37  -->  4.1.1837\n",
      "1844 July 28  -->  44.7.28\n",
      "le 18. May 1785  -->  18.5.1785\n",
      "8. Oct. 1879  -->  8.12.1879\n",
      "den 10 May 1817  -->  10.5.1817\n",
      "26 IV. [18]97  -->  26.1.1897\n",
      "[nach 28. September 1792]  -->  28.9.1792\n",
      "Den 30 August 1817  -->  30.8.1817\n",
      "7 / 24 August 1859  -->  24.8.1859\n",
      "7 X. 89 [i.e. 7. 10. 1889]  -->  7.10.1889\n",
      "14 Sept 81 [i.e. 14. 9. 1881]  -->  14.9.1881\n",
      "den 21. May [18]20  -->  21.5.1820\n",
      "aufgenommen 17 Oct 1861  -->  17.12.1861\n",
      "den 27 Jul. 1812  -->  27.7.1812\n",
      "den 12 Feb [18]18  -->  12.2.1818\n",
      "7/20 August 1859  -->  20.8.1859\n",
      "15. III. 1800  -->  15.1.1800\n",
      "25/26 VIII 1908  -->  26.5.1908\n",
      "Aufg. 3 Juli 1859  -->  3.7.1859\n",
      "19. Sept. 76  -->  19.9.76\n",
      "[am 29. Jan. 1891]  -->  29.1.1891\n",
      "d[en] 19 Sep 1874  -->  19.9.1874\n",
      "d[en] 22 Sept. 1848  -->  22.9.1848\n",
      "d[en] 3 Sep 1874  -->  3.9.1874\n",
      "d[en] 8 Sep. [18]74  -->  8.9.1874\n",
      "27.IX.1874  -->  27.1.1874\n",
      "le 2 Aout 1844 -  -->  2.8.xxxx\n",
      "Samstag 6. May 1854  -->  6.5.1854\n",
      "le 14 May. 1784  -->  14.5.1784\n",
      "le 25 May [17]84  -->  25.5.1784\n",
      "den 1. Jul. 1784  -->  1.7.1784\n",
      "11 Oct [18]76  -->  11.12.1876\n",
      "3 X. [18]89  -->  3.10.1889\n",
      "1/2 IX. [19]09  -->  2.1.1909\n",
      "le 4 October 1787 ... à 2 hrs.  -->  4.10.xxxx\n",
      "den 28. Jun. 1795  -->  28.6.1795\n",
      "den 27. Jul. [17]96  -->  27.7.1796\n",
      "24/27 Mai [18]89  -->  27.5.1889\n",
      "den 14. August 1806  -->  14.8.1806\n",
      "le 16. Jun. 1811  -->  16.6.1811\n",
      "Den 28. Jul. 1812  -->  28.7.1812\n",
      "22 / 29 Aug [18]59  -->  29.8.1859\n",
      "22 / 30 Aug. [18]59  -->  30.8.1859\n",
      "11/12 Sept [18]72  -->  12.9.1872\n",
      "3/4 Sept [18]86  -->  4.9.1886\n",
      "Charfreitag 13 April 1900  -->  13.1.1900\n",
      "den 22. Jul. 1820 gzcht  -->  22.7.xxxx\n",
      "genau gezeichnet. 24 Juni 1860  -->  24.1.1860\n",
      "8/9 IV 1900  -->  9.1.1900\n",
      "4/5 April 61 [i.e. 4.5. April 1861]  -->  5.4.1861\n",
      "le 23. mars 1786 à 4h. du soir  -->  23.3.xxxx\n",
      "le 24. avr. 1786. à 6h. s[oir]  -->  24.5.xxxx\n",
      "le 12. May 1786. 4h. s[soir]  -->  12.5.xxxx\n",
      "le 18. juin 1786. 6h. s[oir]  -->  18.6.xxxx\n",
      "Travaillé le 25 Juin 1849  -->  25.5.1849\n",
      "le 2. juillet 1788  -->  2.7.1788\n",
      "le 6 juillet 1788  -->  6.7.1788\n",
      "gez. den 16. Sept. 1872. gemalt den 17 Februar 1873  -->  16.9.1873\n",
      "Ostersamstag 15 IV 1900  -->  15.1.1900\n",
      "7. Juli [18]91.  -->  7.7.xxxx\n",
      "27/8 Sept 1911  -->  8.9.1911\n",
      "den 15. Jul. [180]4  -->  15.7.1804\n",
      "den 30 Jun. [18]12  -->  30.6.1812\n",
      "den 26. May 1815  -->  26.5.1815\n",
      "3. Nov. 61 [i.e. 1861]  -->  3.11.1861\n",
      "Montag den 30. Sept. 67 [i.e. 1867]  -->  30.9.1867\n",
      "12. Sept. [18]57  -->  12.9.1857\n",
      "aufgenommen den 15. Juni 1865  -->  15.6.1865\n",
      "Montag den 13. März 1871  -->  13.3.1871\n",
      "Montag den 6. März 1871  -->  6.3.1871\n",
      "Donnerstag den 9. März 1871  -->  9.3.1871\n",
      "Donnerstag den 13. April 1871  -->  13.4.1871\n",
      "gez. den 16 Sept 1872 fertig gemalt den 13. May 73  -->  16.9.73\n",
      "[aufgen 9 May 1861]  -->  9.5.1861\n",
      "7 / 23 Aug. 1859  -->  23.8.1859\n",
      "26 IX 87 [i.e. 26 IX 87]  -->  26.1.87\n",
      "Aufg. 31 März 1860  -->  31.3.1860\n",
      "20/21 Sept 81  -->  21.9.81\n",
      "aufg. 8 Juli 1859  -->  8.7.1859\n",
      "13 April 60 [i.e.1860]  -->  13.4.1860\n",
      "Aufg 3 Juli 1859  -->  3.7.1859\n",
      "Revidirt 7 Sept 1906  -->  7.5.1906\n",
      "5/6 IV. 1903 7 IX. [19]06  -->  6.1.1906\n",
      "1904. 14 VIII 1905  -->  14.5.1905\n",
      "29 Aug / 1 Sept. 1905  -->  1.8.1905\n",
      "28. Sept. 1891  -->  28.9.1891\n",
      "21/22 Aug 1903 in diebus [annocnis]  -->  22.8.xxxx\n",
      "Sonntag 4 Oct 1903  -->  4.12.1903\n",
      "13/14 Mai 1898  -->  14.5.1898\n",
      "1 October 1906  -->  1.10.1906\n",
      "aufgen. 8 Juli 1859  -->  8.7.1859\n",
      "22 VIII / 6 IX 1904  -->  6.5.1904\n",
      "13/15 Aug 1905  -->  15.8.1905\n",
      "2 & 4 April 1894  -->  4.4.1894\n",
      "Aufg 3 October 1858  -->  3.10.1858\n",
      "Aufg 3 October 1858 16 Nov  -->  3.10.xxxx\n",
      "[vor 3. Juli 1783]  -->  3.5.1783\n",
      "9. VI. 1903  -->  9.5.1903\n",
      "gem. 22.II.[18]68  -->  22.1.1868\n",
      "16 u 23 Juni 1897  -->  23.6.1897\n",
      "[am 11. März 1891]  -->  11.3.1891\n",
      "10 Sept. [18]47  -->  10.9.1847\n",
      "den 12 Aug. 82  -->  12.8.82\n",
      "17.II.[/]25.III.1833  -->  25.1.1833\n",
      "28.II.[18]33 ; 22.IV.[18]38  -->  28.1.1838\n",
      "18. VIII. 93  -->  18.5.93\n",
      "22. VIII. 93 [i.e. 1893]  -->  22.5.1893\n",
      "6/7 Mai 1867  -->  7.5.1867\n",
      "genau gezeichnet, aufgenommen 28 October 1860  -->  28.1.1860\n",
      "6.IX.1870  -->  6.1.1870\n",
      "d[en] 6 Juli 1839  -->  6.7.1839\n",
      "d[en] 12 Sep. [18]74  -->  12.9.1874\n",
      "18 Sep 1874  -->  18.9.1874\n",
      "31 Aug 52 [i.e. 31. August 1852]  -->  31.8.1852\n",
      "[21. Mai 99] [i.e. 21. Mai 1899]  -->  21.5.1899\n"
     ]
    }
   ],
   "source": [
    "field = '260$c'\n",
    "matches = {\n",
    "    'matched': [],\n",
    "    'notMatched': []\n",
    "}\n",
    "print(len(dateVariantsPerField[field]))\n",
    "for pattern in dateVariantsPerField[field].keys():\n",
    "    example = random.choice(dateVariantsPerField[field][pattern]['examples'])['value']\n",
    "    if not interpret(example, pattern):    \n",
    "        m = re.search(r'_{1,2}(\\.|\\s)*((🌕|🌙)(🇩🇪|🇫🇷|🇬🇧)|🏛)(\\.|\\s)*(_{2,4}|\\[_{1,3}\\]_{1,3})', pattern)\n",
    "        if m:\n",
    "            matches['matched'].append(pattern)\n",
    "            print(example, \" --> \", fullDateWithMonthInLangOrRoman(example))\n",
    "        else:\n",
    "            matches['notMatched'].append(pattern)\n",
    "\n",
    "# print(\"Matches\")\n",
    "# print(\"\\n\".join(matches['matched']))\n",
    "# print(\"====\\nNot matched\")\n",
    "# print(\"\\n\".join(matches['notMatched']))"
   ]
  },
  {
   "cell_type": "markdown",
   "metadata": {},
   "source": [
    "## Output"
   ]
  },
  {
   "cell_type": "code",
   "execution_count": 123,
   "metadata": {},
   "outputs": [],
   "source": [
    "for field in datefields:\n",
    "    with open(output + '/dateVariants-' + field + '.csv', 'w') as csvfile:\n",
    "        csvwriter = csv.writer(csvfile, delimiter=',',quotechar='\"', quoting=csv.QUOTE_MINIMAL)\n",
    "        csvwriter.writerow(('Format', 'Appearances', 'Example', 'Interpretation'))\n",
    "        for k, d in enumerate(dateVariantsPerField[field]):\n",
    "            example = dateVariantsPerField[field][d]['examples'][0]['value']\n",
    "            csvwriter.writerow((d, dateVariantsPerField[field][d]['count'], example, interpret(example, d)))\n"
   ]
  },
  {
   "cell_type": "code",
   "execution_count": 124,
   "metadata": {},
   "outputs": [],
   "source": [
    "\n",
    "allMonths = '|'.join([monthsGermanFull, monthsFrenchFull, monthsEnglishFull, monthsGermanAbr, monthsFrenchAbr, monthsEnglishAbr, monthsRoman])\n",
    "datePattern = r'(\\d{1,2})(?:\\.|\\s)*(?:' + allMonths + ')(?:\\.|\\s)*(?:\\d{2,4}|\\[\\d{1,3}\\]\\d{1,3})'\n",
    "yearPattern = r'(\\d{2,4}|\\[\\d{1,3}\\]\\d{1,3})\\]?$'"
   ]
  },
  {
   "cell_type": "code",
   "execution_count": 125,
   "metadata": {},
   "outputs": [
    {
     "name": "stdout",
     "output_type": "stream",
     "text": [
      "(\\d{1,2})(?:\\.|\\s)*(?:(Januar)|(Februar)|(März)|(April)|(Mai)|(Juni)|(Juli)|(August)|(September)|(Oktober)|(November)|(Dezember)|(janvier)|(février)|(mars)|(avril)|(mai)|(juin)|(juillet)|(aout)|(septembre)|(octobre)|(novembre)|(décembre)|(January)|(February)|(March)|(April)|(May)|(June)|(July)|(August)|(September)|(October)|(November)|(December)|(Jan)|(Feb)|(Mär)|(Apr)|(Mai)|(Jun)|(Jul)|(Aug)|(Sept)|(Okt)|(Nov)|(Dez)|(janv)|(févr)|(mars)|(avril)|(avr)|(mai)|(juin)|(juil)|(aout)|(aou)|(sept)|(oct)|(nov)|(déc)|(Jan)|(Feb)|(Mar)|(Apr)|(May)|(Jun)|(Jul)|(Aug)|(Sep)|(Oct)|(Nov)|(Dec)|(I)|(II)|(III)|(IV)|(V)|(VI)|(VII)|(VIII)|(IX)|(X)|(XI)|(XII))(?:\\.|\\s)*(?:\\d{2,4}|\\[\\d{1,3}\\]\\d{1,3})\n"
     ]
    }
   ],
   "source": [
    "print(datePattern)"
   ]
  },
  {
   "cell_type": "code",
   "execution_count": null,
   "metadata": {
    "collapsed": true
   },
   "outputs": [],
   "source": []
  }
 ],
 "metadata": {
  "kernelspec": {
   "display_name": "Python 3",
   "language": "python",
   "name": "python3"
  },
  "language_info": {
   "codemirror_mode": {
    "name": "ipython",
    "version": 3
   },
   "file_extension": ".py",
   "mimetype": "text/x-python",
   "name": "python",
   "nbconvert_exporter": "python",
   "pygments_lexer": "ipython3",
   "version": "3.6.3"
  }
 },
 "nbformat": 4,
 "nbformat_minor": 2
}
