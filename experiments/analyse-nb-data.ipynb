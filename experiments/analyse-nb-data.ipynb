{
 "cells": [
  {
   "cell_type": "code",
   "execution_count": 1,
   "metadata": {
    "collapsed": true
   },
   "outputs": [],
   "source": [
    "import sys"
   ]
  },
  {
   "cell_type": "code",
   "execution_count": 2,
   "metadata": {},
   "outputs": [
    {
     "name": "stdout",
     "output_type": "stream",
     "text": [
      "Requirement already satisfied: itables in /Users/fkraeutli/anaconda/lib/python3.6/site-packages (0.2.2)\n",
      "Requirement already satisfied: pandas in /Users/fkraeutli/anaconda/lib/python3.6/site-packages (from itables) (0.22.0)\n",
      "Requirement already satisfied: IPython in /Users/fkraeutli/anaconda/lib/python3.6/site-packages (from itables) (6.1.0)\n",
      "Requirement already satisfied: pytz>=2011k in /Users/fkraeutli/anaconda/lib/python3.6/site-packages (from pandas->itables) (2018.4)\n",
      "Requirement already satisfied: python-dateutil>=2 in /Users/fkraeutli/anaconda/lib/python3.6/site-packages (from pandas->itables) (2.7.2)\n",
      "Requirement already satisfied: numpy>=1.9.0 in /Users/fkraeutli/anaconda/lib/python3.6/site-packages (from pandas->itables) (1.16.4)\n",
      "Requirement already satisfied: six>=1.5 in /Users/fkraeutli/anaconda/lib/python3.6/site-packages (from python-dateutil>=2->pandas->itables) (1.11.0)\n",
      "\u001b[33mWARNING: You are using pip version 20.1.1; however, version 20.3.1 is available.\n",
      "You should consider upgrading via the '/Users/fkraeutli/anaconda/bin/python -m pip install --upgrade pip' command.\u001b[0m\n"
     ]
    }
   ],
   "source": [
    "!{sys.executable} -m pip install itables"
   ]
  },
  {
   "cell_type": "code",
   "execution_count": 3,
   "metadata": {},
   "outputs": [
    {
     "data": {
      "application/javascript": [
       "require.config({\n",
       "    paths: {\n",
       "        datatables: 'https://cdn.datatables.net/1.10.19/js/jquery.dataTables.min',\n",
       "    }\n",
       "});\n",
       "\n",
       "$('head').append('<link rel=\"stylesheet\" type=\"text/css\" \\\n",
       "                href = \"https://cdn.datatables.net/1.10.19/css/jquery.dataTables.min.css\" > ');\n",
       "\n",
       "$('head').append('<style> table td { text-overflow: ellipsis; overflow: hidden; } </style>');\n",
       "\n",
       "$('head').append(`<script>\n",
       "function eval_functions(map_or_text) {\n",
       "    if (typeof map_or_text === \"string\") {\n",
       "        if (map_or_text.startsWith(\"function\")) {\n",
       "            try {\n",
       "                // Note: parenthesis are required around the whole expression for eval to return a value!\n",
       "                // See https://stackoverflow.com/a/7399078/911298.\n",
       "                //\n",
       "                // eval(\"local_fun = \" + map_or_text) would fail because local_fun is not declared\n",
       "                // (using var, let or const would work, but it would only be declared in the local scope\n",
       "                // and therefore the value could not be retrieved).\n",
       "                const func = eval(\"(\" + map_or_text + \")\");\n",
       "                if (typeof func !== \"function\") {\n",
       "                    // Note: backquotes are super convenient!\n",
       "                    // https://developer.mozilla.org/en-US/docs/Web/JavaScript/Reference/Template_literals\n",
       "                    console.error(\"Evaluated expression \" + map_or_text + \" is not a function (type is \" + typeof func + \")\");\n",
       "                    return map_or_text;\n",
       "                }\n",
       "                // Return the function\n",
       "                return func;\n",
       "            } catch (e) {\n",
       "                // Make sure to print the error with a second argument to console.error().\n",
       "                console.error(\"itables was not able to parse \" + map_or_text, e);\n",
       "            }\n",
       "        }\n",
       "    } else if (typeof map_or_text === \"object\") {\n",
       "        if (map_or_text instanceof Array) {\n",
       "            // Note: \"var\" is now superseded by \"let\" and \"const\".\n",
       "            // https://medium.com/javascript-scene/javascript-es6-var-let-or-const-ba58b8dcde75\n",
       "            const result = [];\n",
       "            // Note: \"for of\" is the best way to iterate through an iterable.\n",
       "            // https://developer.mozilla.org/en-US/docs/Web/JavaScript/Reference/Statements/for...of\n",
       "            for (const item of map_or_text) {\n",
       "                result.push(eval_functions(item));\n",
       "            }\n",
       "            return result;\n",
       "\n",
       "            // Alternatively, more functional approach in one line:\n",
       "            // return map_or_text.map(eval_functions);\n",
       "        } else {\n",
       "            const result = {};\n",
       "            // Object.keys() is safer than \"for in\" because otherwise you might have keys\n",
       "            // that aren't defined in the object itself.\n",
       "            //\n",
       "            // See https://stackoverflow.com/a/684692/911298.\n",
       "            for (const item of Object.keys(map_or_text)) {\n",
       "                result[item] = eval_functions(map_or_text[item]);\n",
       "            }\n",
       "            return result;\n",
       "        }\n",
       "    }\n",
       "\n",
       "    return map_or_text;\n",
       "}\n",
       "</` + 'script>');"
      ],
      "text/plain": [
       "<IPython.core.display.Javascript object>"
      ]
     },
     "metadata": {},
     "output_type": "display_data"
    }
   ],
   "source": [
    "from itables import show\n",
    "from lxml import etree\n",
    "import pandas as pd"
   ]
  },
  {
   "cell_type": "code",
   "execution_count": 4,
   "metadata": {
    "collapsed": true
   },
   "outputs": [],
   "source": [
    "inputFile = '/Users/fkraeutli/Sites/bso-curation-data/data/nb/source/WMC_Records_20201201.xml'\n",
    "outputFile = './output/nb-analysis.html'\n",
    "output = ''"
   ]
  },
  {
   "cell_type": "code",
   "execution_count": 5,
   "metadata": {
    "collapsed": true
   },
   "outputs": [],
   "source": [
    "root = etree.parse(inputFile)"
   ]
  },
  {
   "cell_type": "code",
   "execution_count": 6,
   "metadata": {
    "collapsed": true
   },
   "outputs": [],
   "source": [
    "records = root.findall(\"/Record\")"
   ]
  },
  {
   "cell_type": "markdown",
   "metadata": {},
   "source": [
    "Look at number of records"
   ]
  },
  {
   "cell_type": "code",
   "execution_count": 7,
   "metadata": {},
   "outputs": [
    {
     "name": "stdout",
     "output_type": "stream",
     "text": [
      "Found 8384 records\n"
     ]
    }
   ],
   "source": [
    "print(\"Found %d records\" % len(records))"
   ]
  },
  {
   "cell_type": "markdown",
   "metadata": {},
   "source": [
    "Parse XML file"
   ]
  },
  {
   "cell_type": "code",
   "execution_count": 8,
   "metadata": {},
   "outputs": [
    {
     "name": "stderr",
     "output_type": "stream",
     "text": [
      "/Users/fkraeutli/anaconda/lib/python3.6/site-packages/ipykernel_launcher.py:35: FutureWarning: The behavior of this method will change in future versions. Use specific 'len(elem)' or 'elem is not None' test instead.\n"
     ]
    }
   ],
   "source": [
    "def addDataElements(elements, newElements):\n",
    "    for element in newElements:\n",
    "        id = element.get(\"ElementId\")\n",
    "        if not id in elements:\n",
    "            elements[id] = {\n",
    "                \"id\": id,\n",
    "                \"name\": element.get(\"ElementName\"),\n",
    "                \"type\": element.get(\"ElementType\"),\n",
    "                \"typeId\": element.get(\"ElementTypeId\"),\n",
    "                \"recordCount\": 1\n",
    "            }\n",
    "        else:\n",
    "            elements[id][\"recordCount\"] += 1\n",
    "    return elements\n",
    "\n",
    "dataElements = {}\n",
    "descriptors = {}\n",
    "for record in records:\n",
    "    recordDataElements = record.findall(\"DetailData/DataElement\")\n",
    "    dataElements = addDataElements(dataElements, recordDataElements)\n",
    "            \n",
    "    recordDescriptors = record.findall(\"Descriptors/Descriptor\")\n",
    "    for descriptor in recordDescriptors:\n",
    "        id = descriptor.find(\"Thesaurus\").text\n",
    "        if not id in descriptors:\n",
    "            descriptors[id] = {\n",
    "                \"id\": id,\n",
    "                \"recordCount\": 0,\n",
    "                \"hasDetailData\": False,\n",
    "                \"dataElements\": {}\n",
    "            }\n",
    "        else:\n",
    "            descriptors[id][\"recordCount\"] += 1\n",
    "        \n",
    "        if descriptor.find(\"DetailData\"): \n",
    "            descriptors[id][\"hasDetailData\"] = True\n",
    "            descriptors[id][\"dataElements\"] = addDataElements(descriptors[id][\"dataElements\"], descriptor.findall(\"DetailData/DataElement\"))\n",
    "            \n",
    "            "
   ]
  },
  {
   "cell_type": "markdown",
   "metadata": {},
   "source": [
    "## Data elements"
   ]
  },
  {
   "cell_type": "code",
   "execution_count": 9,
   "metadata": {},
   "outputs": [
    {
     "data": {
      "text/html": [
       "<div><table id=\"6c4c577c-085b-40ab-8591-b4ff0adc6a98\" class=\"display\"><thead>\n",
       "    <tr style=\"text-align: right;\">\n",
       "      \n",
       "      <th>Id</th>\n",
       "      <th>Name</th>\n",
       "      <th>Type</th>\n",
       "      <th>Count</th>\n",
       "      <th>Coverage</th>\n",
       "    </tr>\n",
       "  </thead></table>\n",
       "<script type=\"text/javascript\">\n",
       "require([\"datatables\"], function (datatables) {\n",
       "    $(document).ready(function () {        \n",
       "        var dt_args = {\"columnDefs\": [{\"width\": \"70px\", \"targets\": \"_all\"}], \"data\": [[\"2\", \"Signatur\", \"Memo (max. 4000 Z.)\", 8384, 1.0], [\"3\", \"Signatur Archivplan\", \"Memo (max. 4000 Z.)\", 8384, 1.0], [\"10817\", \"FotografIn\", \"Memo (max. 4000 Z.)\", 1476, 0.17605], [\"1\", \"Titel\", \"Memo (max. 4000 Z.)\", 8384, 1.0], [\"7\", \"Entstehungszeitraum\", \"Datumsbereich (von/bis)\", 8384, 1.0], [\"17\", \"Archivalienart\", \"Auswahlliste\", 8384, 1.0], [\"10\", \"Ansichtsbild\", \"Bild\", 8316, 0.991889], [\"9\", \"Vorschaubild\", \"Bild\", 8368, 0.998092], [\"10848\", \"Urheberrechts-InhaberIn\", \"Memo (max. 4000 Z.)\", 1476, 0.17605], [\"10003\", \"Inhalt / Kurzbeschreibung\", \"Memo (max. 4000 Z.)\", 8365, 0.997734], [\"16\", \"Erschliessungsgrad\", \"Auswahlliste\", 8357, 0.99678], [\"11066\", \"Land\", \"Auswahlliste\", 7677, 0.915673], [\"11068\", \"Kanton\", \"Auswahlliste\", 7029, 0.838383], [\"10156\", \"Gemeinde\", \"Memo (max. 4000 Z.)\", 6379, 0.760854], [\"10157\", \"Postleitzahl\", \"Memo (max. 4000 Z.)\", 6407, 0.764194], [\"10122\", \"Ort\", \"Memo (max. 4000 Z.)\", 6668, 0.795324], [\"10160\", \"Lokalname\", \"Memo (max. 4000 Z.)\", 1264, 0.150763], [\"10161\", \"Koordinaten X\", \"Memo (max. 4000 Z.)\", 1318, 0.157204], [\"10162\", \"Koordinaten Y\", \"Memo (max. 4000 Z.)\", 1318, 0.157204], [\"11070\", \"Farbe\", \"Auswahlliste\", 7919, 0.944537], [\"10372\", \"Orientierung und Form\", \"Auswahlliste\", 8323, 0.992724], [\"11040\", \"URL Bild in Druckqualit\\u00e4t\", \"Web-Hyperlink\", 8384, 1.0], [\"10884\", \"Projekte\", \"Auswahlliste\", 1620, 0.193225], [\"10435\", \"Dateiname Digitalisat\", \"Memo (max. 4000 Z.)\", 6596, 0.786737], [\"11053\", \"Personen\", \"Memo (max. 4000 Z.)\", 7973, 0.950978], [\"11057\", \"Geopolitische Daten\", \"Memo (max. 4000 Z.)\", 6972, 0.831584], [\"506\", \"VE-Objekt\", \"Verkn\\u00fcpfung\", 141, 0.016818], [\"10159\", \"Strasse\", \"Memo (max. 4000 Z.)\", 469, 0.05594], [\"10882\", \"Interne Bemerkung\", \"Memo (max. 4000 Z.)\", 1859, 0.221732], [\"10110\", \"Bemerkung zum Entstehungszeitraum\", \"Memo (max. 4000 Z.)\", 1343, 0.160186], [\"10165\", \"Andere Dokumentnummer\", \"Memo (max. 4000 Z.)\", 6706, 0.799857], [\"10927\", \"K\\u00fcnstlerIn\", \"Memo (max. 4000 Z.)\", 6434, 0.767414], [\"10900\", \"Titel der Serie\", \"Memo (max. 4000 Z.)\", 4275, 0.5099], [\"10101\", \"Allgemeine Bemerkungen\", \"Memo (max. 4000 Z.)\", 2063, 0.246064], [\"10345\", \"Beschriftung - Legende\", \"Memo (max. 4000 Z.)\", 6479, 0.772781], [\"10752\", \"Art des Erwerbs\", \"Auswahlliste\", 6396, 0.762882], [\"10754\", \"Erwerbsdatum\", \"Einzeldatum\", 6337, 0.755844], [\"11006\", \"SammlerIn\", \"Memo (max. 4000 Z.)\", 4888, 0.583015], [\"505\", \"VE-Ablieferung (Link)\", \"Verkn\\u00fcpfung\", 1760, 0.209924], [\"10217\", \"Masse Bild\", \"Memo (max. 4000 Z.)\", 6297, 0.751073], [\"10483\", \"Verfahren\", \"Auswahlliste\", 6861, 0.818344], [\"11059\", \"Technik Malerei\", \"Auswahlliste\", 42, 0.00501], [\"11043\", \"Bemerkung zur Technik\", \"Memo (max. 4000 Z.)\", 1188, 0.141698], [\"10358\", \"Transparenz\", \"Auswahlliste\", 6879, 0.820491], [\"10488\", \"Tr\\u00e4germaterial\", \"Auswahlliste\", 6878, 0.820372], [\"10367\", \"Rahmen\", \"Auswahlliste\", 42, 0.00501], [\"10368\", \"Rahmenart\", \"Auswahlliste\", 42, 0.00501], [\"10426\", \"Rahmenart andere\", \"Memo (max. 4000 Z.)\", 4, 0.000477], [\"10211\", \"Literaturangabe\", \"Memo (max. 4000 Z.)\", 3444, 0.410782], [\"10317\", \"Titel (Variante)\", \"Memo (max. 4000 Z.)\", 249, 0.029699], [\"10739\", \"Masse Blatt\", \"Memo (max. 4000 Z.)\", 6669, 0.795444], [\"10738\", \"Masse Bild mit Passepartout und/oder Rahmen\", \"Memo (max. 4000 Z.)\", 3391, 0.404461], [\"10745\", \"Technik Originalzeichnung\", \"Auswahlliste\", 926, 0.110448], [\"11042\", \"Masse Plattenrand\", \"Memo (max. 4000 Z.)\", 3222, 0.384303], [\"11045\", \"Zustand Druckplatte\", \"Memo (max. 4000 Z.)\", 222, 0.026479], [\"10746\", \"Technik Druckgrafik\", \"Auswahlliste\", 5923, 0.706465], [\"10971\", \"Bearbeitung\", \"Auswahlliste\", 3765, 0.44907], [\"10915\", \"HerausgeberIn/VerlegerIn\", \"Memo (max. 4000 Z.)\", 4283, 0.510854], [\"10879\", \"Bemerkung zur Beschriftung - Legende\", \"Memo (max. 4000 Z.)\", 198, 0.023616], [\"11055\", \"K\\u00f6rperschaften\", \"Memo (max. 4000 Z.)\", 1349, 0.160902], [\"10872\", \"DonatorIn\", \"Memo (max. 4000 Z.)\", 117, 0.013955], [\"10311\", \"Provenienz\", \"Memo (max. 4000 Z.)\", 24, 0.002863], [\"10825\", \"Weitere UrheberInnen\", \"Memo (max. 4000 Z.)\", 6, 0.000716], [\"10114\", \"Technik\", \"Memo (max. 4000 Z.)\", 24, 0.002863], [\"10901\", \"Versicherungssumme\", \"Memo (max. 4000 Z.)\", 1, 0.000119], [\"10183\", \"URL Publikation\", \"Web-Hyperlink\", 1, 0.000119], [\"10881\", \"Sekund\\u00e4rliteratur\", \"Memo (max. 4000 Z.)\", 6, 0.000716], [\"10294\", \"Bemerkung zum Urheberrecht\", \"Memo (max. 4000 Z.)\", 5, 0.000596], [\"10119\", \"Unterschrift\", \"Auswahlliste\", 1, 0.000119], [\"10860\", \"Beilage(n)\", \"Memo (max. 4000 Z.)\", 1, 0.000119], [\"11028\", \"Anzahl Bilder Filmstrip\", \"Ganze Zahl\", 1, 0.000119], [\"10988\", \"Pr\\u00e4sentation in Ausstellungen\", \"Memo (max. 4000 Z.)\", 2, 0.000239]]};\n",
       "        dt_args = eval_functions(dt_args);\n",
       "        table = $('#6c4c577c-085b-40ab-8591-b4ff0adc6a98').DataTable(dt_args);\n",
       "    });\n",
       "})\n",
       "</script>\n",
       "</div>\n"
      ],
      "text/plain": [
       "<IPython.core.display.HTML object>"
      ]
     },
     "metadata": {},
     "output_type": "display_data"
    }
   ],
   "source": [
    "data = [[d['id'], d['name'], d['type'], d['recordCount'], d['recordCount']/len(records)] for d in dataElements.values()]\n",
    "dataElementsAnalysis = pd.DataFrame(data, columns=[\"Id\", \"Name\", \"Type\", \"Count\", \"Coverage\"])\n",
    "show(dataElementsAnalysis)"
   ]
  },
  {
   "cell_type": "code",
   "execution_count": null,
   "metadata": {
    "collapsed": true
   },
   "outputs": [],
   "source": [
    "output += \"<h2>Data Elements</h2>\"\n",
    "output += dataElementsAnalysis.to_html()"
   ]
  },
  {
   "cell_type": "markdown",
   "metadata": {},
   "source": [
    "## Descriptors"
   ]
  },
  {
   "cell_type": "code",
   "execution_count": 10,
   "metadata": {},
   "outputs": [
    {
     "data": {
      "text/html": [
       "<div><table id=\"14518303-9564-416c-8e2f-1c689de850bf\" class=\"display\"><thead>\n",
       "    <tr style=\"text-align: right;\">\n",
       "      \n",
       "      <th>Id</th>\n",
       "      <th>Details</th>\n",
       "      <th>Count</th>\n",
       "      <th>Coverage</th>\n",
       "    </tr>\n",
       "  </thead></table>\n",
       "<script type=\"text/javascript\">\n",
       "require([\"datatables\"], function (datatables) {\n",
       "    $(document).ready(function () {        \n",
       "        var dt_args = {\"columnDefs\": [{\"width\": \"70px\", \"targets\": \"_all\"}], \"data\": [[\"Personen\", true, 12851, 1.532801], [\"Gemeinfrei\", false, 1475, 0.17593], [\"Geografika\", true, 5406, 0.6448], [\"Geografika (Import)\", false, 1578, 0.188216], [\"Landschaft\", false, 188, 0.022424], [\"Gew\\u00e4sser\", false, 16, 0.001908], [\"Verkehrsweg\", false, 11, 0.001312], [\"Ortschaft\", false, 38, 0.004532], [\"Architektur\", false, 27, 0.00322], [\"Ereignis\", false, 0, 0.0], [\"Verkehrsmittel\", false, 0, 0.0], [\"Portr\\u00e4t\", false, 747, 0.089098], [\"K\\u00f6rperschaften\", true, 1384, 0.165076]]};\n",
       "        dt_args = eval_functions(dt_args);\n",
       "        table = $('#14518303-9564-416c-8e2f-1c689de850bf').DataTable(dt_args);\n",
       "    });\n",
       "})\n",
       "</script>\n",
       "</div>\n"
      ],
      "text/plain": [
       "<IPython.core.display.HTML object>"
      ]
     },
     "metadata": {},
     "output_type": "display_data"
    }
   ],
   "source": [
    "data = [[d['id'], d['hasDetailData'], d['recordCount'], d['recordCount']/len(records)] for d in descriptors.values()]\n",
    "descriptorsAnalysis = pd.DataFrame(data, columns=[\"Id\", \"Details\", \"Count\", \"Coverage\"])\n",
    "show(descriptorsAnalysis)"
   ]
  },
  {
   "cell_type": "code",
   "execution_count": null,
   "metadata": {
    "collapsed": true
   },
   "outputs": [],
   "source": [
    "output += \"<h2>Descriptors</h2>\"\n",
    "output += descriptorsAnalysis.to_html()"
   ]
  },
  {
   "cell_type": "markdown",
   "metadata": {},
   "source": [
    "### Data Elements within Descriptors"
   ]
  },
  {
   "cell_type": "code",
   "execution_count": null,
   "metadata": {
    "collapsed": true
   },
   "outputs": [],
   "source": [
    "output += \"<h3>Data Elements within Descriptors</h3>\""
   ]
  },
  {
   "cell_type": "code",
   "execution_count": 11,
   "metadata": {
    "scrolled": true
   },
   "outputs": [
    {
     "name": "stdout",
     "output_type": "stream",
     "text": [
      "Personen\n"
     ]
    },
    {
     "data": {
      "text/html": [
       "<div><table id=\"10e5b3af-538d-41e7-9c99-677df767843e\" class=\"display\"><thead>\n",
       "    <tr style=\"text-align: right;\">\n",
       "      \n",
       "      <th>Id</th>\n",
       "      <th>Name</th>\n",
       "      <th>Type</th>\n",
       "      <th>Count</th>\n",
       "    </tr>\n",
       "  </thead></table>\n",
       "<script type=\"text/javascript\">\n",
       "require([\"datatables\"], function (datatables) {\n",
       "    $(document).ready(function () {        \n",
       "        var dt_args = {\"columnDefs\": [{\"width\": \"70px\", \"targets\": \"_all\"}], \"paging\": false, \"data\": [[\"11049\", \"Name\", \"Memo\", 1], [\"11113\", \"Lebensdaten\", \"Memo\", 1], [\"10789\", \"Geschlecht\", \"Auswahlliste\", 1], [\"10684\", \"Beruf/Funktion/T\\u00e4tigkeitsbereich\", \"Memo (max. 4000 Z.)\", 1], [\"11098\", \"Nationalit\\u00e4t\", \"Memo\", 1], [\"11114\", \"Genaue Lebensdaten\", \"Memo\", 1], [\"10792\", \"Geburtsort\", \"Memo (max. 4000 Z.)\", 1], [\"10793\", \"Sterbeort\", \"Memo (max. 4000 Z.)\", 1], [\"11050\", \"Gemeinsame Normdatei \\u2013 GND\", \"Web-Hyperlink\", 1]]};\n",
       "        dt_args = eval_functions(dt_args);\n",
       "        table = $('#10e5b3af-538d-41e7-9c99-677df767843e').DataTable(dt_args);\n",
       "    });\n",
       "})\n",
       "</script>\n",
       "</div>\n"
      ],
      "text/plain": [
       "<IPython.core.display.HTML object>"
      ]
     },
     "metadata": {},
     "output_type": "display_data"
    },
    {
     "name": "stdout",
     "output_type": "stream",
     "text": [
      "Geografika\n"
     ]
    },
    {
     "data": {
      "text/html": [
       "<div><table id=\"1dfa2eba-40c2-40e8-b054-f33f0cc76799\" class=\"display\"><thead>\n",
       "    <tr style=\"text-align: right;\">\n",
       "      \n",
       "      <th>Id</th>\n",
       "      <th>Name</th>\n",
       "      <th>Type</th>\n",
       "      <th>Count</th>\n",
       "    </tr>\n",
       "  </thead></table>\n",
       "<script type=\"text/javascript\">\n",
       "require([\"datatables\"], function (datatables) {\n",
       "    $(document).ready(function () {        \n",
       "        var dt_args = {\"columnDefs\": [{\"width\": \"70px\", \"targets\": \"_all\"}], \"paging\": false, \"data\": [[\"11049\", \"Name\", \"Memo\", 12], [\"10101\", \"Allgemeine Bemerkungen\", \"Memo (max. 4000 Z.)\", 5], [\"11050\", \"Gemeinsame Normdatei \\u2013 GND\", \"Web-Hyperlink\", 11], [\"10230\", \"URL Kontextinformationen\", \"Web-Hyperlink\", 12], [\"11103\", \"Wikipedia\", \"Web-Hyperlink\", 6]]};\n",
       "        dt_args = eval_functions(dt_args);\n",
       "        table = $('#1dfa2eba-40c2-40e8-b054-f33f0cc76799').DataTable(dt_args);\n",
       "    });\n",
       "})\n",
       "</script>\n",
       "</div>\n"
      ],
      "text/plain": [
       "<IPython.core.display.HTML object>"
      ]
     },
     "metadata": {},
     "output_type": "display_data"
    },
    {
     "name": "stdout",
     "output_type": "stream",
     "text": [
      "Körperschaften\n"
     ]
    },
    {
     "data": {
      "text/html": [
       "<div><table id=\"ff535b4d-7871-4084-8d9c-e52c426cf6e6\" class=\"display\"><thead>\n",
       "    <tr style=\"text-align: right;\">\n",
       "      \n",
       "      <th>Id</th>\n",
       "      <th>Name</th>\n",
       "      <th>Type</th>\n",
       "      <th>Count</th>\n",
       "    </tr>\n",
       "  </thead></table>\n",
       "<script type=\"text/javascript\">\n",
       "require([\"datatables\"], function (datatables) {\n",
       "    $(document).ready(function () {        \n",
       "        var dt_args = {\"columnDefs\": [{\"width\": \"70px\", \"targets\": \"_all\"}], \"paging\": false, \"data\": [[\"11049\", \"Name\", \"Memo\", 42], [\"10788\", \"Wirkungszeitraum\", \"Datumsbereich (von/bis)\", 42], [\"11099\", \"Wirkungsland\", \"Memo\", 42], [\"10122\", \"Ort\", \"Memo (max. 4000 Z.)\", 42], [\"11050\", \"Gemeinsame Normdatei \\u2013 GND\", \"Web-Hyperlink\", 42]]};\n",
       "        dt_args = eval_functions(dt_args);\n",
       "        table = $('#ff535b4d-7871-4084-8d9c-e52c426cf6e6').DataTable(dt_args);\n",
       "    });\n",
       "})\n",
       "</script>\n",
       "</div>\n"
      ],
      "text/plain": [
       "<IPython.core.display.HTML object>"
      ]
     },
     "metadata": {},
     "output_type": "display_data"
    }
   ],
   "source": [
    "for descriptor in [descriptors[d] for d in descriptors.keys() if descriptors[d]['hasDetailData'] is True]:\n",
    "    print(descriptor['id'])\n",
    "    data = [[d['id'], d['name'], d['type'], d['recordCount']] for d in descriptor['dataElements'].values()]\n",
    "    dataElementsAnalysis = pd.DataFrame(data, columns=[\"Id\", \"Name\", \"Type\", \"Count\"])\n",
    "    show(dataElementsAnalysis)\n",
    "    \n",
    "    output += \"<h4>%s</h4>\" % descriptor['id']\n",
    "    output += dataElementsAnalysis.to_html()"
   ]
  },
  {
   "cell_type": "markdown",
   "metadata": {
    "collapsed": true
   },
   "source": [
    "## Tags"
   ]
  },
  {
   "cell_type": "code",
   "execution_count": 12,
   "metadata": {
    "collapsed": true
   },
   "outputs": [],
   "source": [
    "tags = list(set([t.tag for t in root.findall('//*')]))\n",
    "tags.sort()"
   ]
  },
  {
   "cell_type": "markdown",
   "metadata": {},
   "source": [
    "List all tags"
   ]
  },
  {
   "cell_type": "code",
   "execution_count": 13,
   "metadata": {},
   "outputs": [
    {
     "name": "stdout",
     "output_type": "stream",
     "text": [
      "AdministrativeData\n",
      "CreatedOn\n",
      "DataElement\n",
      "DateRange\n",
      "Description\n",
      "Descriptor\n",
      "Descriptors\n",
      "DetailData\n",
      "ElementValue\n",
      "FileValue\n",
      "FromApproxIndicator\n",
      "FromDate\n",
      "IdName\n",
      "IntValue\n",
      "LastEditedOn\n",
      "Name\n",
      "Record\n",
      "Reference\n",
      "ReferenceName\n",
      "References\n",
      "SeeAlso\n",
      "TextRepresentation\n",
      "TextValue\n",
      "Thesaurus\n",
      "ToApproxIndicator\n",
      "ToDate\n"
     ]
    }
   ],
   "source": [
    "print(\"\\n\".join(tags))"
   ]
  },
  {
   "cell_type": "code",
   "execution_count": null,
   "metadata": {
    "collapsed": true
   },
   "outputs": [],
   "source": [
    "output += \"<h2>Tags</h2>\"\n",
    "output += \"<ul><li>\" + \"</li><li>\".join(tags)"
   ]
  }
 ],
 "metadata": {
  "kernelspec": {
   "display_name": "Python 3",
   "language": "python",
   "name": "python3"
  },
  "language_info": {
   "codemirror_mode": {
    "name": "ipython",
    "version": 3
   },
   "file_extension": ".py",
   "mimetype": "text/x-python",
   "name": "python",
   "nbconvert_exporter": "python",
   "pygments_lexer": "ipython3",
   "version": "3.6.3"
  }
 },
 "nbformat": 4,
 "nbformat_minor": 2
}
