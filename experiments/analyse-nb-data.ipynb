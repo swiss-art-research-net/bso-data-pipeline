{
 "cells": [
  {
   "cell_type": "code",
   "execution_count": 1,
   "metadata": {
    "collapsed": true
   },
   "outputs": [],
   "source": [
    "import sys"
   ]
  },
  {
   "cell_type": "code",
   "execution_count": 2,
   "metadata": {},
   "outputs": [
    {
     "name": "stdout",
     "output_type": "stream",
     "text": [
      "Requirement already satisfied: itables in /Users/fkraeutli/anaconda/lib/python3.6/site-packages (0.2.2)\n",
      "Requirement already satisfied: IPython in /Users/fkraeutli/anaconda/lib/python3.6/site-packages (from itables) (6.1.0)\n",
      "Requirement already satisfied: pandas in /Users/fkraeutli/anaconda/lib/python3.6/site-packages (from itables) (0.22.0)\n",
      "Requirement already satisfied: numpy>=1.9.0 in /Users/fkraeutli/anaconda/lib/python3.6/site-packages (from pandas->itables) (1.16.4)\n",
      "Requirement already satisfied: python-dateutil>=2 in /Users/fkraeutli/anaconda/lib/python3.6/site-packages (from pandas->itables) (2.7.2)\n",
      "Requirement already satisfied: pytz>=2011k in /Users/fkraeutli/anaconda/lib/python3.6/site-packages (from pandas->itables) (2018.4)\n",
      "Requirement already satisfied: six>=1.5 in /Users/fkraeutli/anaconda/lib/python3.6/site-packages (from python-dateutil>=2->pandas->itables) (1.11.0)\n",
      "\u001b[33mWARNING: You are using pip version 20.1.1; however, version 20.3.1 is available.\n",
      "You should consider upgrading via the '/Users/fkraeutli/anaconda/bin/python -m pip install --upgrade pip' command.\u001b[0m\n"
     ]
    }
   ],
   "source": [
    "!{sys.executable} -m pip install itables"
   ]
  },
  {
   "cell_type": "code",
   "execution_count": 3,
   "metadata": {},
   "outputs": [
    {
     "data": {
      "application/javascript": [
       "require.config({\n",
       "    paths: {\n",
       "        datatables: 'https://cdn.datatables.net/1.10.19/js/jquery.dataTables.min',\n",
       "    }\n",
       "});\n",
       "\n",
       "$('head').append('<link rel=\"stylesheet\" type=\"text/css\" \\\n",
       "                href = \"https://cdn.datatables.net/1.10.19/css/jquery.dataTables.min.css\" > ');\n",
       "\n",
       "$('head').append('<style> table td { text-overflow: ellipsis; overflow: hidden; } </style>');\n",
       "\n",
       "$('head').append(`<script>\n",
       "function eval_functions(map_or_text) {\n",
       "    if (typeof map_or_text === \"string\") {\n",
       "        if (map_or_text.startsWith(\"function\")) {\n",
       "            try {\n",
       "                // Note: parenthesis are required around the whole expression for eval to return a value!\n",
       "                // See https://stackoverflow.com/a/7399078/911298.\n",
       "                //\n",
       "                // eval(\"local_fun = \" + map_or_text) would fail because local_fun is not declared\n",
       "                // (using var, let or const would work, but it would only be declared in the local scope\n",
       "                // and therefore the value could not be retrieved).\n",
       "                const func = eval(\"(\" + map_or_text + \")\");\n",
       "                if (typeof func !== \"function\") {\n",
       "                    // Note: backquotes are super convenient!\n",
       "                    // https://developer.mozilla.org/en-US/docs/Web/JavaScript/Reference/Template_literals\n",
       "                    console.error(\"Evaluated expression \" + map_or_text + \" is not a function (type is \" + typeof func + \")\");\n",
       "                    return map_or_text;\n",
       "                }\n",
       "                // Return the function\n",
       "                return func;\n",
       "            } catch (e) {\n",
       "                // Make sure to print the error with a second argument to console.error().\n",
       "                console.error(\"itables was not able to parse \" + map_or_text, e);\n",
       "            }\n",
       "        }\n",
       "    } else if (typeof map_or_text === \"object\") {\n",
       "        if (map_or_text instanceof Array) {\n",
       "            // Note: \"var\" is now superseded by \"let\" and \"const\".\n",
       "            // https://medium.com/javascript-scene/javascript-es6-var-let-or-const-ba58b8dcde75\n",
       "            const result = [];\n",
       "            // Note: \"for of\" is the best way to iterate through an iterable.\n",
       "            // https://developer.mozilla.org/en-US/docs/Web/JavaScript/Reference/Statements/for...of\n",
       "            for (const item of map_or_text) {\n",
       "                result.push(eval_functions(item));\n",
       "            }\n",
       "            return result;\n",
       "\n",
       "            // Alternatively, more functional approach in one line:\n",
       "            // return map_or_text.map(eval_functions);\n",
       "        } else {\n",
       "            const result = {};\n",
       "            // Object.keys() is safer than \"for in\" because otherwise you might have keys\n",
       "            // that aren't defined in the object itself.\n",
       "            //\n",
       "            // See https://stackoverflow.com/a/684692/911298.\n",
       "            for (const item of Object.keys(map_or_text)) {\n",
       "                result[item] = eval_functions(map_or_text[item]);\n",
       "            }\n",
       "            return result;\n",
       "        }\n",
       "    }\n",
       "\n",
       "    return map_or_text;\n",
       "}\n",
       "</` + 'script>');"
      ],
      "text/plain": [
       "<IPython.core.display.Javascript object>"
      ]
     },
     "metadata": {},
     "output_type": "display_data"
    }
   ],
   "source": [
    "from itables import show\n",
    "from lxml import etree\n",
    "import pandas as pd"
   ]
  },
  {
   "cell_type": "code",
   "execution_count": 4,
   "metadata": {
    "collapsed": true
   },
   "outputs": [],
   "source": [
    "inputFile = '/Users/fkraeutli/Sites/bso-curation-data/data/nb/source/WMC_Records_20201201.xml'\n",
    "outputFile = './output/nb-analysis.html'\n",
    "output = ''"
   ]
  },
  {
   "cell_type": "code",
   "execution_count": 5,
   "metadata": {
    "collapsed": true
   },
   "outputs": [],
   "source": [
    "root = etree.parse(inputFile)"
   ]
  },
  {
   "cell_type": "code",
   "execution_count": 6,
   "metadata": {
    "collapsed": true
   },
   "outputs": [],
   "source": [
    "records = root.findall(\"/Record\")"
   ]
  },
  {
   "cell_type": "markdown",
   "metadata": {},
   "source": [
    "Look at number of records"
   ]
  },
  {
   "cell_type": "code",
   "execution_count": 7,
   "metadata": {},
   "outputs": [
    {
     "name": "stdout",
     "output_type": "stream",
     "text": [
      "Found 8384 records\n"
     ]
    }
   ],
   "source": [
    "print(\"Found %d records\" % len(records))"
   ]
  },
  {
   "cell_type": "markdown",
   "metadata": {},
   "source": [
    "Parse XML file"
   ]
  },
  {
   "cell_type": "code",
   "execution_count": 8,
   "metadata": {},
   "outputs": [
    {
     "name": "stderr",
     "output_type": "stream",
     "text": [
      "/Users/fkraeutli/anaconda/lib/python3.6/site-packages/ipykernel_launcher.py:35: FutureWarning: The behavior of this method will change in future versions. Use specific 'len(elem)' or 'elem is not None' test instead.\n"
     ]
    }
   ],
   "source": [
    "def addDataElements(elements, newElements):\n",
    "    for element in newElements:\n",
    "        id = element.get(\"ElementId\")\n",
    "        if not id in elements:\n",
    "            elements[id] = {\n",
    "                \"id\": id,\n",
    "                \"name\": element.get(\"ElementName\"),\n",
    "                \"type\": element.get(\"ElementType\"),\n",
    "                \"typeId\": element.get(\"ElementTypeId\"),\n",
    "                \"recordCount\": 1\n",
    "            }\n",
    "        else:\n",
    "            elements[id][\"recordCount\"] += 1\n",
    "    return elements\n",
    "\n",
    "dataElements = {}\n",
    "descriptors = {}\n",
    "for record in records:\n",
    "    recordDataElements = record.findall(\"DetailData/DataElement\")\n",
    "    dataElements = addDataElements(dataElements, recordDataElements)\n",
    "            \n",
    "    recordDescriptors = record.findall(\"Descriptors/Descriptor\")\n",
    "    for descriptor in recordDescriptors:\n",
    "        id = descriptor.find(\"Thesaurus\").text\n",
    "        if not id in descriptors:\n",
    "            descriptors[id] = {\n",
    "                \"id\": id,\n",
    "                \"recordCount\": 0,\n",
    "                \"hasDetailData\": False,\n",
    "                \"dataElements\": {}\n",
    "            }\n",
    "        else:\n",
    "            descriptors[id][\"recordCount\"] += 1\n",
    "        \n",
    "        if descriptor.find(\"DetailData\"): \n",
    "            descriptors[id][\"hasDetailData\"] = True\n",
    "            descriptors[id][\"dataElements\"] = addDataElements(descriptors[id][\"dataElements\"], descriptor.findall(\"DetailData/DataElement\"))\n",
    "            \n",
    "            "
   ]
  },
  {
   "cell_type": "markdown",
   "metadata": {},
   "source": [
    "## Data elements"
   ]
  },
  {
   "cell_type": "code",
   "execution_count": 9,
   "metadata": {},
   "outputs": [
    {
     "data": {
      "text/html": [
       "<div><table id=\"deb7af5d-020a-47e0-a57f-51ada277289b\" class=\"display\"><thead>\n",
       "    <tr style=\"text-align: right;\">\n",
       "      \n",
       "      <th>Id</th>\n",
       "      <th>Name</th>\n",
       "      <th>Type</th>\n",
       "      <th>Count</th>\n",
       "      <th>Coverage</th>\n",
       "    </tr>\n",
       "  </thead></table>\n",
       "<script type=\"text/javascript\">\n",
       "require([\"datatables\"], function (datatables) {\n",
       "    $(document).ready(function () {        \n",
       "        var dt_args = {\"columnDefs\": [{\"width\": \"70px\", \"targets\": \"_all\"}], \"data\": [[\"2\", \"Signatur\", \"Memo (max. 4000 Z.)\", 8384, 1.0], [\"3\", \"Signatur Archivplan\", \"Memo (max. 4000 Z.)\", 8384, 1.0], [\"10817\", \"FotografIn\", \"Memo (max. 4000 Z.)\", 1476, 0.17605], [\"1\", \"Titel\", \"Memo (max. 4000 Z.)\", 8384, 1.0], [\"7\", \"Entstehungszeitraum\", \"Datumsbereich (von/bis)\", 8384, 1.0], [\"17\", \"Archivalienart\", \"Auswahlliste\", 8384, 1.0], [\"10\", \"Ansichtsbild\", \"Bild\", 8316, 0.991889], [\"9\", \"Vorschaubild\", \"Bild\", 8368, 0.998092], [\"10848\", \"Urheberrechts-InhaberIn\", \"Memo (max. 4000 Z.)\", 1476, 0.17605], [\"10003\", \"Inhalt / Kurzbeschreibung\", \"Memo (max. 4000 Z.)\", 8365, 0.997734], [\"16\", \"Erschliessungsgrad\", \"Auswahlliste\", 8357, 0.99678], [\"11066\", \"Land\", \"Auswahlliste\", 7677, 0.915673], [\"11068\", \"Kanton\", \"Auswahlliste\", 7029, 0.838383], [\"10156\", \"Gemeinde\", \"Memo (max. 4000 Z.)\", 6379, 0.760854], [\"10157\", \"Postleitzahl\", \"Memo (max. 4000 Z.)\", 6407, 0.764194], [\"10122\", \"Ort\", \"Memo (max. 4000 Z.)\", 6668, 0.795324], [\"10160\", \"Lokalname\", \"Memo (max. 4000 Z.)\", 1264, 0.150763], [\"10161\", \"Koordinaten X\", \"Memo (max. 4000 Z.)\", 1318, 0.157204], [\"10162\", \"Koordinaten Y\", \"Memo (max. 4000 Z.)\", 1318, 0.157204], [\"11070\", \"Farbe\", \"Auswahlliste\", 7919, 0.944537], [\"10372\", \"Orientierung und Form\", \"Auswahlliste\", 8323, 0.992724], [\"11040\", \"URL Bild in Druckqualit\\u00e4t\", \"Web-Hyperlink\", 8384, 1.0], [\"10884\", \"Projekte\", \"Auswahlliste\", 1620, 0.193225], [\"10435\", \"Dateiname Digitalisat\", \"Memo (max. 4000 Z.)\", 6596, 0.786737], [\"11053\", \"Personen\", \"Memo (max. 4000 Z.)\", 7973, 0.950978], [\"11057\", \"Geopolitische Daten\", \"Memo (max. 4000 Z.)\", 6972, 0.831584], [\"506\", \"VE-Objekt\", \"Verkn\\u00fcpfung\", 141, 0.016818], [\"10159\", \"Strasse\", \"Memo (max. 4000 Z.)\", 469, 0.05594], [\"10882\", \"Interne Bemerkung\", \"Memo (max. 4000 Z.)\", 1859, 0.221732], [\"10110\", \"Bemerkung zum Entstehungszeitraum\", \"Memo (max. 4000 Z.)\", 1343, 0.160186], [\"10165\", \"Andere Dokumentnummer\", \"Memo (max. 4000 Z.)\", 6706, 0.799857], [\"10927\", \"K\\u00fcnstlerIn\", \"Memo (max. 4000 Z.)\", 6434, 0.767414], [\"10900\", \"Titel der Serie\", \"Memo (max. 4000 Z.)\", 4275, 0.5099], [\"10101\", \"Allgemeine Bemerkungen\", \"Memo (max. 4000 Z.)\", 2063, 0.246064], [\"10345\", \"Beschriftung - Legende\", \"Memo (max. 4000 Z.)\", 6479, 0.772781], [\"10752\", \"Art des Erwerbs\", \"Auswahlliste\", 6396, 0.762882], [\"10754\", \"Erwerbsdatum\", \"Einzeldatum\", 6337, 0.755844], [\"11006\", \"SammlerIn\", \"Memo (max. 4000 Z.)\", 4888, 0.583015], [\"505\", \"VE-Ablieferung (Link)\", \"Verkn\\u00fcpfung\", 1760, 0.209924], [\"10217\", \"Masse Bild\", \"Memo (max. 4000 Z.)\", 6297, 0.751073], [\"10483\", \"Verfahren\", \"Auswahlliste\", 6861, 0.818344], [\"11059\", \"Technik Malerei\", \"Auswahlliste\", 42, 0.00501], [\"11043\", \"Bemerkung zur Technik\", \"Memo (max. 4000 Z.)\", 1188, 0.141698], [\"10358\", \"Transparenz\", \"Auswahlliste\", 6879, 0.820491], [\"10488\", \"Tr\\u00e4germaterial\", \"Auswahlliste\", 6878, 0.820372], [\"10367\", \"Rahmen\", \"Auswahlliste\", 42, 0.00501], [\"10368\", \"Rahmenart\", \"Auswahlliste\", 42, 0.00501], [\"10426\", \"Rahmenart andere\", \"Memo (max. 4000 Z.)\", 4, 0.000477], [\"10211\", \"Literaturangabe\", \"Memo (max. 4000 Z.)\", 3444, 0.410782], [\"10317\", \"Titel (Variante)\", \"Memo (max. 4000 Z.)\", 249, 0.029699], [\"10739\", \"Masse Blatt\", \"Memo (max. 4000 Z.)\", 6669, 0.795444], [\"10738\", \"Masse Bild mit Passepartout und/oder Rahmen\", \"Memo (max. 4000 Z.)\", 3391, 0.404461], [\"10745\", \"Technik Originalzeichnung\", \"Auswahlliste\", 926, 0.110448], [\"11042\", \"Masse Plattenrand\", \"Memo (max. 4000 Z.)\", 3222, 0.384303], [\"11045\", \"Zustand Druckplatte\", \"Memo (max. 4000 Z.)\", 222, 0.026479], [\"10746\", \"Technik Druckgrafik\", \"Auswahlliste\", 5923, 0.706465], [\"10971\", \"Bearbeitung\", \"Auswahlliste\", 3765, 0.44907], [\"10915\", \"HerausgeberIn/VerlegerIn\", \"Memo (max. 4000 Z.)\", 4283, 0.510854], [\"10879\", \"Bemerkung zur Beschriftung - Legende\", \"Memo (max. 4000 Z.)\", 198, 0.023616], [\"11055\", \"K\\u00f6rperschaften\", \"Memo (max. 4000 Z.)\", 1349, 0.160902], [\"10872\", \"DonatorIn\", \"Memo (max. 4000 Z.)\", 117, 0.013955], [\"10311\", \"Provenienz\", \"Memo (max. 4000 Z.)\", 24, 0.002863], [\"10825\", \"Weitere UrheberInnen\", \"Memo (max. 4000 Z.)\", 6, 0.000716], [\"10114\", \"Technik\", \"Memo (max. 4000 Z.)\", 24, 0.002863], [\"10901\", \"Versicherungssumme\", \"Memo (max. 4000 Z.)\", 1, 0.000119], [\"10183\", \"URL Publikation\", \"Web-Hyperlink\", 1, 0.000119], [\"10881\", \"Sekund\\u00e4rliteratur\", \"Memo (max. 4000 Z.)\", 6, 0.000716], [\"10294\", \"Bemerkung zum Urheberrecht\", \"Memo (max. 4000 Z.)\", 5, 0.000596], [\"10119\", \"Unterschrift\", \"Auswahlliste\", 1, 0.000119], [\"10860\", \"Beilage(n)\", \"Memo (max. 4000 Z.)\", 1, 0.000119], [\"11028\", \"Anzahl Bilder Filmstrip\", \"Ganze Zahl\", 1, 0.000119], [\"10988\", \"Pr\\u00e4sentation in Ausstellungen\", \"Memo (max. 4000 Z.)\", 2, 0.000239]]};\n",
       "        dt_args = eval_functions(dt_args);\n",
       "        table = $('#deb7af5d-020a-47e0-a57f-51ada277289b').DataTable(dt_args);\n",
       "    });\n",
       "})\n",
       "</script>\n",
       "</div>\n"
      ],
      "text/plain": [
       "<IPython.core.display.HTML object>"
      ]
     },
     "metadata": {},
     "output_type": "display_data"
    }
   ],
   "source": [
    "data = [[d['id'], d['name'], d['type'], d['recordCount'], d['recordCount']/len(records)] for d in dataElements.values()]\n",
    "dataElementsAnalysis = pd.DataFrame(data, columns=[\"Id\", \"Name\", \"Type\", \"Count\", \"Coverage\"])\n",
    "show(dataElementsAnalysis)"
   ]
  },
  {
   "cell_type": "code",
   "execution_count": 10,
   "metadata": {
    "collapsed": true
   },
   "outputs": [],
   "source": [
    "output += \"<h2>Data Elements</h2>\"\n",
    "output += dataElementsAnalysis.to_html()"
   ]
  },
  {
   "cell_type": "markdown",
   "metadata": {},
   "source": [
    "## Descriptors"
   ]
  },
  {
   "cell_type": "code",
   "execution_count": 11,
   "metadata": {},
   "outputs": [
    {
     "data": {
      "text/html": [
       "<div><table id=\"0951131d-37f2-46e5-aafa-dce0f01d9adf\" class=\"display\"><thead>\n",
       "    <tr style=\"text-align: right;\">\n",
       "      \n",
       "      <th>Id</th>\n",
       "      <th>Details</th>\n",
       "      <th>Count</th>\n",
       "      <th>Coverage</th>\n",
       "    </tr>\n",
       "  </thead></table>\n",
       "<script type=\"text/javascript\">\n",
       "require([\"datatables\"], function (datatables) {\n",
       "    $(document).ready(function () {        \n",
       "        var dt_args = {\"columnDefs\": [{\"width\": \"70px\", \"targets\": \"_all\"}], \"data\": [[\"Personen\", true, 12851, 1.532801], [\"Gemeinfrei\", false, 1475, 0.17593], [\"Geografika\", true, 5406, 0.6448], [\"Geografika (Import)\", false, 1578, 0.188216], [\"Landschaft\", false, 188, 0.022424], [\"Gew\\u00e4sser\", false, 16, 0.001908], [\"Verkehrsweg\", false, 11, 0.001312], [\"Ortschaft\", false, 38, 0.004532], [\"Architektur\", false, 27, 0.00322], [\"Ereignis\", false, 0, 0.0], [\"Verkehrsmittel\", false, 0, 0.0], [\"Portr\\u00e4t\", false, 747, 0.089098], [\"K\\u00f6rperschaften\", true, 1384, 0.165076]]};\n",
       "        dt_args = eval_functions(dt_args);\n",
       "        table = $('#0951131d-37f2-46e5-aafa-dce0f01d9adf').DataTable(dt_args);\n",
       "    });\n",
       "})\n",
       "</script>\n",
       "</div>\n"
      ],
      "text/plain": [
       "<IPython.core.display.HTML object>"
      ]
     },
     "metadata": {},
     "output_type": "display_data"
    }
   ],
   "source": [
    "data = [[d['id'], d['hasDetailData'], d['recordCount'], d['recordCount']/len(records)] for d in descriptors.values()]\n",
    "descriptorsAnalysis = pd.DataFrame(data, columns=[\"Id\", \"Details\", \"Count\", \"Coverage\"])\n",
    "show(descriptorsAnalysis)"
   ]
  },
  {
   "cell_type": "code",
   "execution_count": 12,
   "metadata": {
    "collapsed": true
   },
   "outputs": [],
   "source": [
    "output += \"<h2>Descriptors</h2>\"\n",
    "output += descriptorsAnalysis.to_html()"
   ]
  },
  {
   "cell_type": "markdown",
   "metadata": {},
   "source": [
    "### Data Elements within Descriptors"
   ]
  },
  {
   "cell_type": "code",
   "execution_count": 13,
   "metadata": {
    "collapsed": true
   },
   "outputs": [],
   "source": [
    "output += \"<h3>Data Elements within Descriptors</h3>\""
   ]
  },
  {
   "cell_type": "code",
   "execution_count": 14,
   "metadata": {
    "scrolled": true
   },
   "outputs": [
    {
     "name": "stdout",
     "output_type": "stream",
     "text": [
      "Personen\n"
     ]
    },
    {
     "data": {
      "text/html": [
       "<div><table id=\"e2e4242d-fc57-412c-974c-7656cab37889\" class=\"display\"><thead>\n",
       "    <tr style=\"text-align: right;\">\n",
       "      \n",
       "      <th>Id</th>\n",
       "      <th>Name</th>\n",
       "      <th>Type</th>\n",
       "      <th>Count</th>\n",
       "    </tr>\n",
       "  </thead></table>\n",
       "<script type=\"text/javascript\">\n",
       "require([\"datatables\"], function (datatables) {\n",
       "    $(document).ready(function () {        \n",
       "        var dt_args = {\"columnDefs\": [{\"width\": \"70px\", \"targets\": \"_all\"}], \"paging\": false, \"data\": [[\"11049\", \"Name\", \"Memo\", 1], [\"11113\", \"Lebensdaten\", \"Memo\", 1], [\"10789\", \"Geschlecht\", \"Auswahlliste\", 1], [\"10684\", \"Beruf/Funktion/T\\u00e4tigkeitsbereich\", \"Memo (max. 4000 Z.)\", 1], [\"11098\", \"Nationalit\\u00e4t\", \"Memo\", 1], [\"11114\", \"Genaue Lebensdaten\", \"Memo\", 1], [\"10792\", \"Geburtsort\", \"Memo (max. 4000 Z.)\", 1], [\"10793\", \"Sterbeort\", \"Memo (max. 4000 Z.)\", 1], [\"11050\", \"Gemeinsame Normdatei \\u2013 GND\", \"Web-Hyperlink\", 1]]};\n",
       "        dt_args = eval_functions(dt_args);\n",
       "        table = $('#e2e4242d-fc57-412c-974c-7656cab37889').DataTable(dt_args);\n",
       "    });\n",
       "})\n",
       "</script>\n",
       "</div>\n"
      ],
      "text/plain": [
       "<IPython.core.display.HTML object>"
      ]
     },
     "metadata": {},
     "output_type": "display_data"
    },
    {
     "name": "stdout",
     "output_type": "stream",
     "text": [
      "Geografika\n"
     ]
    },
    {
     "data": {
      "text/html": [
       "<div><table id=\"e2abdf46-b831-411c-8be1-ed859d269fdb\" class=\"display\"><thead>\n",
       "    <tr style=\"text-align: right;\">\n",
       "      \n",
       "      <th>Id</th>\n",
       "      <th>Name</th>\n",
       "      <th>Type</th>\n",
       "      <th>Count</th>\n",
       "    </tr>\n",
       "  </thead></table>\n",
       "<script type=\"text/javascript\">\n",
       "require([\"datatables\"], function (datatables) {\n",
       "    $(document).ready(function () {        \n",
       "        var dt_args = {\"columnDefs\": [{\"width\": \"70px\", \"targets\": \"_all\"}], \"paging\": false, \"data\": [[\"11049\", \"Name\", \"Memo\", 12], [\"10101\", \"Allgemeine Bemerkungen\", \"Memo (max. 4000 Z.)\", 5], [\"11050\", \"Gemeinsame Normdatei \\u2013 GND\", \"Web-Hyperlink\", 11], [\"10230\", \"URL Kontextinformationen\", \"Web-Hyperlink\", 12], [\"11103\", \"Wikipedia\", \"Web-Hyperlink\", 6]]};\n",
       "        dt_args = eval_functions(dt_args);\n",
       "        table = $('#e2abdf46-b831-411c-8be1-ed859d269fdb').DataTable(dt_args);\n",
       "    });\n",
       "})\n",
       "</script>\n",
       "</div>\n"
      ],
      "text/plain": [
       "<IPython.core.display.HTML object>"
      ]
     },
     "metadata": {},
     "output_type": "display_data"
    },
    {
     "name": "stdout",
     "output_type": "stream",
     "text": [
      "Körperschaften\n"
     ]
    },
    {
     "data": {
      "text/html": [
       "<div><table id=\"71a25304-c736-4a83-9e64-1a574720cc6f\" class=\"display\"><thead>\n",
       "    <tr style=\"text-align: right;\">\n",
       "      \n",
       "      <th>Id</th>\n",
       "      <th>Name</th>\n",
       "      <th>Type</th>\n",
       "      <th>Count</th>\n",
       "    </tr>\n",
       "  </thead></table>\n",
       "<script type=\"text/javascript\">\n",
       "require([\"datatables\"], function (datatables) {\n",
       "    $(document).ready(function () {        \n",
       "        var dt_args = {\"columnDefs\": [{\"width\": \"70px\", \"targets\": \"_all\"}], \"paging\": false, \"data\": [[\"11049\", \"Name\", \"Memo\", 42], [\"10788\", \"Wirkungszeitraum\", \"Datumsbereich (von/bis)\", 42], [\"11099\", \"Wirkungsland\", \"Memo\", 42], [\"10122\", \"Ort\", \"Memo (max. 4000 Z.)\", 42], [\"11050\", \"Gemeinsame Normdatei \\u2013 GND\", \"Web-Hyperlink\", 42]]};\n",
       "        dt_args = eval_functions(dt_args);\n",
       "        table = $('#71a25304-c736-4a83-9e64-1a574720cc6f').DataTable(dt_args);\n",
       "    });\n",
       "})\n",
       "</script>\n",
       "</div>\n"
      ],
      "text/plain": [
       "<IPython.core.display.HTML object>"
      ]
     },
     "metadata": {},
     "output_type": "display_data"
    }
   ],
   "source": [
    "for descriptor in [descriptors[d] for d in descriptors.keys() if descriptors[d]['hasDetailData'] is True]:\n",
    "    print(descriptor['id'])\n",
    "    data = [[d['id'], d['name'], d['type'], d['recordCount']] for d in descriptor['dataElements'].values()]\n",
    "    dataElementsAnalysis = pd.DataFrame(data, columns=[\"Id\", \"Name\", \"Type\", \"Count\"])\n",
    "    show(dataElementsAnalysis)\n",
    "    \n",
    "    output += \"<h4>%s</h4>\" % descriptor['id']\n",
    "    output += dataElementsAnalysis.to_html()"
   ]
  },
  {
   "cell_type": "markdown",
   "metadata": {
    "collapsed": true
   },
   "source": [
    "## Tags"
   ]
  },
  {
   "cell_type": "code",
   "execution_count": 15,
   "metadata": {
    "collapsed": true
   },
   "outputs": [],
   "source": [
    "tags = list(set([t.tag for t in root.findall('//*')]))\n",
    "tags.sort()"
   ]
  },
  {
   "cell_type": "markdown",
   "metadata": {},
   "source": [
    "List all tags"
   ]
  },
  {
   "cell_type": "code",
   "execution_count": 16,
   "metadata": {},
   "outputs": [
    {
     "name": "stdout",
     "output_type": "stream",
     "text": [
      "AdministrativeData\n",
      "CreatedOn\n",
      "DataElement\n",
      "DateRange\n",
      "Description\n",
      "Descriptor\n",
      "Descriptors\n",
      "DetailData\n",
      "ElementValue\n",
      "FileValue\n",
      "FromApproxIndicator\n",
      "FromDate\n",
      "IdName\n",
      "IntValue\n",
      "LastEditedOn\n",
      "Name\n",
      "Record\n",
      "Reference\n",
      "ReferenceName\n",
      "References\n",
      "SeeAlso\n",
      "TextRepresentation\n",
      "TextValue\n",
      "Thesaurus\n",
      "ToApproxIndicator\n",
      "ToDate\n"
     ]
    }
   ],
   "source": [
    "print(\"\\n\".join(tags))"
   ]
  },
  {
   "cell_type": "code",
   "execution_count": 17,
   "metadata": {
    "collapsed": true
   },
   "outputs": [],
   "source": [
    "output += \"<h2>Tags</h2>\"\n",
    "output += \"<ul><li>\" + \"</li><li>\".join(tags) + \"</li></ul>\""
   ]
  },
  {
   "cell_type": "code",
   "execution_count": 18,
   "metadata": {
    "collapsed": true
   },
   "outputs": [],
   "source": [
    "with open(outputFile, 'w') as f:\n",
    "    f.write(output)"
   ]
  },
  {
   "cell_type": "markdown",
   "metadata": {},
   "source": [
    "## Gugelmann"
   ]
  },
  {
   "cell_type": "code",
   "execution_count": 19,
   "metadata": {
    "collapsed": true
   },
   "outputs": [],
   "source": [
    "gugelmannRecords = [record for record in records if record.xpath('DetailData/DataElement[@ElementId=\"2\"]/ElementValue/TextValue[contains(text(),\"GS-GUGE\")]')]"
   ]
  },
  {
   "cell_type": "code",
   "execution_count": 20,
   "metadata": {
    "collapsed": true
   },
   "outputs": [],
   "source": [
    "urls = []\n",
    "for record in gugelmannRecords:\n",
    "    url = record.xpath('DetailData/DataElement[@ElementId=\"11040\"]/ElementValue/TextValue')[0].text\n",
    "    urls.append(url)"
   ]
  },
  {
   "cell_type": "code",
   "execution_count": 21,
   "metadata": {},
   "outputs": [
    {
     "data": {
      "text/plain": [
       "['https://commons.wikimedia.org/wiki/File:CH-NB_-_Collection_Gugelmann_-_GS-GUGE-ABERLI-R-1.tif',\n",
       " 'https://commons.wikimedia.org/wiki/File:CH-NB_-_Collection_Gugelmann_-_GS-GUGE-ABERLI-R-2.tif',\n",
       " 'https://commons.wikimedia.org/wiki/File:CH-NB_-_Collection_Gugelmann_-_GS-GUGE-ABERLI-R-3.tif',\n",
       " 'https://commons.wikimedia.org/wiki/File:CH-NB_-_Collection_Gugelmann_-_GS-GUGE-ABERLI-R-4.tif',\n",
       " 'https://commons.wikimedia.org/wiki/File:CH-NB_-_Collection_Gugelmann_-_GS-GUGE-ABERLI-R-5.tif',\n",
       " 'https://commons.wikimedia.org/wiki/File:CH-NB_-_Collection_Gugelmann_-_GS-GUGE-ABERLI-R-6.tif',\n",
       " 'https://commons.wikimedia.org/wiki/File:CH-NB_-_Collection_Gugelmann_-_GS-GUGE-BIEDERMANN-R-1.tif',\n",
       " 'https://commons.wikimedia.org/wiki/File:CH-NB_-_Collection_Gugelmann_-_GS-GUGE-BIEDERMANN-R-2.tif',\n",
       " 'https://commons.wikimedia.org/wiki/File:CH-NB_-_Collection_Gugelmann_-_GS-GUGE-BIEDERMANN-R-3.tif',\n",
       " 'https://commons.wikimedia.org/wiki/File:CH-NB_-_Collection_Gugelmann_-_GS-GUGE-BIEDERMANN-R-4.tif',\n",
       " 'https://commons.wikimedia.org/wiki/File:CH-NB_-_Collection_Gugelmann_-_GS-GUGE-BIEDERMANN-R-5.tif',\n",
       " 'https://commons.wikimedia.org/wiki/File:CH-NB_-_Collection_Gugelmann_-_GS-GUGE-BIEDERMANN-R-6.tif',\n",
       " 'https://commons.wikimedia.org/wiki/File:CH-NB_-_Collection_Gugelmann_-_GS-GUGE-BIEDERMANN-R-7.tif',\n",
       " 'https://commons.wikimedia.org/wiki/File:CH-NB_-_Collection_Gugelmann_-_GS-GUGE-BIEDERMANN-R-8.tif',\n",
       " 'https://commons.wikimedia.org/wiki/File:CH-NB_-_Collection_Gugelmann_-_GS-GUGE-FREUDENBERGER-R-1.tif',\n",
       " 'https://commons.wikimedia.org/wiki/File:CH-NB_-_Collection_Gugelmann_-_GS-GUGE-FREUDENBERGER-R-2.tif',\n",
       " 'https://commons.wikimedia.org/wiki/File:CH-NB_-_Collection_Gugelmann_-_GS-GUGE-FREUDENBERGER-R-3.tif',\n",
       " 'https://commons.wikimedia.org/wiki/File:CH-NB_-_Collection_Gugelmann_-_GS-GUGE-FREUDENBERGER-R-4.tif',\n",
       " 'https://commons.wikimedia.org/wiki/File:CH-NB_-_Collection_Gugelmann_-_GS-GUGE-GUISE-R-1.tif',\n",
       " 'https://commons.wikimedia.org/wiki/File:CH-NB_-_Collection_Gugelmann_-_GS-GUGE-HUBER-JD-R-1.tif',\n",
       " 'https://commons.wikimedia.org/wiki/File:CH-NB_-_Collection_Gugelmann_-_GS-GUGE-K%C3%96NIG-R-1.tif',\n",
       " 'https://commons.wikimedia.org/wiki/File:CH-NB_-_Collection_Gugelmann_-_GS-GUGE-K%C3%96NIG-R-2.tif',\n",
       " 'https://commons.wikimedia.org/wiki/File:CH-NB_-_Collection_Gugelmann_-_GS-GUGE-K%C3%96NIG-R-3.tif',\n",
       " 'https://commons.wikimedia.org/wiki/File:CH-NB_-_Collection_Gugelmann_-_GS-GUGE-K%C3%96NIG-R-4.tif',\n",
       " 'https://commons.wikimedia.org/wiki/File:CH-NB_-_Collection_Gugelmann_-_GS-GUGE-K%C3%96NIG-R-5.tif',\n",
       " 'https://commons.wikimedia.org/wiki/File:CH-NB_-_Collection_Gugelmann_-_GS-GUGE-K%C3%96NIG-R-6.tif',\n",
       " 'https://commons.wikimedia.org/wiki/File:CH-NB_-_Collection_Gugelmann_-_GS-GUGE-K%C3%96NIG-R-7.tif',\n",
       " 'https://commons.wikimedia.org/wiki/File:CH-NB_-_Collection_Gugelmann_-_GS-GUGE-K%C3%96NIG-R-9.tif\\nhttps://commons.wikimedia.org/wiki/File:CH-NB_-_Collection_Gugelmann_-_GS-GUGE-K%C3%96NIG-R-9.tif',\n",
       " 'https://commons.wikimedia.org/wiki/File:CH-NB_-_Collection_Gugelmann_-_GS-GUGE-K%C3%96NIG-R-8.tif\\nhttps://commons.wikimedia.org/wiki/File:CH-NB_-_Collection_Gugelmann_-_GS-GUGE-K%C3%96NIG-R-8.tif',\n",
       " 'https://commons.wikimedia.org/wiki/File:CH-NB_-_Collection_Gugelmann_-_GS-GUGE-K%C3%96NIG-R-10.tif',\n",
       " 'https://commons.wikimedia.org/wiki/File:CH-NB_-_Collection_Gugelmann_-_GS-GUGE-K%C3%96NIG-R-11.tif',\n",
       " 'https://commons.wikimedia.org/wiki/File:CH-NB_-_Collection_Gugelmann_-_GS-GUGE-K%C3%96NIG-R-12.tif',\n",
       " 'https://commons.wikimedia.org/wiki/File:CH-NB_-_Collection_Gugelmann_-_GS-GUGE-LORY-R-1.tif',\n",
       " 'https://commons.wikimedia.org/wiki/File:CH-NB_-_Collection_Gugelmann_-_GS-GUGE-PERIGNON-R-1.tif',\n",
       " 'https://commons.wikimedia.org/wiki/File:CH-NB_-_Collection_Gugelmann_-_GS-GUGE-ROSENBERG-R-1.tif',\n",
       " 'https://commons.wikimedia.org/wiki/File:CH-NB_-_Collection_Gugelmann_-_GS-GUGE-ULINGER-R-1.tif',\n",
       " 'https://commons.wikimedia.org/wiki/File:CH-NB_-_Collection_Gugelmann_-_GS-GUGE-ULINGER-R-2.tif',\n",
       " 'https://commons.wikimedia.org/wiki/File:CH-NB_-_Collection_Gugelmann_-_GS-GUGE-WETZEL-R-1.tif',\n",
       " 'https://commons.wikimedia.org/wiki/File:CH-NB_-_Collection_Gugelmann_-_GS-GUGE-WOLF-R-1.tif',\n",
       " 'https://commons.wikimedia.org/wiki/File:CH-NB_-_Collection_Gugelmann_-_GS-GUGE-ANONYM-R-1.tif',\n",
       " 'https://commons.wikimedia.org/wiki/File:CH-NB_-_Collection_Gugelmann_-_GS-GUGE-ANONYM-R-2.tif',\n",
       " 'https://commons.wikimedia.org/wiki/File:CH-NB_-_Collection_Gugelmann_-_GS-GUGE-ANONYM-R-3.tif',\n",
       " 'https://commons.wikimedia.org/wiki/File%3ACH-NB_-_Bielersee%2C_s%C3%BCd%C3%B6stliches_Ufer%2C_Blick_gegen_die_Petersinsel_-_Collection_Gugelmann_-_GS-GUGE-ABERLI-A-1.tif',\n",
       " 'https://commons.wikimedia.org/wiki/File%3ACH-NB_-_Tour-de-Peilz%2C_La%2C_Hafen_-_Collection_Gugelmann_-_GS-GUGE-ABERLI-A-2.tif',\n",
       " 'https://commons.wikimedia.org/wiki/File%3ACH-NB_-_Bern%2C_Gesamtansicht_von_S%C3%BCdosten_-_Collection_Gugelmann_-_GS-GUGE-ABERLI-B-1.tif',\n",
       " 'https://commons.wikimedia.org/wiki/File%3ACH-NB_-_Bern%2C_Gesamtansicht_von_S%C3%BCden_-_Collection_Gugelmann_-_GS-GUGE-ABERLI-B-2.tif',\n",
       " 'https://commons.wikimedia.org/wiki/File:CH-NB_-_Muri%2C_Umgebung-_Aussicht_gegen_die_Alpen_-_Collection_Gugelmann_-_GS-GUGE-ABERLI-B-3.tif',\n",
       " 'https://commons.wikimedia.org/wiki/File:CH-NB_-_Muri%2C_Umgebung-_Aussicht_gegen_die_Alpen_-_Collection_Gugelmann_-_GS-GUGE-ABERLI-B-4.tif',\n",
       " 'https://commons.wikimedia.org/wiki/File%3ACH-NB_-_Erlach_und_Bielersee_von_S%C3%BCden_-_Collection_Gugelmann_-_GS-GUGE-ABERLI-B-5.tif',\n",
       " 'https://commons.wikimedia.org/wiki/File%3ACH-NB_-_Wimmis%2C_von_Norden_-_Collection_Gugelmann_-_GS-GUGE-ABERLI-B-6.tif',\n",
       " 'https://commons.wikimedia.org/wiki/File%3ACH-NB_-_Yverdon%2C_von_S%C3%BCdosten_-_Collection_Gugelmann_-_GS-GUGE-ABERLI-B-7.tif',\n",
       " 'https://commons.wikimedia.org/wiki/File%3ACH-NB_-_Bern%2C_Mittelland%2C_Schweizer_H%C3%A4user_-_Collection_Gugelmann_-_GS-GUGE-ABERLI-B-8.tif',\n",
       " 'https://commons.wikimedia.org/wiki/File%3ACH-NB_-_Vevey%2C_von_Nordwesten_-_Collection_Gugelmann_-_GS-GUGE-ABERLI-B-9.tif',\n",
       " 'https://commons.wikimedia.org/wiki/File%3ACH-NB_-_Bern%2C_Gesamtansicht_von_S%C3%BCden_-_Collection_Gugelmann_-_GS-GUGE-ABERLI-C-1.tif',\n",
       " 'https://commons.wikimedia.org/wiki/File%3ACH-NB_-_Bern%2C_von_Norden_-_Collection_Gugelmann_-_GS-GUGE-ABERLI-C-2.tif',\n",
       " 'https://commons.wikimedia.org/wiki/File%3ACH-NB_-_Bern%2C_von_Norden_-_Collection_Gugelmann_-_GS-GUGE-ABERLI-C-3.tif',\n",
       " 'https://commons.wikimedia.org/wiki/File%3ACH-NB_-_Bern%2C_Teilansicht%2C_von_Nordwesten_-_Collection_Gugelmann_-_GS-GUGE-ABERLI-C-4.tif',\n",
       " 'https://commons.wikimedia.org/wiki/File%3ACH-NB_-_Bern%2C_Teilansicht%2C_von_Nordwesten_-_Collection_Gugelmann_-_GS-GUGE-ABERLI-C-5.tif',\n",
       " 'https://commons.wikimedia.org/wiki/File:CH-NB_-_Muri%2C_Umgebung-_Aussicht_gegen_die_Alpen_-_Collection_Gugelmann_-_GS-GUGE-ABERLI-C-6.tif',\n",
       " 'https://commons.wikimedia.org/wiki/File%3ACH-NB_-_Belp%2C_von_S%C3%BCdwesten_-_Collection_Gugelmann_-_GS-GUGE-ABERLI-C-7.tif',\n",
       " 'https://commons.wikimedia.org/wiki/File%3ACH-NB_-_Kehrsatz%2C_von_Norden_-_Collection_Gugelmann_-_GS-GUGE-ABERLI-C-8.tif',\n",
       " 'https://commons.wikimedia.org/wiki/File%3ACH-NB_-_Kehrsatz%2C_von_S%C3%BCden_-_Collection_Gugelmann_-_GS-GUGE-ABERLI-C-9.tif',\n",
       " 'https://commons.wikimedia.org/wiki/File%3ACH-NB_-_Thun%2C_Teilansicht_vom_Schloss_gegen_den_See_-_Collection_Gugelmann_-_GS-GUGE-ABERLI-C-10.tif',\n",
       " 'https://commons.wikimedia.org/wiki/File%3ACH-NB_-_Thun%2C_Teilansicht_vom_Schloss_gegen_den_See_-_Collection_Gugelmann_-_GS-GUGE-ABERLI-C-11.tif',\n",
       " 'https://commons.wikimedia.org/wiki/File%3ACH-NB_-_Unterseen%2C_von_Nordosten_-_Collection_Gugelmann_-_GS-GUGE-ABERLI-C-12.tif',\n",
       " 'https://commons.wikimedia.org/wiki/File%3ACH-NB_-_Unterseen%2C_von_Nordwesten_-_Collection_Gugelmann_-_GS-GUGE-ABERLI-C-13.tif',\n",
       " 'https://commons.wikimedia.org/wiki/File%3ACH-NB_-_Brienz%2C_Gesamtansicht_von_Westen_-_Collection_Gugelmann_-_GS-GUGE-ABERLI-C-14.tif',\n",
       " 'https://commons.wikimedia.org/wiki/File%3ACH-NB_-_Brienz%2C_Gesamtansicht_von_Westen_-_Collection_Gugelmann_-_GS-GUGE-ABERLI-C-15.tif',\n",
       " 'https://commons.wikimedia.org/wiki/File%3ACH-NB_-_Brienz%2C_von_Westen_-_Collection_Gugelmann_-_GS-GUGE-ABERLI-C-16.tif',\n",
       " 'https://commons.wikimedia.org/wiki/File%3ACH-NB_-_Haslital%2C_Blick_gegen_den_Brienzersee_-_Collection_Gugelmann_-_GS-GUGE-ABERLI-C-17.tif',\n",
       " 'https://commons.wikimedia.org/wiki/File%3ACH-NB_-_Haslital%2C_Blick_gegen_den_Brienzersee_-_Collection_Gugelmann_-_GS-GUGE-ABERLI-C-18.tif',\n",
       " 'https://commons.wikimedia.org/wiki/File%3ACH-NB_-_Jungfrau_-_Collection_Gugelmann_-_GS-GUGE-ABERLI-C-19.tif',\n",
       " 'https://commons.wikimedia.org/wiki/File%3ACH-NB_-_Lauterbrunnen%2C_mit_Staubbachfall_-_Collection_Gugelmann_-_GS-GUGE-ABERLI-C-20.tif',\n",
       " 'https://commons.wikimedia.org/wiki/File%3ACH-NB_-_Lauterbrunnen%2C_mit_Staubbachfall_-_Collection_Gugelmann_-_GS-GUGE-ABERLI-C-21.tif',\n",
       " 'https://commons.wikimedia.org/wiki/File%3ACH-NB_-_Grindelwald%2C_unterer_Gletscher_%28Stand_1762%29_-_Collection_Gugelmann_-_GS-GUGE-ABERLI-C-22.tif',\n",
       " 'https://commons.wikimedia.org/wiki/File%3ACH-NB_-_Nidau%2C_St%C3%A4dtchen_und_Schloss%2C_von_Nordosten_-_Collection_Gugelmann_-_GS-GUGE-ABERLI-C-24.tif',\n",
       " 'https://commons.wikimedia.org/wiki/File%3ACH-NB_-_Nidau%2C_St%C3%A4dtchen_und_Schloss%2C_von_Nordosten_-_Collection_Gugelmann_-_GS-GUGE-ABERLI-C-25.tif',\n",
       " 'https://commons.wikimedia.org/wiki/File%3ACH-NB_-_Nidau%2C_St%C3%A4dtchen_und_Schloss%2C_von_Nordosten_-_Collection_Gugelmann_-_GS-GUGE-ABERLI-C-26.tif',\n",
       " 'https://commons.wikimedia.org/wiki/File%3ACH-NB_-_Lausanne%2C_von_Norden_-_Collection_Gugelmann_-_GS-GUGE-ABERLI-C-27.tif',\n",
       " 'https://commons.wikimedia.org/wiki/File%3ACH-NB_-_Lausanne%2C_von_Norden_-_Collection_Gugelmann_-_GS-GUGE-ABERLI-C-28.tif',\n",
       " 'https://commons.wikimedia.org/wiki/File%3ACH-NB_-_Vevey%2C_von_Nordwesten_-_Collection_Gugelmann_-_GS-GUGE-ABERLI-C-29.tif',\n",
       " 'https://commons.wikimedia.org/wiki/File%3ACH-NB_-_Vevey%2C_von_Nordwesten_-_Collection_Gugelmann_-_GS-GUGE-ABERLI-C-30.tif',\n",
       " 'https://commons.wikimedia.org/wiki/File%3ACH-NB_-_Vufflens%2C_Schloss%2C_von_Westen_-_Collection_Gugelmann_-_GS-GUGE-ABERLI-C-31.tif',\n",
       " 'https://commons.wikimedia.org/wiki/File%3ACH-NB_-_Landbau%2C_Heuernte%2C_Schweizer_H%C3%A4user%2C_Mittelland_-_Collection_Gugelmann_-_GS-GUGE-ABERLI-C-32.tif',\n",
       " 'https://commons.wikimedia.org/wiki/File%3ACH-NB_-_Bern%2C_Mittelland%2C_Schweizer_H%C3%A4user_-_Collection_Gugelmann_-_GS-GUGE-ABERLI-C-33.tif',\n",
       " 'https://commons.wikimedia.org/wiki/File%3ACH-NB_-_Bern%2C_Kanton%2C_Sammelblatt%2C_Trachten_Mittelland_-_Collection_Gugelmann_-_GS-GUGE-ABERLI-C-34.tif',\n",
       " 'https://commons.wikimedia.org/wiki/File%3ACH-NB_-_Bern%2C_Kanton%2C_Sammelblatt%2C_Trachten_Mittelland_-_Collection_Gugelmann_-_GS-GUGE-ABERLI-C-34.tif',\n",
       " 'https://commons.wikimedia.org/wiki/File%3ACH-NB_-_Bern%2C_Kanton%2C_Sammelblatt%2C_Trachten_Mittelland_-_Collection_Gugelmann_-_GS-GUGE-ABERLI-C-34.tif',\n",
       " 'https://commons.wikimedia.org/wiki/File%3ACH-NB_-_Fischfang_-_Collection_Gugelmann_-_GS-GUGE-ABERLI-C-35.tif',\n",
       " 'https://commons.wikimedia.org/wiki/File%3ACH-NB_-_Bern%2C_Mittelland%2C_Schweizer_H%C3%A4user_-_Collection_Gugelmann_-_GS-GUGE-ABERLI-C-36.tif',\n",
       " 'https://commons.wikimedia.org/wiki/File%3ACH-NB_-_Thun_und_Umgebung%2C_von_S%C3%BCden_-_Collection_Gugelmann_-_GS-GUGE-ABERLI-C-37.tif',\n",
       " 'https://commons.wikimedia.org/wiki/File%3ACH-NB_-_Vierwaldst%C3%A4ttersee%2C_vermutlich_Urnersee_-_Collection_Gugelmann_-_GS-GUGE-ABERLI-C-38.tif',\n",
       " 'https://commons.wikimedia.org/wiki/File%3ACH-NB_-_Grindelwald%2C_der_untere_Gletscher_auf_der_Schopffelsterrasse_-_Collection_Gugelmann_-_GS-GUGE-ABERLI-C-39.tif',\n",
       " 'https://commons.wikimedia.org/wiki/File%3ACH-NB_-_Brienz%2C_mit_Kirche_von_Westen_-_Collection_Gugelmann_-_GS-GUGE-ABERLI-C-40.tif',\n",
       " 'https://commons.wikimedia.org/wiki/File%3ACH-NB_-_Weissenburg%2C_Bad%2C_von_S%C3%BCdosten_-_Collection_Gugelmann_-_GS-GUGE-ABERLI-C-41.tif',\n",
       " 'https://commons.wikimedia.org/wiki/File%3ACH-NB_-_Lausanne%2C_Umgebung_-_Collection_Gugelmann_-_GS-GUGE-ABERLI-C-42.tif',\n",
       " 'https://commons.wikimedia.org/wiki/File%3ACH-NB_-_Erlach%2C_Schloss%2C_und_Bielersee_von_S%C3%BCdwesten_-_Collection_Gugelmann_-_GS-GUGE-ABERLI-D-1.tif',\n",
       " 'https://commons.wikimedia.org/wiki/File%3ACH-NB_-_Morges%2C_von_Nordwesten_-_Collection_Gugelmann_-_GS-GUGE-ABERLI-D-2.tif',\n",
       " 'https://commons.wikimedia.org/wiki/File%3ACH-NB_-_Belp%2C_Schloss%2C_von_Osten_-_Collection_Gugelmann_-_GS-GUGE-ABERLI-E-1.tif',\n",
       " 'https://commons.wikimedia.org/wiki/File%3ACH-NB_-_Belp%2C_Schloss%2C_von_Westen_-_Collection_Gugelmann_-_GS-GUGE-ABERLI-E-2.tif']"
      ]
     },
     "execution_count": 21,
     "metadata": {},
     "output_type": "execute_result"
    }
   ],
   "source": [
    "urls[:100]"
   ]
  },
  {
   "cell_type": "markdown",
   "metadata": {
    "collapsed": true
   },
   "source": [
    "## Date Descriptions"
   ]
  },
  {
   "cell_type": "code",
   "execution_count": 25,
   "metadata": {},
   "outputs": [],
   "source": [
    "productionDates = root.findall('//DetailData/DataElement[@ElementId=\"7\"]/ElementValue')                       "
   ]
  },
  {
   "cell_type": "markdown",
   "metadata": {},
   "source": [
    "Look at tags used to define production dates"
   ]
  },
  {
   "cell_type": "code",
   "execution_count": 43,
   "metadata": {},
   "outputs": [
    {
     "data": {
      "text/plain": [
       "{'DateRange'}"
      ]
     },
     "execution_count": 43,
     "metadata": {},
     "output_type": "execute_result"
    }
   ],
   "source": [
    "set([date.getchildren()[0].tag for date in productionDates])"
   ]
  },
  {
   "cell_type": "markdown",
   "metadata": {},
   "source": [
    "Look at date operators"
   ]
  },
  {
   "cell_type": "code",
   "execution_count": 63,
   "metadata": {},
   "outputs": [
    {
     "name": "stdout",
     "output_type": "stream",
     "text": [
      "exact\n",
      "before\n",
      "To\n",
      "after\n",
      "startingWith\n",
      "fromTo\n",
      "between\n"
     ]
    }
   ],
   "source": [
    "operators = set([date.getchildren()[0].get('DateOperator') for date in productionDates])\n",
    "print(\"\\n\".join(operators))"
   ]
  },
  {
   "cell_type": "code",
   "execution_count": 60,
   "metadata": {},
   "outputs": [
    {
     "name": "stdout",
     "output_type": "stream",
     "text": [
      "exact\n",
      "<DateRange xmlns:xsi=\"http://www.w3.org/2001/XMLSchema-instance\" DateOperator=\"exact\">      \n",
      "      <FromDate>+1901</FromDate>      \n",
      "      <FromApproxIndicator>false</FromApproxIndicator>      \n",
      "      <ToDate/>      \n",
      "      <ToApproxIndicator>false</ToApproxIndicator>      \n",
      "      <TextRepresentation>1901</TextRepresentation>      \n",
      "     </DateRange>     \n",
      "    \n",
      "\n",
      "before\n",
      "<DateRange xmlns:xsi=\"http://www.w3.org/2001/XMLSchema-instance\" DateOperator=\"before\">      \n",
      "      <FromDate>+1812</FromDate>      \n",
      "      <FromApproxIndicator>false</FromApproxIndicator>      \n",
      "      <ToDate/>      \n",
      "      <ToApproxIndicator>false</ToApproxIndicator>      \n",
      "      <TextRepresentation>-1812</TextRepresentation>      \n",
      "     </DateRange>     \n",
      "    \n",
      "\n",
      "To\n",
      "<DateRange xmlns:xsi=\"http://www.w3.org/2001/XMLSchema-instance\" DateOperator=\"To\">      \n",
      "      <FromDate>+1774</FromDate>      \n",
      "      <FromApproxIndicator>true</FromApproxIndicator>      \n",
      "      <ToDate/>      \n",
      "      <ToApproxIndicator>false</ToApproxIndicator>      \n",
      "      <TextRepresentation>-1774 (ca.)</TextRepresentation>      \n",
      "     </DateRange>     \n",
      "    \n",
      "\n",
      "after\n",
      "<DateRange xmlns:xsi=\"http://www.w3.org/2001/XMLSchema-instance\" DateOperator=\"after\">      \n",
      "      <FromDate>+1786</FromDate>      \n",
      "      <FromApproxIndicator>false</FromApproxIndicator>      \n",
      "      <ToDate/>      \n",
      "      <ToApproxIndicator>false</ToApproxIndicator>      \n",
      "      <TextRepresentation>1786-</TextRepresentation>      \n",
      "     </DateRange>     \n",
      "    \n",
      "\n",
      "startingWith\n",
      "<DateRange xmlns:xsi=\"http://www.w3.org/2001/XMLSchema-instance\" DateOperator=\"startingWith\">      \n",
      "      <FromDate>+1730</FromDate>      \n",
      "      <FromApproxIndicator>true</FromApproxIndicator>      \n",
      "      <ToDate/>      \n",
      "      <ToApproxIndicator>false</ToApproxIndicator>      \n",
      "      <TextRepresentation>1730 (ca.)-</TextRepresentation>      \n",
      "     </DateRange>     \n",
      "    \n",
      "\n",
      "fromTo\n",
      "<DateRange xmlns:xsi=\"http://www.w3.org/2001/XMLSchema-instance\" DateOperator=\"fromTo\">      \n",
      "      <FromDate>+1898</FromDate>      \n",
      "      <FromApproxIndicator>false</FromApproxIndicator>      \n",
      "      <ToDate>+1907</ToDate>      \n",
      "      <ToApproxIndicator>false</ToApproxIndicator>      \n",
      "      <TextRepresentation>1898-1907</TextRepresentation>      \n",
      "     </DateRange>     \n",
      "    \n",
      "\n",
      "between\n",
      "<DateRange xmlns:xsi=\"http://www.w3.org/2001/XMLSchema-instance\" DateOperator=\"between\">      \n",
      "      <FromDate>+1898</FromDate>      \n",
      "      <FromApproxIndicator>false</FromApproxIndicator>      \n",
      "      <ToDate>+1907</ToDate>      \n",
      "      <ToApproxIndicator>false</ToApproxIndicator>      \n",
      "      <TextRepresentation>1898-1907</TextRepresentation>      \n",
      "     </DateRange>     \n",
      "    \n",
      "\n"
     ]
    }
   ],
   "source": [
    "for operator in operators:\n",
    "    example = root.find('//DateRange[@DateOperator=\"%s\"]' % operator)\n",
    "    print(operator)\n",
    "    print(etree.tostring(example, pretty_print=True, encoding=\"UTF-8\").decode(\"utf-8\") )"
   ]
  },
  {
   "cell_type": "code",
   "execution_count": 53,
   "metadata": {},
   "outputs": [
    {
     "data": {
      "text/plain": [
       "b'<DateRange xmlns:xsi=\"http://www.w3.org/2001/XMLSchema-instance\" DateOperator=\"between\">      \\n      <FromDate>+1898</FromDate>      \\n      <FromApproxIndicator>false</FromApproxIndicator>      \\n      <ToDate>+1907</ToDate>      \\n      <ToApproxIndicator>false</ToApproxIndicator>      \\n      <TextRepresentation>1898-1907</TextRepresentation>      \\n     </DateRange>     \\n    '"
      ]
     },
     "execution_count": 53,
     "metadata": {},
     "output_type": "execute_result"
    }
   ],
   "source": [
    "etree.tostring(example)"
   ]
  },
  {
   "cell_type": "code",
   "execution_count": 54,
   "metadata": {},
   "outputs": [
    {
     "name": "stdout",
     "output_type": "stream",
     "text": [
      "Help on cython_function_or_method in module lxml.etree:\n",
      "\n",
      "tostring(element_or_tree, *, encoding=None, method='xml', xml_declaration=None, pretty_print=False, with_tail=True, standalone=None, doctype=None, exclusive=False, with_comments=True, inclusive_ns_prefixes=None)\n",
      "    tostring(element_or_tree, encoding=None, method=\"xml\",\n",
      "                 xml_declaration=None, pretty_print=False, with_tail=True,\n",
      "                 standalone=None, doctype=None,\n",
      "                 exclusive=False, with_comments=True, inclusive_ns_prefixes=None)\n",
      "    \n",
      "    Serialize an element to an encoded string representation of its XML\n",
      "    tree.\n",
      "    \n",
      "    Defaults to ASCII encoding without XML declaration.  This\n",
      "    behaviour can be configured with the keyword arguments 'encoding'\n",
      "    (string) and 'xml_declaration' (bool).  Note that changing the\n",
      "    encoding to a non UTF-8 compatible encoding will enable a\n",
      "    declaration by default.\n",
      "    \n",
      "    You can also serialise to a Unicode string without declaration by\n",
      "    passing the ``unicode`` function as encoding (or ``str`` in Py3),\n",
      "    or the name 'unicode'.  This changes the return value from a byte\n",
      "    string to an unencoded unicode string.\n",
      "    \n",
      "    The keyword argument 'pretty_print' (bool) enables formatted XML.\n",
      "    \n",
      "    The keyword argument 'method' selects the output method: 'xml',\n",
      "    'html', plain 'text' (text content without tags) or 'c14n'.\n",
      "    Default is 'xml'.\n",
      "    \n",
      "    The ``exclusive`` and ``with_comments`` arguments are only used\n",
      "    with C14N output, where they request exclusive and uncommented\n",
      "    C14N serialisation respectively.\n",
      "    \n",
      "    Passing a boolean value to the ``standalone`` option will output\n",
      "    an XML declaration with the corresponding ``standalone`` flag.\n",
      "    \n",
      "    The ``doctype`` option allows passing in a plain string that will\n",
      "    be serialised before the XML tree.  Note that passing in non\n",
      "    well-formed content here will make the XML output non well-formed.\n",
      "    Also, an existing doctype in the document tree will not be removed\n",
      "    when serialising an ElementTree instance.\n",
      "    \n",
      "    You can prevent the tail text of the element from being serialised\n",
      "    by passing the boolean ``with_tail`` option.  This has no impact\n",
      "    on the tail text of children, which will always be serialised.\n",
      "\n"
     ]
    }
   ],
   "source": [
    "help(etree.tostring)"
   ]
  },
  {
   "cell_type": "code",
   "execution_count": null,
   "metadata": {
    "collapsed": true
   },
   "outputs": [],
   "source": []
  }
 ],
 "metadata": {
  "kernelspec": {
   "display_name": "Python 3",
   "language": "python",
   "name": "python3"
  },
  "language_info": {
   "codemirror_mode": {
    "name": "ipython",
    "version": 3
   },
   "file_extension": ".py",
   "mimetype": "text/x-python",
   "name": "python",
   "nbconvert_exporter": "python",
   "pygments_lexer": "ipython3",
   "version": "3.6.3"
  }
 },
 "nbformat": 4,
 "nbformat_minor": 2
}
