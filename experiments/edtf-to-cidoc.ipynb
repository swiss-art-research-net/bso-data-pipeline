{
 "cells": [
  {
   "cell_type": "code",
   "execution_count": 1,
   "metadata": {},
   "outputs": [
    {
     "name": "stdout",
     "output_type": "stream",
     "text": [
      "Requirement already satisfied: pixiedust in /Users/fkraeutli/anaconda/lib/python3.6/site-packages (1.1.18)\n",
      "Requirement already satisfied: pixiedust_node in /Users/fkraeutli/anaconda/lib/python3.6/site-packages (0.2.5)\n",
      "Requirement already satisfied: astunparse in /Users/fkraeutli/anaconda/lib/python3.6/site-packages (from pixiedust) (1.6.3)\n",
      "Requirement already satisfied: mpld3 in /Users/fkraeutli/anaconda/lib/python3.6/site-packages (from pixiedust) (0.5.1)\n",
      "Requirement already satisfied: requests in /Users/fkraeutli/anaconda/lib/python3.6/site-packages (from pixiedust) (2.22.0)\n",
      "Requirement already satisfied: lxml in /Users/fkraeutli/anaconda/lib/python3.6/site-packages (from pixiedust) (3.7.3)\n",
      "Requirement already satisfied: colour in /Users/fkraeutli/anaconda/lib/python3.6/site-packages (from pixiedust) (0.1.5)\n",
      "Requirement already satisfied: geojson in /Users/fkraeutli/anaconda/lib/python3.6/site-packages (from pixiedust) (2.5.0)\n",
      "Requirement already satisfied: markdown in /Users/fkraeutli/anaconda/lib/python3.6/site-packages (from pixiedust) (3.1.1)\n",
      "Requirement already satisfied: pandas in /Users/fkraeutli/anaconda/lib/python3.6/site-packages (from pixiedust_node) (0.22.0)\n",
      "Requirement already satisfied: ipython in /Users/fkraeutli/anaconda/lib/python3.6/site-packages (from pixiedust_node) (6.1.0)\n",
      "Requirement already satisfied: wheel<1.0,>=0.23.0 in /Users/fkraeutli/anaconda/lib/python3.6/site-packages (from astunparse->pixiedust) (0.29.0)\n",
      "Requirement already satisfied: six<2.0,>=1.6.1 in /Users/fkraeutli/anaconda/lib/python3.6/site-packages (from astunparse->pixiedust) (1.11.0)\n",
      "Requirement already satisfied: matplotlib in /Users/fkraeutli/anaconda/lib/python3.6/site-packages (from mpld3->pixiedust) (2.0.2)\n",
      "Requirement already satisfied: jinja2 in /Users/fkraeutli/anaconda/lib/python3.6/site-packages (from mpld3->pixiedust) (2.9.6)\n",
      "Requirement already satisfied: idna<2.9,>=2.5 in /Users/fkraeutli/anaconda/lib/python3.6/site-packages (from requests->pixiedust) (2.5)\n",
      "Requirement already satisfied: chardet<3.1.0,>=3.0.2 in /Users/fkraeutli/anaconda/lib/python3.6/site-packages (from requests->pixiedust) (3.0.3)\n",
      "Requirement already satisfied: urllib3!=1.25.0,!=1.25.1,<1.26,>=1.21.1 in /Users/fkraeutli/anaconda/lib/python3.6/site-packages (from requests->pixiedust) (1.24.2)\n",
      "Requirement already satisfied: certifi>=2017.4.17 in /Users/fkraeutli/anaconda/lib/python3.6/site-packages (from requests->pixiedust) (2019.6.16)\n",
      "Requirement already satisfied: setuptools>=36 in /Users/fkraeutli/anaconda/lib/python3.6/site-packages (from markdown->pixiedust) (41.0.1)\n",
      "Requirement already satisfied: numpy>=1.9.0 in /Users/fkraeutli/anaconda/lib/python3.6/site-packages (from pandas->pixiedust_node) (1.16.4)\n",
      "Requirement already satisfied: python-dateutil>=2 in /Users/fkraeutli/anaconda/lib/python3.6/site-packages (from pandas->pixiedust_node) (2.7.2)\n",
      "Requirement already satisfied: pytz>=2011k in /Users/fkraeutli/anaconda/lib/python3.6/site-packages (from pandas->pixiedust_node) (2018.4)\n",
      "Requirement already satisfied: cycler>=0.10 in /Users/fkraeutli/anaconda/lib/python3.6/site-packages (from matplotlib->mpld3->pixiedust) (0.10.0)\n",
      "Requirement already satisfied: pyparsing!=2.0.4,!=2.1.2,!=2.1.6,>=1.5.6 in /Users/fkraeutli/anaconda/lib/python3.6/site-packages (from matplotlib->mpld3->pixiedust) (2.2.0)\n",
      "Requirement already satisfied: MarkupSafe>=0.23 in /Users/fkraeutli/anaconda/lib/python3.6/site-packages (from jinja2->mpld3->pixiedust) (0.23)\n",
      "\u001b[33mWARNING: You are using pip version 20.1.1; however, version 20.2.4 is available.\n",
      "You should consider upgrading via the '/Users/fkraeutli/anaconda/bin/python -m pip install --upgrade pip' command.\u001b[0m\n"
     ]
    }
   ],
   "source": [
    "import sys\n",
    "!{sys.executable} -m pip install pixiedust pixiedust_node"
   ]
  },
  {
   "cell_type": "code",
   "execution_count": 2,
   "metadata": {},
   "outputs": [
    {
     "name": "stdout",
     "output_type": "stream",
     "text": [
      "Pixiedust database opened successfully\n"
     ]
    },
    {
     "data": {
      "text/html": [
       "\n",
       "        <div style=\"margin:10px\">\n",
       "            <a href=\"https://github.com/ibm-watson-data-lab/pixiedust\" target=\"_new\">\n",
       "                <img src=\"https://github.com/ibm-watson-data-lab/pixiedust/raw/master/docs/_static/pd_icon32.png\" style=\"float:left;margin-right:10px\"/>\n",
       "            </a>\n",
       "            <span>Pixiedust version 1.1.18</span>\n",
       "        </div>\n",
       "        "
      ],
      "text/plain": [
       "<IPython.core.display.HTML object>"
      ]
     },
     "metadata": {},
     "output_type": "display_data"
    },
    {
     "data": {
      "text/html": [
       "\n",
       "            <div style=\"margin:10px\"> \n",
       "            <a href=\"https://github.com/ibm-cds-labs/pixiedust_node\" target=\"_new\"> \n",
       "            <img src=\"https://github.com/ibm-cds-labs/pixiedust_node/raw/master/docs/_images/pdn_icon32.png\" style=\"float:left;margin-right:10px\"/> \n",
       "            </a> \n",
       "            <span>Pixiedust Node.js</span> \n",
       "            </div> \n"
      ],
      "text/plain": [
       "<IPython.core.display.HTML object>"
      ]
     },
     "metadata": {},
     "output_type": "display_data"
    },
    {
     "name": "stdout",
     "output_type": "stream",
     "text": [
      "pixiedust_node 0.2.5 started. Cells starting '%%node' may contain Node.js code.\n"
     ]
    }
   ],
   "source": [
    "import csv\n",
    "import pixiedust_node\n",
    "from edtf import parse_edtf\n",
    "from os import listdir"
   ]
  },
  {
   "cell_type": "code",
   "execution_count": 3,
   "metadata": {
    "collapsed": true
   },
   "outputs": [],
   "source": [
    "csvFolder = './output'"
   ]
  },
  {
   "cell_type": "code",
   "execution_count": 4,
   "metadata": {},
   "outputs": [],
   "source": [
    "csvFiles = listdir(csvFolder)"
   ]
  },
  {
   "cell_type": "code",
   "execution_count": 5,
   "metadata": {
    "collapsed": true
   },
   "outputs": [],
   "source": [
    "data= []\n",
    "for file in csvFiles:\n",
    "    with open((csvFolder + '/' + file), 'r') as f:\n",
    "        reader = csv.DictReader(f)\n",
    "        for row in reader:\n",
    "            data.append((row['Example'], row['Interpretation'], row['Appearances']))"
   ]
  },
  {
   "cell_type": "code",
   "execution_count": 6,
   "metadata": {},
   "outputs": [
    {
     "name": "stdout",
     "output_type": "stream",
     "text": [
      "/usr/local/bin/npm install -s edtf\n",
      "+ edtf@3.1.0\n",
      "updated 1 package and audited 84 packages in 1.155s\n",
      "2 packages are looking for funding\n",
      "run `npm fund` for details\n",
      "found 0 vulnerabilities\n"
     ]
    }
   ],
   "source": [
    "npm.install('edtf');"
   ]
  },
  {
   "cell_type": "code",
   "execution_count": 9,
   "metadata": {},
   "outputs": [
    {
     "name": "stdout",
     "output_type": "stream",
     "text": [
      "... ... ..... ..... ..... ..... ..... ...\n"
     ]
    }
   ],
   "source": [
    "%%node\n",
    "var edtf = require('edtf');\n",
    "interpretations = [];\n",
    "for(var i=0; i<data.length; i++) {\n",
    "    date = data[i][1];\n",
    "    try {\n",
    "        interpretation = edtf.parse(date);\n",
    "        interpretations.push(interpretation);\n",
    "    } catch(error) {\n",
    "        interpretations.push(false)\n",
    "    }\n",
    "}"
   ]
  },
  {
   "cell_type": "code",
   "execution_count": 12,
   "metadata": {},
   "outputs": [
    {
     "name": "stdout",
     "output_type": "stream",
     "text": [
      "2 1808-1872010658196 1808/1872/0106/5819  X\n",
      "---\n",
      "2 1290/1300-1360 1290/1300/1360  X\n",
      "---\n",
      "2 1844 July 31 1844-07-44  X\n",
      "---\n",
      "2 1784.9.14 0014-09-84  X\n",
      "---\n",
      "2 1896/97 1896/97  X\n",
      "---\n",
      "1 Febr. 36. 036.-02  X\n",
      "---\n",
      "1 [ca. 1835/36] 1835?/36?  X\n",
      "---\n",
      "1 7. Juli [18]91. 1891.-07-07  X\n",
      "---\n",
      "1 186? [i.e. zwischen 1860 und 1869] 186?/1860/1869  X\n",
      "---\n",
      "1 [zwischen 1860 und 110] 1860/110  X\n",
      "---\n",
      "1 Aug 95 [August 1895] 1895-08-95  X\n",
      "---\n",
      "4 01.30.[18]61 1861-30-01  X\n",
      "---\n",
      "4 11. Aug. 1806. 1806.-08-11  X\n",
      "---\n",
      "2 19. 8br. 1803. 1803.-10-19  X\n",
      "---\n",
      "1 1914/15 1914/15  X\n",
      "---\n"
     ]
    }
   ],
   "source": [
    "for i, d in enumerate(data):\n",
    "    date = d[1]\n",
    "    if date:\n",
    "        if not interpretations[i]:\n",
    "            #print(date)\n",
    "            #print(interpretations[i])\n",
    "        #else:\n",
    "            print(d[2], d[0], date, \" X\")\n",
    "            print(\"---\")"
   ]
  },
  {
   "cell_type": "code",
   "execution_count": null,
   "metadata": {},
   "outputs": [],
   "source": [
    "interpretations"
   ]
  },
  {
   "cell_type": "code",
   "execution_count": null,
   "metadata": {
    "collapsed": true
   },
   "outputs": [],
   "source": []
  }
 ],
 "metadata": {
  "kernelspec": {
   "display_name": "Python 3",
   "language": "python",
   "name": "python3"
  },
  "language_info": {
   "codemirror_mode": {
    "name": "ipython",
    "version": 3
   },
   "file_extension": ".py",
   "mimetype": "text/x-python",
   "name": "python",
   "nbconvert_exporter": "python",
   "pygments_lexer": "ipython3",
   "version": "3.6.3"
  }
 },
 "nbformat": 4,
 "nbformat_minor": 2
}
