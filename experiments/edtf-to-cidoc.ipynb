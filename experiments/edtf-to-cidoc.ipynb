{
 "cells": [
  {
   "cell_type": "code",
   "execution_count": 1,
   "metadata": {
    "collapsed": true
   },
   "outputs": [],
   "source": [
    "# import sys\n",
    "# !{sys.executable} -m pip install pixiedust pixiedust_node"
   ]
  },
  {
   "cell_type": "code",
   "execution_count": 27,
   "metadata": {},
   "outputs": [],
   "source": [
    "import csv\n",
    "import pixiedust_node\n",
    "from os import listdir\n",
    "from edtf import parse_edtf"
   ]
  },
  {
   "cell_type": "code",
   "execution_count": 3,
   "metadata": {},
   "outputs": [
    {
     "name": "stdout",
     "output_type": "stream",
     "text": [
      "pixiedust_node 0.2.5 started. Cells starting '%%node' may contain Node.js code.\n"
     ]
    }
   ],
   "source": [
    "csvFolder = './output'"
   ]
  },
  {
   "cell_type": "code",
   "execution_count": 4,
   "metadata": {
    "collapsed": true
   },
   "outputs": [],
   "source": [
    "csvFiles = listdir(csvFolder)"
   ]
  },
  {
   "cell_type": "code",
   "execution_count": 5,
   "metadata": {},
   "outputs": [],
   "source": [
    "data= []\n",
    "for file in csvFiles:\n",
    "    with open((csvFolder + '/' + file), 'r') as f:\n",
    "        reader = csv.DictReader(f)\n",
    "        for row in reader:\n",
    "            data.append((row['Example'], row['Interpretation'], row['Appearances']))"
   ]
  },
  {
   "cell_type": "code",
   "execution_count": 6,
   "metadata": {},
   "outputs": [
    {
     "name": "stdout",
     "output_type": "stream",
     "text": [
      "/usr/local/bin/npm install -s edtf\n",
      "+ edtf@3.1.0\n",
      "updated 1 package and audited 84 packages in 0.708s\n",
      "2 packages are looking for funding\n",
      "run `npm fund` for details\n",
      "found 0 vulnerabilities\n"
     ]
    }
   ],
   "source": [
    "npm.install('edtf');"
   ]
  },
  {
   "cell_type": "code",
   "execution_count": 7,
   "metadata": {},
   "outputs": [
    {
     "name": "stdout",
     "output_type": "stream",
     "text": [
      "... ... ..... ..... ..... ..... ..... ...\n"
     ]
    }
   ],
   "source": [
    "%%node\n",
    "var edtf = require('edtf');\n",
    "interpretations = [];\n",
    "for(var i=0; i<data.length; i++) {\n",
    "    date = data[i][1];\n",
    "    try {\n",
    "        interpretation = edtf.parse(date);\n",
    "        interpretations.push(interpretation);\n",
    "    } catch(error) {\n",
    "        interpretations.push(false)\n",
    "    }\n",
    "}"
   ]
  },
  {
   "cell_type": "code",
   "execution_count": 103,
   "metadata": {},
   "outputs": [
    {
     "name": "stdout",
     "output_type": "stream",
     "text": [
      "1819/1892\n",
      "[1819, 1, 1] [1892, 12, 31]\n",
      "1803/uuuu-uu\n",
      "[1803, 1, 1] [9999, 12, 31]\n",
      "18uu\n",
      "[1800, 1, 1] [1899, 12, 31]\n",
      "1810-09-26\n",
      "[1810, 9, 26] [1810, 9, 26]\n",
      "1777/1842\n",
      "[1777, 1, 1] [1842, 12, 31]\n",
      "17uu\n",
      "[1700, 1, 1] [1799, 12, 31]\n",
      "1700?/1750?\n",
      "[1700, 1, 1] [1750, 12, 31]\n",
      "14uu/15uu\n",
      "[1400, 1, 1] [1599, 12, 31]\n",
      "1840/1852\n",
      "[1840, 1, 1] [1852, 12, 31]\n",
      "1808/1872\n",
      "[1808, 1, 1] [1872, 12, 31]\n",
      "uuuu-uu/1778\n",
      "[0, 1, 1] [1778, 12, 31]\n",
      "1735/1795\n",
      "[1735, 1, 1] [1795, 12, 31]\n",
      "17uu\n",
      "[1700, 1, 1] [1799, 12, 31]\n",
      "1800/uuuu-uu\n",
      "[1800, 1, 1] [9999, 12, 31]\n",
      "18uu\n",
      "[1800, 1, 1] [1899, 12, 31]\n",
      "1589\n",
      "[1589, 1, 1] [1589, 12, 31]\n",
      "1559/1586\n",
      "[1559, 1, 1] [1586, 12, 31]\n",
      "16uu/17uu\n",
      "[1600, 1, 1] [1799, 12, 31]\n",
      "1834?\n",
      "[1834, 1, 1] [1834, 12, 31]\n",
      "01uu\n",
      "[100, 1, 1] [199, 12, 31]\n",
      "1847/uuuu-uu\n",
      "[1847, 1, 1] [9999, 12, 31]\n",
      "1818/1838\n",
      "[1818, 1, 1] [1838, 12, 31]\n",
      "7470/7479\n",
      "[7470, 1, 1] [7479, 12, 31]\n",
      "03uu\n",
      "[300, 1, 1] [399, 12, 31]\n",
      "uuuu-uu/1309\n",
      "[0, 1, 1] [1309, 12, 31]\n",
      "02uu/03uu\n",
      "[200, 1, 1] [399, 12, 31]\n",
      "06uu\n",
      "[600, 1, 1] [699, 12, 31]\n",
      "00uu\n",
      "[0, 1, 1] [99, 12, 31]\n",
      "00uu\n",
      "[0, 1, 1] [99, 12, 31]\n",
      "00uu\n",
      "[0, 1, 1] [99, 12, 31]\n",
      "06uu\n",
      "[600, 1, 1] [699, 12, 31]\n",
      "02uu\n",
      "[200, 1, 1] [299, 12, 31]\n",
      "1944\n",
      "[1944, 1, 1] [1944, 12, 31]\n",
      "1290/1300\n",
      "[1290, 1, 1] [1300, 12, 31]\n",
      "1647/1709\n",
      "[1647, 1, 1] [1709, 12, 31]\n",
      "1000/1009\n",
      "[1000, 1, 1] [1009, 12, 31]\n",
      "4530?/4539?\n",
      "[4530, 1, 1] [4539, 12, 31]\n",
      "uuuu-uu/1558\n",
      "[0, 1, 1] [1558, 12, 31]\n",
      "1685?\n",
      "[1685, 1, 1] [1685, 12, 31]\n",
      "1863/uuuu-uu\n",
      "[1863, 1, 1] [9999, 12, 31]\n",
      "12uu/13uu\n",
      "[1200, 1, 1] [1399, 12, 31]\n",
      "4560?/4569?\n",
      "[4560, 1, 1] [4569, 12, 31]\n",
      "9810/9819\n",
      "[9810, 1, 1] [9819, 12, 31]\n",
      "1903\n",
      "[1903, 1, 1] [1903, 12, 31]\n",
      "1770\n",
      "[1770, 1, 1] [1770, 12, 31]\n",
      "1985\n",
      "[1985, 1, 1] [1985, 12, 31]\n",
      "1751\n",
      "[1751, 1, 1] [1751, 12, 31]\n",
      "1854/1861\n",
      "[1854, 1, 1] [1861, 12, 31]\n",
      "1838?\n",
      "[1838, 1, 1] [1838, 12, 31]\n",
      "1908-08-29\n",
      "[1908, 8, 29] [1908, 8, 29]\n",
      "1730/1775\n",
      "[1730, 1, 1] [1775, 12, 31]\n",
      "1890-04-05\n",
      "[1890, 4, 5] [1890, 4, 5]\n",
      "uuuu-uu/1857\n",
      "[0, 1, 1] [1857, 12, 31]\n",
      "1859-08-22\n",
      "[1859, 8, 22] [1859, 8, 22]\n",
      "1850?\n",
      "[1850, 1, 1] [1850, 12, 31]\n",
      "1871-10-04\n",
      "[1871, 10, 4] [1871, 10, 4]\n",
      "1905-08-31\n",
      "[1905, 8, 31] [1905, 8, 31]\n",
      "1843-05\n",
      "[1843, 5, 1] [1843, 5, 31]\n",
      "1898/uuuu-uu\n",
      "[1898, 1, 1] [9999, 12, 31]\n",
      "1905-08-31\n",
      "[1905, 8, 31] [1905, 8, 31]\n",
      "1770?\n",
      "[1770, 1, 1] [1770, 12, 31]\n",
      "1906-08\n",
      "[1906, 8, 1] [1906, 8, 31]\n",
      "1800?/1899?\n",
      "[1800, 1, 1] [1899, 12, 31]\n",
      "1800/1899\n",
      "[1800, 1, 1] [1899, 12, 31]\n",
      "1885-08-05\n",
      "[1885, 8, 5] [1885, 8, 5]\n",
      "1889-10-03\n",
      "[1889, 10, 3] [1889, 10, 3]\n",
      "1889-10-04\n",
      "[1889, 10, 4] [1889, 10, 4]\n",
      "1909-08-31\n",
      "[1909, 8, 31] [1909, 8, 31]\n",
      "1843?\n",
      "[1843, 1, 1] [1843, 12, 31]\n",
      "1898-10-04\n",
      "[1898, 10, 4] [1898, 10, 4]\n",
      "1793-08-14\n",
      "[1793, 8, 14] [1793, 8, 14]\n",
      "1785-05-23\n",
      "[1785, 5, 23] [1785, 5, 23]\n",
      "1880-10\n",
      "[1880, 10, 1] [1880, 10, 31]\n",
      "1815-03-04\n",
      "[1815, 3, 4] [1815, 3, 4]\n",
      "1895-01-20\n",
      "[1895, 1, 20] [1895, 1, 20]\n",
      "1890-03-31\n",
      "[1890, 3, 31] [1890, 3, 31]\n",
      "1909-08-30\n",
      "[1909, 8, 30] [1909, 8, 30]\n",
      "1870?\n",
      "[1870, 1, 1] [1870, 12, 31]\n",
      "1844-10-13\n",
      "[1844, 10, 13] [1844, 10, 13]\n",
      "1909-09-02\n",
      "[1909, 9, 2] [1909, 9, 2]\n",
      "1796-03-20\n",
      "[1796, 3, 20] [1796, 3, 20]\n",
      "1740?\n",
      "[1740, 1, 1] [1740, 12, 31]\n",
      "1783-05-03\n",
      "[1783, 5, 3] [1783, 5, 3]\n",
      "1794-04-12\n",
      "[1794, 4, 12] [1794, 4, 12]\n",
      "1886-09-04\n",
      "[1886, 9, 4] [1886, 9, 4]\n",
      "1888-09\n",
      "[1888, 9, 1] [1888, 9, 30]\n",
      "1889-05-27\n",
      "[1889, 5, 27] [1889, 5, 27]\n",
      "1860/1900\n",
      "[1860, 1, 1] [1900, 12, 31]\n",
      "1788-07-31\n",
      "[1788, 7, 31] [1788, 7, 31]\n",
      "1911-09-06\n",
      "[1911, 9, 6] [1911, 9, 6]\n",
      "1903-09-14\n",
      "[1903, 9, 14] [1903, 9, 14]\n",
      "1908-08-25\n",
      "[1908, 8, 25] [1908, 8, 25]\n",
      "1895-08-07\n",
      "[1895, 8, 7] [1895, 8, 7]\n",
      "1673\n",
      "[1673, 1, 1] [1673, 12, 31]\n"
     ]
    }
   ],
   "source": [
    "for i, date in enumerate(data[:100]):\n",
    "    if date[1]:\n",
    "        edtfDate = date[1].replace('X','u')\n",
    "        if edtfDate[-1:] == '/':\n",
    "            edtfDate += 'uuuu-uu'\n",
    "        if edtfDate[0] == '/':\n",
    "            edtfDate = 'uuuu-uu' + edtfDate\n",
    "        try:\n",
    "            d = parse_edtf(edtfDate)\n",
    "            lower = d.lower_strict()\n",
    "            upper = d.upper_strict()\n",
    "            print(edtfDate)\n",
    "            print([lower.tm_year, lower.tm_mon, lower.tm_mday], [upper.tm_year, upper.tm_mon, upper.tm_mday])\n",
    "        except:\n",
    "            print(edtfDate)\n",
    "            print('unsupported')\n",
    "            print('---')"
   ]
  },
  {
   "cell_type": "code",
   "execution_count": 82,
   "metadata": {},
   "outputs": [],
   "source": [
    "m = parse_edtf(\"1810-09-26\")"
   ]
  },
  {
   "cell_type": "code",
   "execution_count": 83,
   "metadata": {},
   "outputs": [],
   "source": [
    "l = m.lower_strict()"
   ]
  },
  {
   "cell_type": "code",
   "execution_count": 94,
   "metadata": {},
   "outputs": [
    {
     "data": {
      "text/plain": [
       "1"
      ]
     },
     "execution_count": 94,
     "metadata": {},
     "output_type": "execute_result"
    }
   ],
   "source": [
    "lower.tm_mon"
   ]
  },
  {
   "cell_type": "code",
   "execution_count": 102,
   "metadata": {},
   "outputs": [
    {
     "data": {
      "text/plain": [
       "'1-2-3'"
      ]
     },
     "execution_count": 102,
     "metadata": {},
     "output_type": "execute_result"
    }
   ],
   "source": []
  },
  {
   "cell_type": "code",
   "execution_count": null,
   "metadata": {
    "collapsed": true
   },
   "outputs": [],
   "source": []
  }
 ],
 "metadata": {
  "kernelspec": {
   "display_name": "Python 3",
   "language": "python",
   "name": "python3"
  },
  "language_info": {
   "codemirror_mode": {
    "name": "ipython",
    "version": 3
   },
   "file_extension": ".py",
   "mimetype": "text/x-python",
   "name": "python",
   "nbconvert_exporter": "python",
   "pygments_lexer": "ipython3",
   "version": "3.6.3"
  }
 },
 "nbformat": 4,
 "nbformat_minor": 2
}
