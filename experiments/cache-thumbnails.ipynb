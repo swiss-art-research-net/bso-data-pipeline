{
 "cells": [
  {
   "cell_type": "code",
   "execution_count": 7,
   "metadata": {},
   "outputs": [],
   "source": [
    "import re\n",
    "import requests\n",
    "from PIL import Image\n",
    "from urllib import request\n",
    "from os import path\n",
    "from configparser import ConfigParser\n",
    "from hashlib import blake2b\n",
    "from string import Template\n",
    "from SPARQLWrapper import SPARQLWrapper, JSON\n",
    "from tqdm import tqdm"
   ]
  },
  {
   "cell_type": "code",
   "execution_count": 8,
   "metadata": {},
   "outputs": [],
   "source": [
    "propsFile = '../services/researchplatform/apps/bso/config/ui.prop'\n",
    "outputDir = '../services/researchplatform/apps/static/assets/no_auth'\n",
    "\n",
    "endpoint = \"http://localhost:7776/blazegraph/sparql\"\n",
    "namedGraph = 'https://resource.swissartresearch.net/graph/thumbnails'\n",
    "\n",
    "thumbnailLocation = \"http://localhost:7778/assets/no_auth\"\n",
    "thumbnailPrefix = \"thumbnail-\"\n",
    "thumbnailPredicate = \"http://schema.org/thumbnail\""
   ]
  },
  {
   "cell_type": "code",
   "execution_count": 9,
   "metadata": {},
   "outputs": [],
   "source": [
    "def downloadAsThumbnail(*, url, directory, prefix, targetWidth=400):\n",
    "    filepath = path.join(outputDir, generateFilename(url, prefix))\n",
    "    if not path.exists(filepath):\n",
    "        request.urlretrieve(url, filepath)\n",
    "        img = Image.open(filepath, 'r')\n",
    "        (width, height) = (img.width, img.height)\n",
    "        if width > targetWidth:\n",
    "            img = img.resize((targetWidth, int(height/width*targetWidth)))\n",
    "        img.save(filepath, 'jpeg', quality=75, optimize=True)\n",
    "        \n",
    "            \n",
    "    return filepath\n",
    "\n",
    "def downloadAll(*,data,directory,prefix):\n",
    "    for row in tqdm(data):\n",
    "        downloadAsThumbnail(url=row['thumbnail'], directory=directory, prefix=prefix)\n",
    "\n",
    "def generateFilename(url, prefix):   \n",
    "    def filenameHash(name, extension='.jpg'):\n",
    "        h = blake2b(digest_size=20)\n",
    "        h.update(name.encode())\n",
    "        return h.hexdigest() + extension\n",
    "    \n",
    "    return prefix + filenameHash(url)\n",
    "\n",
    "def generateTTLdata(data, filenamePrefix, location, predicate):\n",
    "    ttlTemplate = Template(\"\"\"\n",
    "        <$subject> <$predicate> <$location/$filename> .\n",
    "    \"\"\")\n",
    "    return ttlTemplate.substitute(\n",
    "        subject=data['subject'],\n",
    "        filename=generateFilename(data['thumbnail'], filenamePrefix),\n",
    "        predicate=predicate,\n",
    "        location=location\n",
    "    )\n",
    "\n",
    "def getThumbnailQueries(propsfile,*, filterCondition=None):\n",
    "    with open(propsFile, 'r') as f:\n",
    "        rawConfig = f.read()\n",
    "    configString = \"[ui]\\n\" + rawConfig\n",
    "    config = ConfigParser()\n",
    "    config.read_string(configString)\n",
    "    queries = re.split(r'(?<!\\\\),', config['ui']['preferredThumbnails'])\n",
    "    queries = [re.sub(r'\\\\n|\\\\\\\\,', '', d) for d in queries]\n",
    "    if filterCondition:\n",
    "        filteredQueries = [d for d in queries if filterCondition in d]\n",
    "    return filteredQueries\n",
    "\n",
    "def ingestToTriplestore(*, endpoint, data, graph, prefix, location, predicate):\n",
    "    output = ''\n",
    "    for row in data:\n",
    "        output += generateTTLdata(row, prefix, location, predicate)\n",
    "    r = requests.post(\n",
    "        url=endpoint, \n",
    "        data=output,\n",
    "        params={\"context-uri\": graph},\n",
    "        headers={\"Content-Type\": \"application/x-turtle\"})\n",
    "    return r\n",
    "    \n",
    "def queryThumbnails(*,endpoint, queries, limit=None):\n",
    "    sparql = SPARQLWrapper(endpoint)\n",
    "    sparql.setReturnFormat(JSON)\n",
    "    queryTemplate = Template(\"\"\"\n",
    "        PREFIX rdfs: <http://www.w3.org/2000/01/rdf-schema#>\n",
    "        PREFIX crmdig: <http://www.ics.forth.gr/isl/CRMdig/>\n",
    "        PREFIX wdt: <http://www.wikidata.org/prop/direct/>\n",
    "        PREFIX search: <https://platform.swissartresearch.net/search/>\n",
    "        SELECT $select WHERE {\n",
    "            $queryParts\n",
    "        }\n",
    "    \"\"\")\n",
    "    select = ['?subject']\n",
    "    queryParts = []\n",
    "    for i, query in enumerate(queries):\n",
    "        variable = \"?p%d\" % i\n",
    "        queryParts.append(query.replace(\"?value\", variable))\n",
    "        select.append(variable)\n",
    "    query = queryTemplate.substitute(select=' '.join(select), queryParts=' UNION '.join(queryParts))\n",
    "    if limit:\n",
    "        query += \" LIMIT %d\" % limit\n",
    "    sparql.setQuery(query)\n",
    "    ret = sparqlResultToDict(sparql.queryAndConvert())\n",
    "    thumbnails = []\n",
    "    for row in ret:\n",
    "        for i in range(len(queries)):\n",
    "            variable = \"p%d\" % i\n",
    "            if variable in row:\n",
    "                thumbnails.append({\n",
    "                    'subject': row['subject'],\n",
    "                    'thumbnail': row[variable]\n",
    "                })\n",
    "                continue\n",
    "    return thumbnails\n",
    "\n",
    "def sparqlResultToDict(results):\n",
    "    rows = []\n",
    "    for result in results[\"results\"][\"bindings\"]:\n",
    "        row = {}\n",
    "        for key in list(result.keys()):\n",
    "            row[key] = result[key][\"value\"]\n",
    "        rows.append(row)\n",
    "    return rows"
   ]
  },
  {
   "cell_type": "code",
   "execution_count": 10,
   "metadata": {},
   "outputs": [
    {
     "name": "stderr",
     "output_type": "stream",
     "text": [
      "100%|██████████| 18/18 [00:00<00:00, 13016.81it/s]"
     ]
    },
    {
     "name": "stdout",
     "output_type": "stream",
     "text": [
      "<?xml version=\"1.0\"?><data modified=\"18\" milliseconds=\"14\"/>\n"
     ]
    },
    {
     "name": "stderr",
     "output_type": "stream",
     "text": [
      "\n"
     ]
    }
   ],
   "source": [
    "queries = getThumbnailQueries(propsFile, filterCondition='wdt:P18')\n",
    "thumbnails = queryThumbnails(endpoint=endpoint, queries=queries)\n",
    "downloadAll(data=thumbnails,\n",
    "            prefix=thumbnailPrefix,\n",
    "            directory=outputDir)\n",
    "r = ingestToTriplestore(endpoint=endpoint,\n",
    "                    prefix=thumbnailPrefix,\n",
    "                    data=thumbnails, \n",
    "                    graph=namedGraph,\n",
    "                    location=thumbnailLocation, \n",
    "                    predicate=thumbnailPredicate\n",
    ")\n",
    "print(r.text)"
   ]
  },
  {
   "cell_type": "code",
   "execution_count": null,
   "metadata": {},
   "outputs": [],
   "source": []
  },
  {
   "cell_type": "code",
   "execution_count": null,
   "metadata": {},
   "outputs": [],
   "source": []
  }
 ],
 "metadata": {
  "kernelspec": {
   "display_name": "Python 3",
   "language": "python",
   "name": "python3"
  },
  "language_info": {
   "codemirror_mode": {
    "name": "ipython",
    "version": 3
   },
   "file_extension": ".py",
   "mimetype": "text/x-python",
   "name": "python",
   "nbconvert_exporter": "python",
   "pygments_lexer": "ipython3",
   "version": "3.7.3"
  }
 },
 "nbformat": 4,
 "nbformat_minor": 2
}
