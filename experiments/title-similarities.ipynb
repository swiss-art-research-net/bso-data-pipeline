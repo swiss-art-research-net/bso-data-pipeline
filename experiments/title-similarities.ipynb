{
 "cells": [
  {
   "cell_type": "code",
   "execution_count": 1,
   "metadata": {},
   "outputs": [
    {
     "name": "stdout",
     "output_type": "stream",
     "text": [
      "Requirement already satisfied: strsimpy in /Users/fkraeutli/anaconda3/lib/python3.7/site-packages (0.2.1)\r\n"
     ]
    }
   ],
   "source": [
    "import sys\n",
    "!{sys.executable} -m pip install strsimpy"
   ]
  },
  {
   "cell_type": "code",
   "execution_count": 2,
   "metadata": {},
   "outputs": [],
   "source": [
    "import json\n",
    "import strsimpy\n",
    "import uuid\n",
    "import datetime\n",
    "from string import Template\n",
    "from strsimpy import Jaccard\n",
    "from tqdm import tqdm\n",
    "from SPARQLWrapper import SPARQLWrapper, JSON"
   ]
  },
  {
   "cell_type": "code",
   "execution_count": 3,
   "metadata": {},
   "outputs": [],
   "source": [
    "def sparqlResultToDict(results):\n",
    "    rows = []\n",
    "    for result in results[\"results\"][\"bindings\"]:\n",
    "        row = {}\n",
    "        for key in results[\"head\"][\"vars\"]:\n",
    "            if key in result:\n",
    "                row[key] = result[key][\"value\"]\n",
    "            else:\n",
    "                row[key] = None\n",
    "        rows.append(row)\n",
    "    return rows"
   ]
  },
  {
   "cell_type": "code",
   "execution_count": 4,
   "metadata": {},
   "outputs": [],
   "source": [
    "outputJsonFile = 'output/similarityResult.json'\n",
    "outputTtlFile = 'output/titleSimilarities.ttl'\n",
    "outputGraph = 'http://resource.swissartresearch.net/graph/titleSimilarities'"
   ]
  },
  {
   "cell_type": "code",
   "execution_count": 5,
   "metadata": {},
   "outputs": [],
   "source": [
    "endpoint = \"http://localhost:8887/blazegraph/sparql\"    \n",
    "sparql = SPARQLWrapper(endpoint, returnFormat=JSON)"
   ]
  },
  {
   "cell_type": "code",
   "execution_count": 6,
   "metadata": {},
   "outputs": [],
   "source": [
    "labelsQuery = \"\"\"\n",
    "PREFIX crm: <http://www.cidoc-crm.org/cidoc-crm/>\n",
    "PREFIX rdfs: <http://www.w3.org/2000/01/rdf-schema#>\n",
    "PREFIX search: <https://platform.swissartresearch.net/search/>\n",
    "SELECT ?subject ?label WHERE {\n",
    "    ?subject a search:Object ;\n",
    "        rdfs:label ?label\n",
    "}\n",
    "\"\"\""
   ]
  },
  {
   "cell_type": "code",
   "execution_count": 7,
   "metadata": {},
   "outputs": [],
   "source": [
    "# sparql.setQuery(labelsQuery)\n",
    "# try:\n",
    "#     ret = sparql.query().convert()\n",
    "# except:\n",
    "#     raise Exception(\"Could not execute query against endpoint\", endpoint)\n",
    "# labelsData = sparqlResultToDict(ret)"
   ]
  },
  {
   "cell_type": "code",
   "execution_count": 8,
   "metadata": {},
   "outputs": [],
   "source": [
    "# with open(outputJsonFile, 'w') as fp:\n",
    "#     json.dump(labelsData, fp, indent=4)"
   ]
  },
  {
   "cell_type": "code",
   "execution_count": 9,
   "metadata": {},
   "outputs": [],
   "source": [
    "with open(outputJsonFile, 'r') as f:\n",
    "    labelsData = json.load(f)"
   ]
  },
  {
   "cell_type": "code",
   "execution_count": 10,
   "metadata": {},
   "outputs": [
    {
     "name": "stderr",
     "output_type": "stream",
     "text": [
      "0it [00:00, ?it/s]\n"
     ]
    }
   ],
   "source": [
    "j = Jaccard(2)\n",
    "cutoff = 0.5\n",
    "maxSimilarCandidates = 100\n",
    "for test in tqdm([d for d in labelsData if not 'candidates' in d]):\n",
    "    test['candidates'] = []\n",
    "    testLabel = test['label']\n",
    "    for candidate in labelsData:\n",
    "        if candidate != test:\n",
    "            similarity = j.similarity(testLabel, candidate['label'])\n",
    "            if similarity > cutoff:\n",
    "                test['candidates'].append({\n",
    "                    'subject': candidate['subject'],\n",
    "                    'label': candidate['label'],\n",
    "                    'similarity': similarity\n",
    "                })\n",
    "        if len(test['candidates']) > maxSimilarCandidates:\n",
    "            continue\n",
    "    with open('similarityResult.json', 'w') as fp:\n",
    "        json.dump(labelsData, fp, indent=4)"
   ]
  },
  {
   "cell_type": "code",
   "execution_count": 11,
   "metadata": {},
   "outputs": [],
   "source": [
    "# import json\n",
    "# with open(outputJsonFile, 'w') as fp:\n",
    "#     json.dump(labelsData, fp, indent=4)"
   ]
  },
  {
   "cell_type": "code",
   "execution_count": 12,
   "metadata": {},
   "outputs": [],
   "source": [
    "namespaces = \"\"\"\n",
    "@prefix crm: <http://www.cidoc-crm.org/cidoc-crm/>.\n",
    "@prefix rdf: <http://www.w3.org/1999/02/22-rdf-syntax-ns#>.\n",
    "@prefix rdfs: <http://www.w3.org/2000/01/rdf-schema#>.\n",
    "@prefix xsd: <http://www.w3.org/2001/XMLSchema#>.\n",
    "\"\"\"\n"
   ]
  },
  {
   "cell_type": "code",
   "execution_count": 13,
   "metadata": {},
   "outputs": [
    {
     "name": "stderr",
     "output_type": "stream",
     "text": [
      "100%|██████████| 28836/28836 [00:21<00:00, 1358.98it/s]\n"
     ]
    }
   ],
   "source": [
    "dateTime = datetime.datetime.now()\n",
    "\n",
    "technique = 'https://github.com/swiss-art-research-net/bso-data-pipeline/blob/main/experiments/title-similarities.ipynb'\n",
    "\n",
    "classificationTemplate = Template(\"\"\"\n",
    "<$classification> a crm:E13_Attribute_Assignment .\n",
    "<$classification> crm:P140_assigned_attribute_to <$subject/title> .\n",
    "<$classification> crm:P141_assigned <$objectUri/title> .\n",
    "<$classification> crm:P177_assigned_property_of_type crm:P130_shows_features_of .\n",
    "<$classification> crm:P4_has_time-span <$classification/date> .\n",
    "<$classification> crm:P33_used_specific_technique <$technique> .\n",
    "<$classification> rdf:value \"$confidence\"^^xsd:float .\n",
    "<$classification/date> a crm:E52_Time-Span .\n",
    "<$classification/date> crm:P82_at_some_time_within \"$dateTime\"^^xsd:dateTime .\n",
    "\"\"\")\n",
    "\n",
    "\n",
    "with open(outputTtlFile, 'w') as f:\n",
    "    f.write(namespaces)\n",
    "    \n",
    "\n",
    "with open(outputTtlFile, 'a') as f:  \n",
    "    for row in tqdm(labelsData):\n",
    "        for candidate in row['candidates']:\n",
    "            classificationUri = 'https://resource.swissartresearch.net/classification/' + str(uuid.uuid4())\n",
    "            subjectUri = row['subject']\n",
    "            objectUri = candidate['subject']\n",
    "            f.write(classificationTemplate.substitute(graph=outputGraph, \n",
    "                                          classification=classificationUri, \n",
    "                                          subject=subjectUri, \n",
    "                                          objectUri=objectUri,\n",
    "                                          technique=technique,\n",
    "                                          confidence=candidate['similarity'],\n",
    "                                          dateTime=dateTime.strftime(\"%Y-%m-%dT%H:%M:%S\")))"
   ]
  },
  {
   "cell_type": "code",
   "execution_count": null,
   "metadata": {},
   "outputs": [],
   "source": []
  }
 ],
 "metadata": {
  "kernelspec": {
   "display_name": "Python 3",
   "language": "python",
   "name": "python3"
  },
  "language_info": {
   "codemirror_mode": {
    "name": "ipython",
    "version": 3
   },
   "file_extension": ".py",
   "mimetype": "text/x-python",
   "name": "python",
   "nbconvert_exporter": "python",
   "pygments_lexer": "ipython3",
   "version": "3.7.3"
  }
 },
 "nbformat": 4,
 "nbformat_minor": 2
}
