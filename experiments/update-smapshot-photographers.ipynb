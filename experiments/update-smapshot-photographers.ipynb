{
 "cells": [
  {
   "cell_type": "code",
   "execution_count": 1,
   "metadata": {
    "collapsed": true
   },
   "outputs": [
    {
     "name": "stdout",
     "output_type": "stream",
     "text": [
      "Requirement already satisfied: python-dotenv in /Users/fkraeutli/anaconda3/lib/python3.7/site-packages (0.19.2)\r\n"
     ]
    }
   ],
   "source": [
    "import sys\n",
    "sys.path.append('../services/smapshotapi/src/lib/')\n",
    "!{sys.executable} -m pip install python-dotenv"
   ]
  },
  {
   "cell_type": "code",
   "execution_count": 2,
   "metadata": {},
   "outputs": [],
   "source": [
    "from SPARQLWrapper import SPARQLWrapper, JSON\n",
    "from SmapshotConnector import SmapshotConnector\n",
    "from tqdm import tqdm\n",
    "import os\n",
    "from dotenv import load_dotenv"
   ]
  },
  {
   "cell_type": "code",
   "execution_count": 3,
   "metadata": {},
   "outputs": [
    {
     "data": {
      "text/plain": [
       "True"
      ]
     },
     "execution_count": 3,
     "metadata": {},
     "output_type": "execute_result"
    }
   ],
   "source": [
    "load_dotenv()"
   ]
  },
  {
   "cell_type": "code",
   "execution_count": 13,
   "metadata": {},
   "outputs": [],
   "source": [
    "smapshotToken = os.getenv('SMAPSHOT_TOKEN')"
   ]
  },
  {
   "cell_type": "code",
   "execution_count": 14,
   "metadata": {},
   "outputs": [],
   "source": [
    "def sparqlResultToDict(results):\n",
    "    rows = []\n",
    "    for result in results[\"results\"][\"bindings\"]:\n",
    "        row = {}\n",
    "        for key in results[\"head\"][\"vars\"]:\n",
    "            if key in result:\n",
    "                row[key] = result[key][\"value\"]\n",
    "            else:\n",
    "                row[key] = None\n",
    "        rows.append(row)\n",
    "    return rows"
   ]
  },
  {
   "cell_type": "code",
   "execution_count": 15,
   "metadata": {},
   "outputs": [],
   "source": [
    "smapshot = SmapshotConnector(url=\"https://smapshot.heig-vd.ch/api/v1\", token=smapshotToken)"
   ]
  },
  {
   "cell_type": "markdown",
   "metadata": {},
   "source": [
    "Retrieve photographers from sMapshot"
   ]
  },
  {
   "cell_type": "code",
   "execution_count": 16,
   "metadata": {},
   "outputs": [],
   "source": [
    "existingPhotographers = smapshot.listPhotographers({\"company\": \"SARI\"})"
   ]
  },
  {
   "cell_type": "markdown",
   "metadata": {},
   "source": [
    "Retrieve relevant persons from BSO"
   ]
  },
  {
   "cell_type": "code",
   "execution_count": 17,
   "metadata": {},
   "outputs": [],
   "source": [
    "sparql = SPARQLWrapper(\"http://localhost:8887/blazegraph/sparql\")\n",
    "sparql.setReturnFormat(JSON)"
   ]
  },
  {
   "cell_type": "code",
   "execution_count": 18,
   "metadata": {},
   "outputs": [],
   "source": [
    "dataQuery = \"\"\"PREFIX rdfs: <http://www.w3.org/2000/01/rdf-schema#>\n",
    "PREFIX crmdig: <http://www.ics.forth.gr/isl/CRMdig/>\n",
    "PREFIX search: <https://platform.swissartresearch.net/search/>\n",
    "PREFIX crm: <http://www.cidoc-crm.org/cidoc-crm/>\n",
    "SELECT DISTINCT ?person (?person_label as ?lastname) ?firstname WHERE {\n",
    "    ?s a search:Object ;\n",
    "       crm:P128_carries/crm:P94i_was_created_by/crm:P9_consists_of ?subcreation .\n",
    "    ?classifier crm:P140_assigned_attribute_to ?s ;\n",
    "      crm:P141_assigned <https://resource.swissartresearch.net/type/classification/landscape> ;\n",
    "      crm:P33_used_specific_technique <https://github.com/swiss-art-research-net/bso-image-classification/blob/583c8891df9739723f81dfc1ac127b06e411ec34/models/model.pkl> .\n",
    "    ?subcreation a crm:E65_Creation ;\n",
    "      crm:P14_carried_out_by ?person .\n",
    "    {\n",
    "      SELECT ?person (SAMPLE(?person_label) as ?person_label) WHERE {\n",
    "        ?person rdfs:label ?person_label .\n",
    "      } GROUP BY ?person\n",
    "    }\n",
    "}\n",
    "\"\"\""
   ]
  },
  {
   "cell_type": "code",
   "execution_count": 19,
   "metadata": {},
   "outputs": [],
   "source": [
    "sparql.setQuery(dataQuery)\n",
    "persons = sparqlResultToDict(sparql.queryAndConvert())"
   ]
  },
  {
   "cell_type": "markdown",
   "metadata": {},
   "source": [
    "Determine persons not yet on sMapshot"
   ]
  },
  {
   "cell_type": "code",
   "execution_count": 20,
   "metadata": {},
   "outputs": [],
   "source": [
    "photographerHash = {}\n",
    "for photographer in existingPhotographers:\n",
    "    photographerHash[photographer['link']] = photographer"
   ]
  },
  {
   "cell_type": "code",
   "execution_count": 21,
   "metadata": {},
   "outputs": [],
   "source": [
    "for person in persons:\n",
    "    if person['person'] in photographerHash:\n",
    "        person['smapshotID'] = photographerHash[person['person']]['id']\n",
    "    else:\n",
    "        person['smapshotID'] = False"
   ]
  },
  {
   "cell_type": "code",
   "execution_count": 22,
   "metadata": {},
   "outputs": [
    {
     "data": {
      "text/plain": [
       "260"
      ]
     },
     "execution_count": 22,
     "metadata": {},
     "output_type": "execute_result"
    }
   ],
   "source": [
    "personsNotInSmapshot = [d for d in persons if d['smapshotID'] == False]\n",
    "len(personsNotInSmapshot)"
   ]
  },
  {
   "cell_type": "markdown",
   "metadata": {},
   "source": [
    "Submit missing persons to sMapshot"
   ]
  },
  {
   "cell_type": "code",
   "execution_count": 23,
   "metadata": {},
   "outputs": [
    {
     "name": "stderr",
     "output_type": "stream",
     "text": [
      "100%|██████████| 260/260 [00:34<00:00,  7.63it/s]\n"
     ]
    }
   ],
   "source": [
    "for person in tqdm(personsNotInSmapshot):\n",
    "    response = smapshot.addPhotographer(lastname=person['lastname'],\n",
    "                            link=person['person'])\n",
    "    person['smapshotID'] = response['id']"
   ]
  },
  {
   "cell_type": "markdown",
   "metadata": {},
   "source": [
    "Retrieve photographers again (which now should include the new ones)"
   ]
  },
  {
   "cell_type": "code",
   "execution_count": 24,
   "metadata": {},
   "outputs": [],
   "source": [
    "existingPhotographers = smapshot.listPhotographers()"
   ]
  },
  {
   "cell_type": "code",
   "execution_count": 25,
   "metadata": {},
   "outputs": [],
   "source": [
    "photographerHash = {}\n",
    "for photographer in existingPhotographers:\n",
    "    photographerHash[photographer['link']] = photographer"
   ]
  },
  {
   "cell_type": "markdown",
   "metadata": {},
   "source": [
    "Retrieve relevant images and persons from BSO"
   ]
  },
  {
   "cell_type": "code",
   "execution_count": 26,
   "metadata": {},
   "outputs": [],
   "source": [
    "imagesQuery = \"\"\"PREFIX rdfs: <http://www.w3.org/2000/01/rdf-schema#>\n",
    "PREFIX crmdig: <http://www.ics.forth.gr/isl/CRMdig/>\n",
    "PREFIX search: <https://platform.swissartresearch.net/search/>\n",
    "PREFIX crm: <http://www.cidoc-crm.org/cidoc-crm/>\n",
    "SELECT DISTINCT ?s (GROUP_CONCAT(DISTINCT ?person;SEPARATOR=\";\") as ?persons) WHERE {\n",
    "    ?s a search:Object ;\n",
    "       crm:P128_carries/crm:P94i_was_created_by/crm:P9_consists_of ?subcreation .\n",
    "    ?classifier crm:P140_assigned_attribute_to ?s ;\n",
    "      crm:P141_assigned <https://resource.swissartresearch.net/type/classification/landscape> ;\n",
    "      crm:P33_used_specific_technique <https://github.com/swiss-art-research-net/bso-image-classification/blob/583c8891df9739723f81dfc1ac127b06e411ec34/models/model.pkl> .\n",
    "    ?subcreation a crm:E65_Creation ;\n",
    "      crm:P14_carried_out_by ?person .\n",
    "    {\n",
    "      SELECT ?person (SAMPLE(?person_label) as ?person_label) WHERE {\n",
    "        ?person rdfs:label ?person_label .\n",
    "      } GROUP BY ?person\n",
    "    }\n",
    "} GROUP BY ?s\n",
    "\"\"\""
   ]
  },
  {
   "cell_type": "code",
   "execution_count": 27,
   "metadata": {},
   "outputs": [],
   "source": [
    "sparql.setQuery(imagesQuery)\n",
    "images = sparqlResultToDict(sparql.queryAndConvert())"
   ]
  },
  {
   "cell_type": "markdown",
   "metadata": {},
   "source": [
    "Add smapshot photographers to image entries"
   ]
  },
  {
   "cell_type": "code",
   "execution_count": 28,
   "metadata": {},
   "outputs": [],
   "source": [
    "imagesHash = {}\n",
    "for image in images:\n",
    "    imagesHash[image['s']] = image\n",
    "    image['smapshotPhotographers'] = []\n",
    "    imagePersons = image['persons'].split(\";\")\n",
    "    for imagePerson in imagePersons:\n",
    "        if imagePerson not in photographerHash:\n",
    "            print(\"not found\", imagePerson)\n",
    "        else:\n",
    "            image['smapshotPhotographers'].append(photographerHash[imagePerson])"
   ]
  },
  {
   "cell_type": "markdown",
   "metadata": {},
   "source": [
    "Retrieve all images from sMapshot"
   ]
  },
  {
   "cell_type": "code",
   "execution_count": 29,
   "metadata": {},
   "outputs": [],
   "source": [
    "smapshotImages = smapshot.listImages()"
   ]
  },
  {
   "cell_type": "code",
   "execution_count": 30,
   "metadata": {},
   "outputs": [
    {
     "name": "stdout",
     "output_type": "stream",
     "text": [
      "Retrieved 1273 images\n"
     ]
    }
   ],
   "source": [
    "print(\"Retrieved %d images\" % len(smapshotImages))"
   ]
  },
  {
   "cell_type": "markdown",
   "metadata": {},
   "source": [
    "Update images with photographer IDs"
   ]
  },
  {
   "cell_type": "code",
   "execution_count": null,
   "metadata": {},
   "outputs": [
    {
     "name": "stderr",
     "output_type": "stream",
     "text": [
      " 42%|████▏     | 538/1273 [01:25<01:48,  6.79it/s]"
     ]
    }
   ],
   "source": [
    "for smapshotImage in tqdm(smapshotImages):\n",
    "    uri = 'https://resource.swissartresearch.net/artwork/' + smapshotImage['original_id']\n",
    "    imageID = smapshotImage['id']\n",
    "    try:\n",
    "        photographerIDs = [int(d['id']) for d in imagesHash[uri]['smapshotPhotographers']]\n",
    "    except:\n",
    "        continue\n",
    "    smapshot.setImagePhotographerIDs(imageID, photographerIDs)"
   ]
  },
  {
   "cell_type": "code",
   "execution_count": null,
   "metadata": {},
   "outputs": [],
   "source": []
  }
 ],
 "metadata": {
  "kernelspec": {
   "display_name": "Python 3",
   "language": "python",
   "name": "python3"
  },
  "language_info": {
   "codemirror_mode": {
    "name": "ipython",
    "version": 3
   },
   "file_extension": ".py",
   "mimetype": "text/x-python",
   "name": "python",
   "nbconvert_exporter": "python",
   "pygments_lexer": "ipython3",
   "version": "3.7.3"
  }
 },
 "nbformat": 4,
 "nbformat_minor": 2
}
