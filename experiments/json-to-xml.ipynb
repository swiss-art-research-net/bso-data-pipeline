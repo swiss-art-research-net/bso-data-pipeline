{
 "cells": [
  {
   "cell_type": "code",
   "execution_count": 1,
   "metadata": {},
   "outputs": [
    {
     "ename": "ModuleNotFoundError",
     "evalue": "No module named 'sariDateParser'",
     "output_type": "error",
     "traceback": [
      "\u001b[0;31m---------------------------------------------------------------------------\u001b[0m",
      "\u001b[0;31mModuleNotFoundError\u001b[0m                       Traceback (most recent call last)",
      "\u001b[0;32m<ipython-input-1-d3d1c818f8e3>\u001b[0m in \u001b[0;36m<module>\u001b[0;34m()\u001b[0m\n\u001b[1;32m      1\u001b[0m \u001b[0;32mfrom\u001b[0m \u001b[0medtf\u001b[0m \u001b[0;32mimport\u001b[0m \u001b[0mparse_edtf\u001b[0m\u001b[0;34m\u001b[0m\u001b[0m\n\u001b[0;32m----> 2\u001b[0;31m \u001b[0;32mfrom\u001b[0m \u001b[0msariDateParser\u001b[0m\u001b[0;34m.\u001b[0m\u001b[0mdateParser\u001b[0m \u001b[0;32mimport\u001b[0m \u001b[0mparse\u001b[0m\u001b[0;34m\u001b[0m\u001b[0m\n\u001b[0m\u001b[1;32m      3\u001b[0m \u001b[0;32mfrom\u001b[0m \u001b[0mlxml\u001b[0m \u001b[0;32mimport\u001b[0m \u001b[0metree\u001b[0m\u001b[0;34m\u001b[0m\u001b[0m\n\u001b[1;32m      4\u001b[0m \u001b[0;32mimport\u001b[0m \u001b[0mjson\u001b[0m\u001b[0;34m\u001b[0m\u001b[0m\n\u001b[1;32m      5\u001b[0m \u001b[0;32mimport\u001b[0m \u001b[0mos\u001b[0m\u001b[0;34m\u001b[0m\u001b[0m\n",
      "\u001b[0;31mModuleNotFoundError\u001b[0m: No module named 'sariDateParser'"
     ]
    }
   ],
   "source": [
    "from edtf import parse_edtf\n",
    "from sariDateParser.dateParser import parse\n",
    "from lxml import etree\n",
    "import json\n",
    "import os\n",
    "import requests\n",
    "import urllib\n",
    "import time"
   ]
  },
  {
   "cell_type": "code",
   "execution_count": 2,
   "metadata": {
    "collapsed": true
   },
   "outputs": [],
   "source": [
    "inputFile = \"../input/sari_abzug-utf-8_23_04-tsv-partial.json\"\n",
    "manifestDirectory = \"../manifests/\"\n",
    "outputDirectory = \"../input/\"\n",
    "outputPrefix = \"sari-\""
   ]
  },
  {
   "cell_type": "code",
   "execution_count": null,
   "metadata": {
    "collapsed": true
   },
   "outputs": [],
   "source": [
    "fieldsContainingDates = ['100$d', '260$c', '260$g', '264$c', '533$d', '600$d', '611$d', '700$d']"
   ]
  },
  {
   "cell_type": "code",
   "execution_count": null,
   "metadata": {
    "collapsed": true
   },
   "outputs": [],
   "source": [
    "def convertEDTFdate(date):\n",
    "    try:\n",
    "        d = parse_edtf(downgradeEDTF(date))\n",
    "    except:\n",
    "        raise ValueError('Invalid date', date)\n",
    "    \n",
    "    if 'Interval' in str(type(d)):\n",
    "        if type(d.lower) is list:\n",
    "            lower = d.lower[0].lower_strict()\n",
    "        else:\n",
    "            lower = d.lower.lower_strict()\n",
    "        if type(d.upper) is list:\n",
    "            upper = d.upper[0].upper_strict()\n",
    "        else:\n",
    "            upper = d.upper.upper_strict()\n",
    "    else:\n",
    "        if type(d) is list:\n",
    "            lower = d[0].lower_strict()\n",
    "            upper = d[0].upper_strict()\n",
    "        else:\n",
    "            lower = d.lower_strict()\n",
    "            upper = d.upper_strict()\n",
    "    return {\n",
    "        'lower': time.strftime(\"%Y-%m-%d\", lower),\n",
    "        'upper': time.strftime(\"%Y-%m-%d\", upper)\n",
    "    }\n"
   ]
  },
  {
   "cell_type": "code",
   "execution_count": 3,
   "metadata": {
    "collapsed": true
   },
   "outputs": [],
   "source": [
    "def convertRowToXml(row, keys):\n",
    "    record = etree.Element(\"record\")\n",
    "    etree.SubElement(record, \"uuid\").text = row['UUID']\n",
    "    datafield = False\n",
    "    for key in keys:\n",
    "        if key in row and row[key] is not None:\n",
    "            if '$' in key:\n",
    "                code = key[4:]\n",
    "                subfield = etree.SubElement(datafield, \"subfield\", code=code)\n",
    "                subfield.text = str(row[key])\n",
    "                # Check if field contains a date\n",
    "                if key in fieldsContainingDates:\n",
    "                    parsedDate = parse(row[key])\n",
    "                    if parsedDate:\n",
    "                        subfield.set(\"parsedDate\", parsedDate)\n",
    "                        daterange = convertEDTFdate(parsedDate)\n",
    "                        subfield.set(\"upperDate\", daterange['upper'])\n",
    "                        subfield.set(\"lowerDate\", daterange['lower'])\n",
    "                # Remove non-separated field content\n",
    "                datafield.text = None\n",
    "            else:\n",
    "                datafield = etree.SubElement(record, \"datafield\", tag=key)\n",
    "                datafield.text = str(row[key])\n",
    "    return record"
   ]
  },
  {
   "cell_type": "code",
   "execution_count": null,
   "metadata": {
    "collapsed": true
   },
   "outputs": [],
   "source": [
    "def downgradeEDTF(date):\n",
    "    \"\"\"\n",
    "    Convert a edtf date string to the previous version supported by the python edtf package\n",
    "    \"\"\"\n",
    "    edtfDate = date.replace('X','u')\n",
    "    if edtfDate[-1:] == '/':\n",
    "        edtfDate += 'uuuu-uu'\n",
    "    if edtfDate[0] == '/':\n",
    "        edtfDate = 'uuuu-uu' + edtfDate\n",
    "    return edtfDate"
   ]
  },
  {
   "cell_type": "code",
   "execution_count": 8,
   "metadata": {
    "collapsed": true
   },
   "outputs": [],
   "source": [
    "def getImagesFromCachedManifest(manifest):\n",
    "    manifestFilePath = manifestDirectory + urllib.parse.quote(manifest, safe='') + '.json'\n",
    "    if os.path.isfile(manifestFilePath):\n",
    "        with open(manifestFilePath, 'r') as f:\n",
    "            content = json.load(f)\n",
    "            if 'sequences' in content and len(content['sequences']) > 0:\n",
    "                canvases = [d for d in content['sequences'][0]['canvases']]\n",
    "                images = [{\n",
    "                    'image': c['images'][0]['resource']['service']['@id'],\n",
    "                    'width': c['width'],\n",
    "                    'height': c['height']\n",
    "                } for c in canvases]\n",
    "                return images\n",
    "            else:\n",
    "                print(\"No sequences found in manifest %s\" % manifest)\n",
    "    else:\n",
    "        print(\"Manifest %s has not been cached\" % manifest)\n"
   ]
  },
  {
   "cell_type": "code",
   "execution_count": 9,
   "metadata": {
    "collapsed": true
   },
   "outputs": [],
   "source": [
    "def imageListToXml(images):\n",
    "    imagesNode = etree.Element(\"images\")\n",
    "    for image in images:\n",
    "        imageNode = etree.SubElement(imagesNode, \"image\")\n",
    "        etree.SubElement(imageNode, \"height\").text = str(image['height'])\n",
    "        etree.SubElement(imageNode, \"width\").text = str(image['width'])\n",
    "        etree.SubElement(imageNode, \"url\", type=\"iiif\").text = image['image']\n",
    "    return imagesNode"
   ]
  },
  {
   "cell_type": "code",
   "execution_count": 4,
   "metadata": {
    "collapsed": true
   },
   "outputs": [],
   "source": [
    "with open(inputFile, 'r') as f:\n",
    "    rawData = json.load(f)"
   ]
  },
  {
   "cell_type": "code",
   "execution_count": 5,
   "metadata": {
    "collapsed": true
   },
   "outputs": [],
   "source": [
    "keys = list(rawData['rows'][0].keys())\n",
    "keys.sort()"
   ]
  },
  {
   "cell_type": "code",
   "execution_count": 10,
   "metadata": {
    "collapsed": true
   },
   "outputs": [],
   "source": [
    "# Output individual files\n",
    "for i, row in enumerate(rawData['rows']):\n",
    "    \n",
    "    records = etree.Element(\"records\")\n",
    "    record = convertRowToXml(row, keys)\n",
    "    \n",
    "    if row['manifest']:\n",
    "        images = getImagesFromCachedManifest(row['manifest'])\n",
    "        if images:\n",
    "            record.append(imageListToXml(images))\n",
    "        else:\n",
    "            #print(\"Aborting due to missing manuscript\")\n",
    "            print(\"%d out of %d converted\" % (i, len(rawData['rows'])))\n",
    "            #exit()\n",
    "    \n",
    "    records.append(record)\n",
    "    \n",
    "    outputFile = outputDirectory + outputPrefix + row['UUID'] + \".xml\"\n",
    "    with open(outputFile, 'wb') as f:\n",
    "        f.write(etree.tostring(records, xml_declaration=True, encoding='UTF-8', pretty_print=True))"
   ]
  },
  {
   "cell_type": "code",
   "execution_count": null,
   "metadata": {
    "collapsed": true
   },
   "outputs": [],
   "source": []
  }
 ],
 "metadata": {
  "kernelspec": {
   "display_name": "Python 3",
   "language": "python",
   "name": "python3"
  },
  "language_info": {
   "codemirror_mode": {
    "name": "ipython",
    "version": 3
   },
   "file_extension": ".py",
   "mimetype": "text/x-python",
   "name": "python",
   "nbconvert_exporter": "python",
   "pygments_lexer": "ipython3",
   "version": "3.6.3"
  }
 },
 "nbformat": 4,
 "nbformat_minor": 2
}
