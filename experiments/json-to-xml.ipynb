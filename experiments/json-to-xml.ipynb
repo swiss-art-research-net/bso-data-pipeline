{
 "cells": [
  {
   "cell_type": "code",
   "execution_count": 1,
   "metadata": {},
   "outputs": [
    {
     "name": "stdout",
     "output_type": "stream",
     "text": [
      "Requirement already up-to-date: date-parser-sari in /Users/fkraeutli/anaconda/lib/python3.6/site-packages (0.8.11)\n",
      "\u001b[33mWARNING: You are using pip version 20.1.1; however, version 20.2.4 is available.\n",
      "You should consider upgrading via the '/Users/fkraeutli/anaconda/bin/python -m pip install --upgrade pip' command.\u001b[0m\n"
     ]
    }
   ],
   "source": [
    "import sys\n",
    "!{sys.executable} -m pip install date-parser-sari --upgrade"
   ]
  },
  {
   "cell_type": "code",
   "execution_count": 2,
   "metadata": {
    "collapsed": true
   },
   "outputs": [],
   "source": [
    "from edtf import parse_edtf\n",
    "from sariDateParser.dateParser import parse\n",
    "from lxml import etree\n",
    "import json\n",
    "import os\n",
    "import requests\n",
    "import urllib\n",
    "import time"
   ]
  },
  {
   "cell_type": "code",
   "execution_count": 3,
   "metadata": {
    "collapsed": true
   },
   "outputs": [],
   "source": [
    "inputFile = \"../input/sari_abzug-utf-8_23_04-tsv-partial.json\"\n",
    "externalFieldsDirectory = \"../input/\"\n",
    "manifestDirectory = \"../manifests/\"\n",
    "outputDirectory = \"../input/\"\n",
    "outputPrefix = \"sari-\""
   ]
  },
  {
   "cell_type": "code",
   "execution_count": 4,
   "metadata": {
    "collapsed": true
   },
   "outputs": [],
   "source": [
    "fieldsContainingDates = ['100$d', '260$c', '260$g', '264$c', '533$d', '600$d', '611$d', '700$d']"
   ]
  },
  {
   "cell_type": "code",
   "execution_count": 5,
   "metadata": {
    "collapsed": true
   },
   "outputs": [],
   "source": [
    "externalFields = ['100','651']"
   ]
  },
  {
   "cell_type": "code",
   "execution_count": 6,
   "metadata": {
    "collapsed": true
   },
   "outputs": [],
   "source": [
    "def convertEDTFdate(date):\n",
    "    try:\n",
    "        d = parse_edtf(downgradeEDTF(date))\n",
    "    except:\n",
    "        raise ValueError('Invalid date', date)\n",
    "    \n",
    "    if 'Interval' in str(type(d)):\n",
    "        if type(d.lower) is list:\n",
    "            lower = d.lower[0].lower_strict()\n",
    "        else:\n",
    "            lower = d.lower.lower_strict()\n",
    "        if type(d.upper) is list:\n",
    "            upper = d.upper[0].upper_strict()\n",
    "        else:\n",
    "            upper = d.upper.upper_strict()\n",
    "    else:\n",
    "        if type(d) is list:\n",
    "            lower = d[0].lower_strict()\n",
    "            upper = d[0].upper_strict()\n",
    "        else:\n",
    "            lower = d.lower_strict()\n",
    "            upper = d.upper_strict()\n",
    "    return {\n",
    "        'lower': time.strftime(\"%Y-%m-%d\", lower),\n",
    "        'upper': time.strftime(\"%Y-%m-%d\", upper)\n",
    "    }"
   ]
  },
  {
   "cell_type": "code",
   "execution_count": 7,
   "metadata": {
    "collapsed": true
   },
   "outputs": [],
   "source": [
    "def downgradeEDTF(date):\n",
    "    \"\"\"\n",
    "    Convert a edtf date string to the previous version supported by the python edtf package\n",
    "    \"\"\"\n",
    "    edtfDate = date.replace('X','u')\n",
    "    if edtfDate[-1:] == '/':\n",
    "        edtfDate += 'uuuu-uu'\n",
    "    if edtfDate[0] == '/':\n",
    "        edtfDate = 'uuuu-uu' + edtfDate\n",
    "    return edtfDate"
   ]
  },
  {
   "cell_type": "code",
   "execution_count": 8,
   "metadata": {
    "collapsed": true
   },
   "outputs": [],
   "source": [
    "def getImagesFromCachedManifest(manifest):\n",
    "    manifestFilePath = manifestDirectory + urllib.parse.quote(manifest, safe='') + '.json'\n",
    "    if os.path.isfile(manifestFilePath):\n",
    "        with open(manifestFilePath, 'r') as f:\n",
    "            content = json.load(f)\n",
    "            if 'sequences' in content and len(content['sequences']) > 0:\n",
    "                canvases = [d for d in content['sequences'][0]['canvases']]\n",
    "                images = [{\n",
    "                    'image': c['images'][0]['resource']['service']['@id'],\n",
    "                    'width': c['width'],\n",
    "                    'height': c['height']\n",
    "                } for c in canvases]\n",
    "                return images\n",
    "            else:\n",
    "                print(\"No sequences found in manifest %s\" % manifest)\n",
    "    else:\n",
    "        print(\"Manifest %s has not been cached\" % manifest)\n"
   ]
  },
  {
   "cell_type": "code",
   "execution_count": 9,
   "metadata": {
    "collapsed": true
   },
   "outputs": [],
   "source": [
    "def imageListToXml(images):\n",
    "    imagesNode = etree.Element(\"images\")\n",
    "    for image in images:\n",
    "        imageNode = etree.SubElement(imagesNode, \"image\")\n",
    "        etree.SubElement(imageNode, \"height\").text = str(image['height'])\n",
    "        etree.SubElement(imageNode, \"width\").text = str(image['width'])\n",
    "        etree.SubElement(imageNode, \"url\", type=\"iiif\").text = image['image']\n",
    "    return imagesNode"
   ]
  },
  {
   "cell_type": "code",
   "execution_count": 10,
   "metadata": {
    "collapsed": true
   },
   "outputs": [],
   "source": [
    "def convertRowToXml(row, keys, externalFields):\n",
    "    record = etree.Element(\"record\")\n",
    "    etree.SubElement(record, \"uuid\").text = row['id']\n",
    "    datafield = False\n",
    "    for key in keys:\n",
    "        # Check if key is a field that gets loaded externally (check only part before $ if present)\n",
    "        if key.split('$')[0] in externalFields.keys():\n",
    "            # Ignore the subfields as they will be loaded from the external fields\n",
    "            if not '$' in key:\n",
    "                # Select the field values based on the UUIDs\n",
    "                fieldsToInclude = [d for d in externalFields[key] if d['UUID'] == row['id']]\n",
    "                for f in fieldsToInclude:\n",
    "                    # Create a datafield for each set of values\n",
    "                    datafield = etree.SubElement(record, \"datafield\", tag=key)\n",
    "                    for k in [d for d in f.keys()]:\n",
    "                        if key in k:\n",
    "                            code = k.split('_')[1].replace(' ','_')\n",
    "                        else:\n",
    "                            code = k.replace(' ','_')\n",
    "                        if f[k]:\n",
    "                            subfield = etree.SubElement(datafield, \"subfield\", code=code)\n",
    "                            subfield.text = str(f[k])\n",
    "                        # Check if field contains a date\n",
    "                        if k.replace(\"_\",\"$\") in fieldsContainingDates:\n",
    "                            parsedDate = parse(f[k])\n",
    "                            if parsedDate:\n",
    "                                subfield.set(\"parsedDate\", parsedDate)\n",
    "                                daterange = convertEDTFdate(parsedDate)\n",
    "                                subfield.set(\"upperDate\", daterange['upper'])\n",
    "                                subfield.set(\"lowerDate\", daterange['lower'])\n",
    "        else:\n",
    "            if key in row and row[key] is not None:\n",
    "                if '$' in key:\n",
    "                    code = key[4:]\n",
    "                    subfield = etree.SubElement(datafield, \"subfield\", code=code)\n",
    "                    subfield.text = str(row[key])\n",
    "                    # Check if field contains a date\n",
    "                    if key in fieldsContainingDates:\n",
    "                        parsedDate = parse(row[key])\n",
    "                        if parsedDate:\n",
    "                            subfield.set(\"parsedDate\", parsedDate)\n",
    "                            daterange = convertEDTFdate(parsedDate)\n",
    "                            subfield.set(\"upperDate\", daterange['upper'])\n",
    "                            subfield.set(\"lowerDate\", daterange['lower'])\n",
    "                    # Remove non-separated field content\n",
    "                    datafield.text = None\n",
    "                else:\n",
    "                    datafield = etree.SubElement(record, \"datafield\", tag=key)\n",
    "                    datafield.text = str(row[key])\n",
    "    return record"
   ]
  },
  {
   "cell_type": "code",
   "execution_count": 11,
   "metadata": {
    "collapsed": true
   },
   "outputs": [],
   "source": [
    "with open(inputFile, 'r') as f:\n",
    "    rawData = json.load(f)"
   ]
  },
  {
   "cell_type": "code",
   "execution_count": 12,
   "metadata": {
    "collapsed": true
   },
   "outputs": [],
   "source": [
    "externalFieldContent = {}\n",
    "for externalField in externalFields:\n",
    "    filePath = externalFieldsDirectory + externalField + '.json'\n",
    "    with open(filePath, 'r') as f:\n",
    "         externalFieldContent[externalField] = json.load(f)['rows']"
   ]
  },
  {
   "cell_type": "code",
   "execution_count": 13,
   "metadata": {
    "collapsed": true
   },
   "outputs": [],
   "source": [
    "keys = list(rawData['rows'][0].keys())\n",
    "keys.sort()"
   ]
  },
  {
   "cell_type": "code",
   "execution_count": 14,
   "metadata": {
    "collapsed": true
   },
   "outputs": [],
   "source": [
    "# Output individual files\n",
    "for i, row in enumerate(rawData['rows']):\n",
    "    \n",
    "    records = etree.Element(\"records\")\n",
    "    record = convertRowToXml(row, keys, externalFieldContent)\n",
    "    \n",
    "    if row['manifest']:\n",
    "        images = getImagesFromCachedManifest(row['manifest'])\n",
    "        if images:\n",
    "            record.append(imageListToXml(images))\n",
    "        else:\n",
    "            #print(\"Aborting due to missing manuscript\")\n",
    "            print(\"%d out of %d converted\" % (i, len(rawData['rows'])))\n",
    "            #exit()\n",
    "    \n",
    "    records.append(record)\n",
    "    \n",
    "    outputFile = outputDirectory + outputPrefix + row['id'] + \".xml\"\n",
    "    with open(outputFile, 'wb') as f:\n",
    "        f.write(etree.tostring(records, xml_declaration=True, encoding='UTF-8', pretty_print=True))"
   ]
  },
  {
   "cell_type": "code",
   "execution_count": null,
   "metadata": {
    "collapsed": true
   },
   "outputs": [],
   "source": []
  },
  {
   "cell_type": "code",
   "execution_count": null,
   "metadata": {
    "collapsed": true
   },
   "outputs": [],
   "source": []
  }
 ],
 "metadata": {
  "kernelspec": {
   "display_name": "Python 3",
   "language": "python",
   "name": "python3"
  },
  "language_info": {
   "codemirror_mode": {
    "name": "ipython",
    "version": 3
   },
   "file_extension": ".py",
   "mimetype": "text/x-python",
   "name": "python",
   "nbconvert_exporter": "python",
   "pygments_lexer": "ipython3",
   "version": "3.6.3"
  }
 },
 "nbformat": 4,
 "nbformat_minor": 2
}
