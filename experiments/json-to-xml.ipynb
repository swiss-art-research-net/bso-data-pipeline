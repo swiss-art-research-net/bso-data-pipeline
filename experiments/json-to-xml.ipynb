{
 "cells": [
  {
   "cell_type": "code",
   "execution_count": null,
   "metadata": {
    "collapsed": true
   },
   "outputs": [],
   "source": [
    "from lxml import etree\n",
    "import json\n",
    "import os\n",
    "import requests\n",
    "import urllib"
   ]
  },
  {
   "cell_type": "code",
   "execution_count": 2,
   "metadata": {
    "collapsed": true
   },
   "outputs": [],
   "source": [
    "inputFile = \"../input/sari_abzug-utf-8_23_04-tsv.json\"\n",
    "manifestDirectory = \"../manifests/\"\n",
    "outputDirectory = \"../input/\"\n",
    "outputPrefix = \"sari-\""
   ]
  },
  {
   "cell_type": "code",
   "execution_count": 3,
   "metadata": {
    "collapsed": true
   },
   "outputs": [],
   "source": [
    "def convertRowToXml(row, keys):\n",
    "    record = etree.Element(\"record\")\n",
    "    etree.SubElement(record, \"uuid\").text = row['UUID']\n",
    "    datafield = False\n",
    "    for key in keys:\n",
    "        if key in row and row[key] is not None:\n",
    "            if '$' in key:\n",
    "                code = key[4:]\n",
    "                etree.SubElement(datafield, \"subfield\", code=code).text = str(row[key])\n",
    "                # Remove non-separated field content\n",
    "                datafield.text = None\n",
    "            else:\n",
    "                datafield = etree.SubElement(record, \"datafield\", tag=key)\n",
    "                datafield.text = str(row[key])\n",
    "    return record"
   ]
  },
  {
   "cell_type": "code",
   "execution_count": 8,
   "metadata": {},
   "outputs": [],
   "source": [
    "def getImagesFromCachedManifest(manifest):\n",
    "    manifestFilePath = manifestDirectory + urllib.parse.quote(manifest, safe='') + '.json'\n",
    "    if os.path.isfile(manifestFilePath):\n",
    "        with open(manifestFilePath, 'r') as f:\n",
    "            content = json.load(f)\n",
    "            canvases = [d for d in content['sequences'][0]['canvases']]\n",
    "            images = [{\n",
    "                'image': c['images'][0]['resource']['service']['@id'],\n",
    "                'width': c['width'],\n",
    "                'height': c['height']\n",
    "            } for c in canvases]\n",
    "            return images\n",
    "    else:\n",
    "        print(\"Manifest for %s has not been cached\" % row['UUID'])"
   ]
  },
  {
   "cell_type": "code",
   "execution_count": 9,
   "metadata": {},
   "outputs": [],
   "source": [
    "def imageListToXml(images):\n",
    "    imagesNode = etree.Element(\"images\")\n",
    "    for image in images:\n",
    "        imageNode = etree.SubElement(imagesNode, \"image\")\n",
    "        etree.SubElement(imageNode, \"height\").text = str(image['height'])\n",
    "        etree.SubElement(imageNode, \"width\").text = str(image['width'])\n",
    "        etree.SubElement(imageNode, \"url\", type=\"iiif\").text = image['image']\n",
    "    return imagesNode"
   ]
  },
  {
   "cell_type": "code",
   "execution_count": 4,
   "metadata": {
    "collapsed": true
   },
   "outputs": [],
   "source": [
    "with open(inputFile, 'r') as f:\n",
    "    rawData = json.load(f)"
   ]
  },
  {
   "cell_type": "code",
   "execution_count": 5,
   "metadata": {
    "collapsed": true
   },
   "outputs": [],
   "source": [
    "keys = list(rawData['rows'][0].keys())\n",
    "keys.sort()"
   ]
  },
  {
   "cell_type": "code",
   "execution_count": 10,
   "metadata": {
    "collapsed": true
   },
   "outputs": [],
   "source": [
    "# Output individual files\n",
    "for row in rawData['rows'][:10]:\n",
    "    \n",
    "    records = etree.Element(\"records\")\n",
    "    record = convertRowToXml(row, keys)\n",
    "    \n",
    "    images = getImagesFromCachedManifest(row['manifest'])\n",
    "    record.append(imageListToXml(images))\n",
    "    \n",
    "    records.append(record)\n",
    "    \n",
    "    outputFile = outputDirectory + outputPrefix + row['UUID'] + \".xml\"\n",
    "    with open(outputFile, 'wb') as f:\n",
    "        f.write(etree.tostring(records, pretty_print=True))"
   ]
  },
  {
   "cell_type": "code",
   "execution_count": null,
   "metadata": {
    "collapsed": true
   },
   "outputs": [],
   "source": []
  }
 ],
 "metadata": {
  "kernelspec": {
   "display_name": "Python 3",
   "language": "python",
   "name": "python3"
  },
  "language_info": {
   "codemirror_mode": {
    "name": "ipython",
    "version": 3
   },
   "file_extension": ".py",
   "mimetype": "text/x-python",
   "name": "python",
   "nbconvert_exporter": "python",
   "pygments_lexer": "ipython3",
   "version": "3.6.3"
  }
 },
 "nbformat": 4,
 "nbformat_minor": 2
}
