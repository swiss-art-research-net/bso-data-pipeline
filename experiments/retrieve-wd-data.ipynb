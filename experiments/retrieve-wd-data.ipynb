{
 "cells": [
  {
   "cell_type": "code",
   "execution_count": 1,
   "metadata": {
    "collapsed": true
   },
   "outputs": [],
   "source": [
    "import json\n",
    "import urllib.request\n",
    "import rdflib\n",
    "from os import listdir\n",
    "from SPARQLWrapper import SPARQLWrapper, N3"
   ]
  },
  {
   "cell_type": "code",
   "execution_count": 2,
   "metadata": {
    "collapsed": true
   },
   "outputs": [],
   "source": [
    "ttlFolder='../data/ttl/main/'\n",
    "ttlOutput='../data/ttl/additional/wd.ttl'\n",
    "batchSizeForRetrieval = 100\n",
    "wdEndpoint = \"https://query.wikidata.org/sparql\""
   ]
  },
  {
   "cell_type": "code",
   "execution_count": 3,
   "metadata": {
    "collapsed": true
   },
   "outputs": [],
   "source": [
    "inputFiles = []\n",
    "for file in listdir(ttlFolder):\n",
    "    if file.endswith('.ttl'):\n",
    "        inputFiles.append(file)"
   ]
  },
  {
   "cell_type": "code",
   "execution_count": 4,
   "metadata": {
    "collapsed": true
   },
   "outputs": [],
   "source": [
    "wdIdentifiers = []\n",
    "for file in inputFiles:\n",
    "    g = rdflib.Graph()\n",
    "    g.parse(ttlFolder + file, format='ttl')\n",
    "    queryResults = g.query(\n",
    "    \"\"\"SELECT DISTINCT ?wd WHERE {\n",
    "        ?s ?p ?wd .\n",
    "        FILTER(REGEX(STR(?wd),\"http://www.wikidata.org/entity/\"))\n",
    "    }\"\"\")\n",
    "    for row in queryResults:\n",
    "        wdIdentifiers.append(str(row[0]))\n",
    "wdIdentifiers = list(set(wdIdentifiers))"
   ]
  },
  {
   "cell_type": "code",
   "execution_count": 5,
   "metadata": {},
   "outputs": [],
   "source": [
    "def chunker(seq, size):\n",
    "    return (seq[pos:pos + size] for pos in range(0, len(seq), size))\n",
    "\n",
    "with open(ttlOutput, 'w') as outputFile:\n",
    "     outputFile.write('')\n",
    "\n",
    "sparql = SPARQLWrapper(wdEndpoint)    \n",
    "\n",
    "with open(ttlOutput, 'ab') as outputFile:\n",
    "    for batch in chunker(wdIdentifiers, batchSizeForRetrieval):\n",
    "        query = \"\"\"\n",
    "             PREFIX wdt: <http://www.wikidata.org/prop/direct/>\n",
    "             CONSTRUCT {\n",
    "                 ?entity wdt:P625 ?coordinates .\n",
    "             } WHERE {\n",
    "                 ?entity wdt:P625 ?coordinates .\n",
    "                 VALUES (?entity) {\n",
    "                     %s\n",
    "                 }\n",
    "             }\n",
    "\n",
    "        \"\"\" % ( \"(<\" + \">)\\n(<\".join(batch) + \">)\" )\n",
    "        sparql.setQuery(query)\n",
    "        results = sparql.query().convert()\n",
    "        outputFile.write(results.serialize(format='turtle'))"
   ]
  },
  {
   "cell_type": "code",
   "execution_count": null,
   "metadata": {
    "collapsed": true
   },
   "outputs": [],
   "source": []
  }
 ],
 "metadata": {
  "kernelspec": {
   "display_name": "Python 3",
   "language": "python",
   "name": "python3"
  },
  "language_info": {
   "codemirror_mode": {
    "name": "ipython",
    "version": 3
   },
   "file_extension": ".py",
   "mimetype": "text/x-python",
   "name": "python",
   "nbconvert_exporter": "python",
   "pygments_lexer": "ipython3",
   "version": "3.6.3"
  }
 },
 "nbformat": 4,
 "nbformat_minor": 2
}
