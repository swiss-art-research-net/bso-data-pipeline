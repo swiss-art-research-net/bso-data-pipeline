{
 "cells": [
  {
   "cell_type": "code",
   "execution_count": 1,
   "metadata": {},
   "outputs": [],
   "source": [
    "import sys\n",
    "sys.path.append(\"/Users/fkraeutli/Sites/sari-field-definitions-generator/src\")"
   ]
  },
  {
   "cell_type": "code",
   "execution_count": 2,
   "metadata": {},
   "outputs": [],
   "source": [
    "import json\n",
    "from os.path import join\n",
    "from sariFieldDefinitionsGenerator import generator\n",
    "from SPARQLWrapper import SPARQLWrapper, JSON\n",
    "from string import Template\n",
    "from tqdm import tqdm"
   ]
  },
  {
   "cell_type": "code",
   "execution_count": 3,
   "metadata": {},
   "outputs": [],
   "source": [
    "outputFolder = \"../static/iiif/\"\n",
    "fieldDefinitionsFile = \"../services/researchplatform/apps/bso/src/fieldDefinitions.yml\"\n",
    "limit = 10\n",
    "offset = 0"
   ]
  },
  {
   "cell_type": "code",
   "execution_count": 4,
   "metadata": {},
   "outputs": [],
   "source": [
    "endpoint = \"http://localhost:7776/blazegraph/sparql\""
   ]
  },
  {
   "cell_type": "code",
   "execution_count": 5,
   "metadata": {},
   "outputs": [],
   "source": [
    "def sparqlResultToDict(results):\n",
    "    rows = []\n",
    "    for result in results[\"results\"][\"bindings\"]:\n",
    "        row = {}\n",
    "        for key in list(result.keys()):\n",
    "            row[key] = result[key][\"value\"]\n",
    "        rows.append(row)\n",
    "    return rows\n",
    "\n",
    "def getMetadataForObject(obj):\n",
    "    metadata = []\n",
    "    \n",
    "    labelQueryTemplate = Template(\"\"\"\n",
    "    PREFIX rdfs: <http://www.w3.org/2000/01/rdf-schema#>\n",
    "    SELECT ?label WHERE {\n",
    "        <$uri> rdfs:label ?label .\n",
    "    }\n",
    "    \"\"\")\n",
    "\n",
    "    namespaces = \"\"\n",
    "    for key in model['namespaces'].keys():\n",
    "        namespaces += \"PREFIX \" + key + \": <\" + model['namespaces'][key] + \">\\n\"\n",
    "    \n",
    "    subject = obj['subject']\n",
    "    for field in fieldsToAdd:\n",
    "        if 'selectPattern' in field:\n",
    "            query = namespaces + field['selectPattern'].replace(\"$subject\", \"<%s>\" % subject)\n",
    "            sparql.setQuery(query)\n",
    "            result = sparqlResultToDict(sparql.query().convert())\n",
    "            if result:\n",
    "                # might be several values\n",
    "                valueLabels = []\n",
    "                for row in result:\n",
    "                    value = row['value']\n",
    "                    if not 'label' in result and field['xsdDatatype'] == 'xsd:anyURI':\n",
    "                        sparql.setQuery(labelQueryTemplate.substitute(uri=value))\n",
    "                        labelResult = sparqlResultToDict(sparql.query().convert())\n",
    "                        try:\n",
    "                            label = labelResult[0]['label']\n",
    "                        except:\n",
    "                            label = False\n",
    "                    else:\n",
    "                        label = result[0]['value']\n",
    "                    valueLabels.append(label)\n",
    "                metadata.append({\n",
    "                    \"label\": {\n",
    "                        \"none\": [field['label']]\n",
    "                    },\n",
    "                    \"value\": {\n",
    "                        \"none\": [', '.join(valueLabels)]\n",
    "                    }\n",
    "                })\n",
    "    return metadata"
   ]
  },
  {
   "cell_type": "code",
   "execution_count": 6,
   "metadata": {},
   "outputs": [],
   "source": [
    "model = generator.loadSourceFromFile(fieldDefinitionsFile)\n",
    "fieldQueriesRaw = generator.generate(model, generator.JSON)\n",
    "fields = json.loads(fieldQueriesRaw)\n",
    "fieldsToAdd = [d for d in fields if 'display' not in d or d['display'] != 'hidden']"
   ]
  },
  {
   "cell_type": "code",
   "execution_count": 7,
   "metadata": {},
   "outputs": [],
   "source": [
    "sparql = SPARQLWrapper(endpoint)\n",
    "sparql.setReturnFormat(JSON)"
   ]
  },
  {
   "cell_type": "code",
   "execution_count": 8,
   "metadata": {},
   "outputs": [],
   "source": [
    "objectsQuery = \"\"\"\n",
    "PREFIX search: <https://platform.swissartresearch.net/search/>\n",
    "SELECT ?subject ?label WHERE {\n",
    "    ?subject a search:Object ;\n",
    "        rdfs:label ?label .\n",
    "}\n",
    "\"\"\""
   ]
  },
  {
   "cell_type": "code",
   "execution_count": 9,
   "metadata": {},
   "outputs": [],
   "source": [
    "imageQueryTemplate = Template(\"\"\"\n",
    "PREFIX aat: <http://vocab.getty.edu/aat/>\n",
    "PREFIX crm: <http://www.cidoc-crm.org/cidoc-crm/>\n",
    "PREFIX la: <https://linked.art/ns/terms/>\n",
    "SELECT ?image ?width ?height WHERE {\n",
    "    <$uri> crm:P128_carries/la:digitally_shown_by ?imageObject .\n",
    "    ?imageObject la:digitally_available_via/la:access_point ?image ;\n",
    "        crm:P43_has_dimension ?dimWidth ;\n",
    "        crm:P43_has_dimension ?dimHeight .\n",
    "    ?dimWidth crm:P2_has_type aat:300055647 ;\n",
    "        crm:P90_has_value ?width .\n",
    "    ?dimHeight crm:P2_has_type aat:300055644 ;\n",
    "        crm:P90_has_value ?height .\n",
    "}\n",
    "\"\"\")"
   ]
  },
  {
   "cell_type": "code",
   "execution_count": 10,
   "metadata": {},
   "outputs": [],
   "source": [
    "sparql.setQuery(objectsQuery)\n",
    "objects = sparqlResultToDict(sparql.query().convert())"
   ]
  },
  {
   "cell_type": "code",
   "execution_count": 11,
   "metadata": {},
   "outputs": [
    {
     "name": "stderr",
     "output_type": "stream",
     "text": [
      "100%|██████████| 10/10 [00:04<00:00,  2.45it/s]\n"
     ]
    }
   ],
   "source": [
    "manifests = []\n",
    "\n",
    "for obj in tqdm(objects[offset:offset + limit]):\n",
    "    baseUri = obj['subject'].replace('artwork', 'manifest')\n",
    "    manifest = {\n",
    "        \"@context\": \"http://iiif.io/api/presentation/3/context.json\",\n",
    "        \"id\": baseUri,\n",
    "        \"items\": [],\n",
    "        \"type\": \"Manifest\",\n",
    "        \"label\": {\n",
    "            \"none\": [obj['label']]\n",
    "        },\n",
    "        \"metadata\": getMetadataForObject(obj)\n",
    "    }\n",
    "    \n",
    "    imageQuery = imageQueryTemplate.substitute(uri=obj['subject'])\n",
    "    sparql.setQuery(imageQuery)\n",
    "    images = sparqlResultToDict(sparql.query().convert())\n",
    "    \n",
    "    for i, image in enumerate(images):\n",
    "        canvas = {\n",
    "            \"id\": \"%s/image/%d/canvas\" % (baseUri, i),\n",
    "            \"type\": \"Canvas\",\n",
    "            \"width\": int(image['width']),\n",
    "            \"height\": int(image['height']),\n",
    "            \"items\": [{\n",
    "                    \"id\": \"%s/image/%d/canvas/page\" % (baseUri, i),\n",
    "                    \"type\": \"AnnotationPage\",\n",
    "                    \"items\": [{\n",
    "                        \"id\": \"%s/image/%d/canvas/page/annotation\" % (baseUri, i),\n",
    "                        \"type\": \"Annotation\",\n",
    "                        \"motivation\": \"painting\",\n",
    "                        \"body\": {\n",
    "                            \"id\": \"%s/full/max/0/default.jpg\" % image['image'],\n",
    "                            \"type\": \"Image\",\n",
    "                            \"format\": \"image/jpeg\",\n",
    "                            \"width\": int(image['width']),\n",
    "                            \"height\": int(image['height']),\n",
    "                            \"service\": [{\n",
    "                                \"id\": image['image'],\n",
    "                                \"profile\": \"level1\",\n",
    "                                \"type\": \"ImageService3\"\n",
    "                            }]\n",
    "                        },\n",
    "                        \"target\": \"%s/image/%d/canvas\" % (baseUri, i)\n",
    "                    }]\n",
    "                }]\n",
    "        }\n",
    "        manifest['items'].append(canvas)\n",
    "    manifests.append(manifest)\n",
    "    \n",
    "    filename = join(outputFolder, manifest['id'][len(\"https://resource.swissartresearch.net/manifest/\"):] + \".json\")\n",
    "    with open(filename, 'w') as f:\n",
    "        json.dump(manifest, f, ensure_ascii=False, indent=4)"
   ]
  },
  {
   "cell_type": "code",
   "execution_count": null,
   "metadata": {},
   "outputs": [],
   "source": []
  },
  {
   "cell_type": "code",
   "execution_count": null,
   "metadata": {},
   "outputs": [],
   "source": []
  }
 ],
 "metadata": {
  "kernelspec": {
   "display_name": "Python 3",
   "language": "python",
   "name": "python3"
  },
  "language_info": {
   "codemirror_mode": {
    "name": "ipython",
    "version": 3
   },
   "file_extension": ".py",
   "mimetype": "text/x-python",
   "name": "python",
   "nbconvert_exporter": "python",
   "pygments_lexer": "ipython3",
   "version": "3.7.3"
  }
 },
 "nbformat": 4,
 "nbformat_minor": 2
}
