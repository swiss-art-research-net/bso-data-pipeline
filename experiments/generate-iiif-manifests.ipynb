{
 "cells": [
  {
   "cell_type": "code",
   "execution_count": 72,
   "metadata": {},
   "outputs": [],
   "source": [
    "import json\n",
    "from os.path import join\n",
    "from SPARQLWrapper import SPARQLWrapper, JSON\n",
    "from string import Template\n",
    "from tqdm import tqdm"
   ]
  },
  {
   "cell_type": "code",
   "execution_count": 73,
   "metadata": {},
   "outputs": [],
   "source": [
    "outputFolder = \"../data/iiif/\""
   ]
  },
  {
   "cell_type": "code",
   "execution_count": 74,
   "metadata": {},
   "outputs": [],
   "source": [
    "endpoint = \"http://localhost:7776/blazegraph/sparql\""
   ]
  },
  {
   "cell_type": "code",
   "execution_count": 75,
   "metadata": {},
   "outputs": [],
   "source": [
    "def sparqlResultToDict(results):\n",
    "    rows = []\n",
    "    for result in results[\"results\"][\"bindings\"]:\n",
    "        row = {}\n",
    "        for key in list(result.keys()):\n",
    "            row[key] = result[key][\"value\"]\n",
    "        rows.append(row)\n",
    "    return rows\n"
   ]
  },
  {
   "cell_type": "code",
   "execution_count": 76,
   "metadata": {},
   "outputs": [],
   "source": [
    "sparql = SPARQLWrapper(endpoint)\n",
    "sparql.setReturnFormat(JSON)"
   ]
  },
  {
   "cell_type": "code",
   "execution_count": 77,
   "metadata": {},
   "outputs": [],
   "source": [
    "objectsQuery = \"\"\"\n",
    "PREFIX search: <https://platform.swissartresearch.net/search/>\n",
    "SELECT ?subject ?label WHERE {\n",
    "    ?subject a search:Object ;\n",
    "        rdfs:label ?label .\n",
    "}\n",
    "\"\"\""
   ]
  },
  {
   "cell_type": "code",
   "execution_count": 78,
   "metadata": {},
   "outputs": [],
   "source": [
    "sparql.setQuery(objectsQuery)\n",
    "objects = sparqlResultToDict(sparql.query().convert())"
   ]
  },
  {
   "cell_type": "code",
   "execution_count": 79,
   "metadata": {},
   "outputs": [
    {
     "name": "stderr",
     "output_type": "stream",
     "text": [
      "100%|██████████| 40/40 [00:00<00:00, 63.48it/s]\n"
     ]
    }
   ],
   "source": [
    "manifests = []\n",
    "\n",
    "imageQueryTemplate = Template(\"\"\"\n",
    "PREFIX aat: <http://vocab.getty.edu/aat/>\n",
    "PREFIX crm: <http://www.cidoc-crm.org/cidoc-crm/>\n",
    "PREFIX la: <https://linked.art/ns/terms/>\n",
    "SELECT ?image ?width ?height WHERE {\n",
    "    <$uri> crm:P128_carries/la:digitally_shown_by ?imageObject .\n",
    "    ?imageObject la:digitally_available_via/la:access_point ?image ;\n",
    "        crm:P43_has_dimension ?dimWidth ;\n",
    "        crm:P43_has_dimension ?dimHeight .\n",
    "    ?dimWidth crm:P2_has_type aat:300055647 ;\n",
    "        crm:P90_has_value ?width .\n",
    "    ?dimHeight crm:P2_has_type aat:300055644 ;\n",
    "        crm:P90_has_value ?height .\n",
    "}\n",
    "\"\"\")\n",
    "\n",
    "for obj in tqdm(objects):\n",
    "\n",
    "    manifest = {\n",
    "        \"@context\": \"http://iiif.io/api/presentation/3/context.json\",\n",
    "        \"id\": \"%s/manifest.json\" % obj['subject'],\n",
    "        \"items\": [],\n",
    "        \"type\": \"Manifest\",\n",
    "        \"label\": {\n",
    "            \"en\": [obj['label']]\n",
    "        }\n",
    "    }\n",
    "    \n",
    "    imageQuery = imageQueryTemplate.substitute(uri=obj['subject'])\n",
    "    sparql.setQuery(imageQuery)\n",
    "    images = sparqlResultToDict(sparql.query().convert())\n",
    "    \n",
    "    for i, image in enumerate(images):\n",
    "        canvas = {\n",
    "            \"id\": \"%s/image/%d/canvas\" % (obj['subject'], i),\n",
    "            \"type\": \"Canvas\",\n",
    "            \"width\": int(image['width']),\n",
    "            \"height\": int(image['height']),\n",
    "            \"items\": [{\n",
    "                    \"id\": \"%s/image/%d/canvas/page\" % (obj['subject'], i),\n",
    "                    \"type\": \"AnnotationPage\",\n",
    "                    \"items\": [{\n",
    "                        \"id\": \"%s/image/%d/canvas/page/annotation\" % (obj['subject'], i),\n",
    "                        \"type\": \"Annotation\",\n",
    "                        \"motivation\": \"painting\",\n",
    "                        \"body\": {\n",
    "                            \"id\": \"%s/full/max/0/default.jpg\" % image['image'],\n",
    "                            \"type\": \"Image\",\n",
    "                            \"format\": \"image/jpeg\",\n",
    "                            \"width\": int(image['width']),\n",
    "                            \"height\": int(image['height']),\n",
    "                            \"service\": [{\n",
    "                                \"id\": image['image'],\n",
    "                                \"profile\": \"level1\",\n",
    "                                \"type\": \"ImageService3\"\n",
    "                            }]\n",
    "                        },\n",
    "                        \"target\": \"%s/image/%d/canvas\" % (obj['subject'], i)\n",
    "                    }]\n",
    "                }]\n",
    "        }\n",
    "        manifest['items'].append(canvas)\n",
    "    manifests.append(manifest)"
   ]
  },
  {
   "cell_type": "code",
   "execution_count": 80,
   "metadata": {},
   "outputs": [],
   "source": [
    "for manifest in manifests:\n",
    "    filename = join(outputFolder, manifest['id'][len(\"https://resource.swissartresearch.net/artwork/\"):-len(\"/manifest.json\")] + \".json\")\n",
    "    with open(filename, 'w') as f:\n",
    "        json.dump(manifest, f, ensure_ascii=False, indent=4)"
   ]
  },
  {
   "cell_type": "code",
   "execution_count": null,
   "metadata": {},
   "outputs": [],
   "source": []
  }
 ],
 "metadata": {
  "kernelspec": {
   "display_name": "Python 3",
   "language": "python",
   "name": "python3"
  },
  "language_info": {
   "codemirror_mode": {
    "name": "ipython",
    "version": 3
   },
   "file_extension": ".py",
   "mimetype": "text/x-python",
   "name": "python",
   "nbconvert_exporter": "python",
   "pygments_lexer": "ipython3",
   "version": "3.7.3"
  }
 },
 "nbformat": 4,
 "nbformat_minor": 2
}
