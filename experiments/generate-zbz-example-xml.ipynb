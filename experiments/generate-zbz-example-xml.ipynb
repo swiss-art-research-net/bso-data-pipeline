{
 "cells": [
  {
   "cell_type": "code",
   "execution_count": 24,
   "metadata": {
    "collapsed": true
   },
   "outputs": [],
   "source": [
    "from lxml import etree"
   ]
  },
  {
   "cell_type": "code",
   "execution_count": 32,
   "metadata": {
    "collapsed": true
   },
   "outputs": [],
   "source": [
    "inputFolder = \"../data/xml/zbz\"\n",
    "outputFile = \"../mapping/example-zbz.xml\"\n",
    "filePrefix = \"sari-\""
   ]
  },
  {
   "cell_type": "code",
   "execution_count": 26,
   "metadata": {},
   "outputs": [],
   "source": [
    "exampleRecords = ['f33b0330-d53d-41f8-a7b8-3334be547d0b',\n",
    "                  '8d11181b-3369-4032-8ab2-0514d94314f1',\n",
    "                  '4b4a9cb6-3a32-4582-8a26-62b818b5795d',\n",
    "                  '0de7df7d-23f7-4bba-b061-730ff6a3fc18']"
   ]
  },
  {
   "cell_type": "code",
   "execution_count": 27,
   "metadata": {
    "collapsed": true
   },
   "outputs": [],
   "source": [
    "def getFile(id):\n",
    "    return \"%s/%s%s.xml\" % (inputFolder, filePrefix, id)"
   ]
  },
  {
   "cell_type": "code",
   "execution_count": 28,
   "metadata": {},
   "outputs": [],
   "source": [
    "file = getFile(exampleRecords[0])\n",
    "root = etree.parse(file)"
   ]
  },
  {
   "cell_type": "code",
   "execution_count": 29,
   "metadata": {},
   "outputs": [],
   "source": [
    "for id in exampleRecords[1:]:\n",
    "    file = getFile(id)\n",
    "    record = etree.parse(file).find(\"record\")\n",
    "    root.getroot().append(record)"
   ]
  },
  {
   "cell_type": "code",
   "execution_count": 33,
   "metadata": {},
   "outputs": [],
   "source": [
    "with open(outputFile, 'wb') as f:\n",
    "    f.write(etree.tostring(root, xml_declaration=True, pretty_print=Tr)"
   ]
  },
  {
   "cell_type": "code",
   "execution_count": 34,
   "metadata": {},
   "outputs": [
    {
     "name": "stdout",
     "output_type": "stream",
     "text": [
      "Help on cython_function_or_method in module lxml.etree:\n",
      "\n",
      "tostring(element_or_tree, *, encoding=None, method='xml', xml_declaration=None, pretty_print=False, with_tail=True, standalone=None, doctype=None, exclusive=False, with_comments=True, inclusive_ns_prefixes=None)\n",
      "    tostring(element_or_tree, encoding=None, method=\"xml\",\n",
      "                 xml_declaration=None, pretty_print=False, with_tail=True,\n",
      "                 standalone=None, doctype=None,\n",
      "                 exclusive=False, with_comments=True, inclusive_ns_prefixes=None)\n",
      "    \n",
      "    Serialize an element to an encoded string representation of its XML\n",
      "    tree.\n",
      "    \n",
      "    Defaults to ASCII encoding without XML declaration.  This\n",
      "    behaviour can be configured with the keyword arguments 'encoding'\n",
      "    (string) and 'xml_declaration' (bool).  Note that changing the\n",
      "    encoding to a non UTF-8 compatible encoding will enable a\n",
      "    declaration by default.\n",
      "    \n",
      "    You can also serialise to a Unicode string without declaration by\n",
      "    passing the ``unicode`` function as encoding (or ``str`` in Py3),\n",
      "    or the name 'unicode'.  This changes the return value from a byte\n",
      "    string to an unencoded unicode string.\n",
      "    \n",
      "    The keyword argument 'pretty_print' (bool) enables formatted XML.\n",
      "    \n",
      "    The keyword argument 'method' selects the output method: 'xml',\n",
      "    'html', plain 'text' (text content without tags) or 'c14n'.\n",
      "    Default is 'xml'.\n",
      "    \n",
      "    The ``exclusive`` and ``with_comments`` arguments are only used\n",
      "    with C14N output, where they request exclusive and uncommented\n",
      "    C14N serialisation respectively.\n",
      "    \n",
      "    Passing a boolean value to the ``standalone`` option will output\n",
      "    an XML declaration with the corresponding ``standalone`` flag.\n",
      "    \n",
      "    The ``doctype`` option allows passing in a plain string that will\n",
      "    be serialised before the XML tree.  Note that passing in non\n",
      "    well-formed content here will make the XML output non well-formed.\n",
      "    Also, an existing doctype in the document tree will not be removed\n",
      "    when serialising an ElementTree instance.\n",
      "    \n",
      "    You can prevent the tail text of the element from being serialised\n",
      "    by passing the boolean ``with_tail`` option.  This has no impact\n",
      "    on the tail text of children, which will always be serialised.\n",
      "\n"
     ]
    }
   ],
   "source": [
    "help(etree.tostring)"
   ]
  },
  {
   "cell_type": "code",
   "execution_count": null,
   "metadata": {
    "collapsed": true
   },
   "outputs": [],
   "source": []
  }
 ],
 "metadata": {
  "kernelspec": {
   "display_name": "Python 3",
   "language": "python",
   "name": "python3"
  },
  "language_info": {
   "codemirror_mode": {
    "name": "ipython",
    "version": 3
   },
   "file_extension": ".py",
   "mimetype": "text/x-python",
   "name": "python",
   "nbconvert_exporter": "python",
   "pygments_lexer": "ipython3",
   "version": "3.6.3"
  }
 },
 "nbformat": 4,
 "nbformat_minor": 2
}
