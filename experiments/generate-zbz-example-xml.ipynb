{
 "cells": [
  {
   "cell_type": "code",
   "execution_count": 16,
   "metadata": {},
   "outputs": [],
   "source": [
    "from lxml import etree"
   ]
  },
  {
   "cell_type": "code",
   "execution_count": 17,
   "metadata": {},
   "outputs": [],
   "source": [
    "inputFolder = \"../data/xml/zbz\"\n",
    "outputFile = \"../mapping/example-zbz.xml\"\n",
    "filePrefix = \"zbz-record-\""
   ]
  },
  {
   "cell_type": "code",
   "execution_count": 18,
   "metadata": {},
   "outputs": [],
   "source": [
    "exampleRecords = ['990036399200205508',\n",
    "                  '990051346890205508',\n",
    "                  '990052192590205508',\n",
    "                  '990053006550205508',\n",
    "                  '990052037310205508'\n",
    "                 ]"
   ]
  },
  {
   "cell_type": "code",
   "execution_count": 19,
   "metadata": {},
   "outputs": [],
   "source": [
    "def getFile(id):\n",
    "    return \"%s/%s%s.xml\" % (inputFolder, filePrefix, id)"
   ]
  },
  {
   "cell_type": "code",
   "execution_count": 20,
   "metadata": {},
   "outputs": [],
   "source": [
    "file = getFile(exampleRecords[0])\n",
    "root = etree.parse(file)"
   ]
  },
  {
   "cell_type": "code",
   "execution_count": 21,
   "metadata": {},
   "outputs": [],
   "source": [
    "for id in exampleRecords[1:]:\n",
    "    file = getFile(id)\n",
    "    record = etree.parse(file).find(\"record\")\n",
    "    root.getroot().append(record)"
   ]
  },
  {
   "cell_type": "code",
   "execution_count": 22,
   "metadata": {},
   "outputs": [],
   "source": [
    "with open(outputFile, 'wb') as f:\n",
    "    f.write(etree.tostring(root, xml_declaration=True, pretty_print=True, encoding=\"UTF-8\"))"
   ]
  },
  {
   "cell_type": "code",
   "execution_count": null,
   "metadata": {
    "collapsed": true
   },
   "outputs": [],
   "source": []
  }
 ],
 "metadata": {
  "kernelspec": {
   "display_name": "Python 3",
   "language": "python",
   "name": "python3"
  },
  "language_info": {
   "codemirror_mode": {
    "name": "ipython",
    "version": 3
   },
   "file_extension": ".py",
   "mimetype": "text/x-python",
   "name": "python",
   "nbconvert_exporter": "python",
   "pygments_lexer": "ipython3",
   "version": "3.7.3"
  }
 },
 "nbformat": 4,
 "nbformat_minor": 2
}
