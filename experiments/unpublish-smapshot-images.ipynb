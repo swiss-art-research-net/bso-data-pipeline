{
 "cells": [
  {
   "cell_type": "code",
   "execution_count": 1,
   "metadata": {},
   "outputs": [
    {
     "name": "stdout",
     "output_type": "stream",
     "text": [
      "Requirement already satisfied: python-dotenv in /Users/fkraeutli/anaconda3/lib/python3.7/site-packages (0.19.2)\r\n",
      "Requirement already satisfied: curlify in /Users/fkraeutli/anaconda3/lib/python3.7/site-packages (2.2.1)\r\n",
      "Requirement already satisfied: requests in /Users/fkraeutli/anaconda3/lib/python3.7/site-packages (from curlify) (2.28.1)\r\n",
      "Requirement already satisfied: charset-normalizer<3,>=2 in /Users/fkraeutli/anaconda3/lib/python3.7/site-packages (from requests->curlify) (2.1.0)\r\n",
      "Requirement already satisfied: urllib3<1.27,>=1.21.1 in /Users/fkraeutli/anaconda3/lib/python3.7/site-packages (from requests->curlify) (1.24.2)\r\n",
      "Requirement already satisfied: certifi>=2017.4.17 in /Users/fkraeutli/anaconda3/lib/python3.7/site-packages (from requests->curlify) (2019.6.16)\r\n",
      "Requirement already satisfied: idna<4,>=2.5 in /Users/fkraeutli/anaconda3/lib/python3.7/site-packages (from requests->curlify) (2.8)\r\n"
     ]
    }
   ],
   "source": [
    "import sys\n",
    "sys.path.append('../services/smapshotapi/src/lib/')\n",
    "!{sys.executable} -m pip install python-dotenv curlify"
   ]
  },
  {
   "cell_type": "code",
   "execution_count": 2,
   "metadata": {},
   "outputs": [],
   "source": [
    "from SPARQLWrapper import SPARQLWrapper, JSON\n",
    "from SmapshotConnector import SmapshotConnector\n",
    "from tqdm import tqdm\n",
    "import os\n",
    "from dotenv import load_dotenv"
   ]
  },
  {
   "cell_type": "code",
   "execution_count": 3,
   "metadata": {},
   "outputs": [
    {
     "data": {
      "text/plain": [
       "True"
      ]
     },
     "execution_count": 3,
     "metadata": {},
     "output_type": "execute_result"
    }
   ],
   "source": [
    "load_dotenv()"
   ]
  },
  {
   "cell_type": "code",
   "execution_count": 4,
   "metadata": {},
   "outputs": [],
   "source": [
    "smapshotToken = os.getenv('SMAPSHOT_TOKEN')"
   ]
  },
  {
   "cell_type": "code",
   "execution_count": 5,
   "metadata": {},
   "outputs": [],
   "source": [
    "smapshot = SmapshotConnector(url=\"https://smapshot.heig-vd.ch/api/v1\", token=smapshotToken)"
   ]
  },
  {
   "cell_type": "code",
   "execution_count": 6,
   "metadata": {},
   "outputs": [],
   "source": [
    "additionalParams = {'state[0]': 'initial'}\n",
    "images = smapshot.listImages(additionalParams)"
   ]
  },
  {
   "cell_type": "code",
   "execution_count": 7,
   "metadata": {},
   "outputs": [],
   "source": [
    "states = list(set([d['state'] for d in images]))"
   ]
  },
  {
   "cell_type": "code",
   "execution_count": 8,
   "metadata": {},
   "outputs": [
    {
     "data": {
      "text/plain": [
       "0"
      ]
     },
     "execution_count": 8,
     "metadata": {},
     "output_type": "execute_result"
    }
   ],
   "source": [
    "len(images)"
   ]
  },
  {
   "cell_type": "code",
   "execution_count": 9,
   "metadata": {},
   "outputs": [],
   "source": [
    "for image in images:\n",
    "    print(f\"Unpublishing {image['id']}\")\n",
    "    smapshot.setImagePublishedState(int(image['id']), False, 'not_georef')"
   ]
  },
  {
   "cell_type": "code",
   "execution_count": null,
   "metadata": {},
   "outputs": [],
   "source": []
  }
 ],
 "metadata": {
  "kernelspec": {
   "display_name": "Python 3",
   "language": "python",
   "name": "python3"
  },
  "language_info": {
   "codemirror_mode": {
    "name": "ipython",
    "version": 3
   },
   "file_extension": ".py",
   "mimetype": "text/x-python",
   "name": "python",
   "nbconvert_exporter": "python",
   "pygments_lexer": "ipython3",
   "version": "3.7.3"
  }
 },
 "nbformat": 4,
 "nbformat_minor": 2
}
