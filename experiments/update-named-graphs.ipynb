{
 "cells": [
  {
   "cell_type": "code",
   "execution_count": 1,
   "metadata": {},
   "outputs": [],
   "source": [
    "import re\n",
    "import requests\n",
    "from urllib.parse import quote_plus as urlencode\n",
    "from rdflib import Dataset, Graph, compare\n",
    "from tqdm import tqdm"
   ]
  },
  {
   "cell_type": "code",
   "execution_count": 2,
   "metadata": {},
   "outputs": [],
   "source": [
    "inputFile = '../data/graphs/imageRegions.trig'\n",
    "endpoint = \"http://localhost:7776/blazegraph/sparql\""
   ]
  },
  {
   "cell_type": "code",
   "execution_count": 3,
   "metadata": {},
   "outputs": [],
   "source": [
    "inputData = Dataset()"
   ]
  },
  {
   "cell_type": "code",
   "execution_count": 4,
   "metadata": {},
   "outputs": [],
   "source": [
    "updateCondition = \"\"\"\n",
    "PREFIX crm: <http://www.cidoc-crm.org/cidoc-crm/>\n",
    "PREFIX crmdig: <http://www.ics.forth.gr/isl/CRMdig/>\n",
    "ASK { \n",
    "  ?s a crmdig:D35_Area ;\n",
    "    crm:P33_used_specific_technique <https://github.com/swiss-art-research-net/bso-image-segmentation> .\n",
    "}\n",
    "\"\"\""
   ]
  },
  {
   "cell_type": "code",
   "execution_count": 5,
   "metadata": {},
   "outputs": [],
   "source": [
    "devnull = inputData.parse(inputFile, format='trig')"
   ]
  },
  {
   "cell_type": "code",
   "execution_count": 6,
   "metadata": {},
   "outputs": [
    {
     "name": "stderr",
     "output_type": "stream",
     "text": [
      "11it [00:00, 71.22it/s]"
     ]
    },
    {
     "name": "stdout",
     "output_type": "stream",
     "text": [
      "Comparing graphs\n"
     ]
    },
    {
     "name": "stderr",
     "output_type": "stream",
     "text": [
      "\n"
     ]
    }
   ],
   "source": [
    "headers = {'Accept': 'text/turtle'}\n",
    "\n",
    "graphs= {\n",
    "    'new': [],\n",
    "    'changed': [],\n",
    "    'unchanged': []}\n",
    "\n",
    "queryTemplate = \"\"\"\n",
    "CONSTRUCT { ?s ?p ?o } WHERE { GRAPH <%s> { ?s ?p ?o }}\n",
    "\"\"\"\n",
    "\n",
    "print(\"Comparing graphs\")\n",
    "for context in tqdm(inputData.contexts()):\n",
    "    if context.identifier.startswith(\"http\"):\n",
    "        r = requests.get(endpoint, headers=headers, params={\"query\": queryTemplate % context.identifier})\n",
    "        if r.ok:\n",
    "            remoteGraph = Graph()\n",
    "            remoteGraph.parse(data=r.text, format='turtle')\n",
    "            if not len(remoteGraph):\n",
    "                graphs['new'].append((context, False))\n",
    "            elif compare.to_isomorphic(context) == compare.to_isomorphic(remoteGraph):\n",
    "                graphs['unchanged'].append((context, remoteGraph))\n",
    "            else:\n",
    "                graphs['changed'].append((context, remoteGraph))\n",
    "        else:\n",
    "            print(r.text)"
   ]
  },
  {
   "cell_type": "code",
   "execution_count": 7,
   "metadata": {},
   "outputs": [
    {
     "name": "stdout",
     "output_type": "stream",
     "text": [
      "0 new graphs\n",
      "7 updated graphs\n",
      "2 unchanged graphs\n"
     ]
    }
   ],
   "source": [
    "print(len(graphs['new']), \"new graphs\")\n",
    "print(len(graphs['changed']), \"updated graphs\")\n",
    "print(len(graphs['unchanged']), \"unchanged graphs\")"
   ]
  },
  {
   "cell_type": "code",
   "execution_count": 8,
   "metadata": {},
   "outputs": [],
   "source": [
    "def putGraph(context, endpoint):\n",
    "    # curl -X POST -H 'Content-Type:application/rdf+xml\t' --data-binary '@{{.FILE}}' {{.ENDPOINT}}?context-uri={{.GRAPH}}\n",
    "    # Remove old graph\n",
    "    requests.get(endpoint, params={\"query\": \"DROP GRAPH <%s>\" % context.identifier})\n",
    "    \n",
    "    data = context.serialize(format='turtle').decode('utf8')\n",
    "    params = {\n",
    "        \"context-uri\": context.identifier,\n",
    "    }\n",
    "    headers = {\"Content-Type\" : \"text/turtle\"}\n",
    "    r = requests.post(endpoint, params=params, data=data, headers=headers)\n",
    "    return r.ok"
   ]
  },
  {
   "cell_type": "code",
   "execution_count": 9,
   "metadata": {},
   "outputs": [
    {
     "name": "stdout",
     "output_type": "stream",
     "text": [
      "Overwriting https://resource.swissartresearch.net/digitalobject/26a329d6-c453-3f34-a682-f0fd1cdaa6f4/container/context\n",
      "Overwriting https://resource.swissartresearch.net/digitalobject/aa537299-bce4-314d-bdac-979455cc0eef/container/context\n",
      "Overwriting https://resource.swissartresearch.net/digitalobject/b957bb50-c31c-3f6e-a98f-1fae9bf4341d/container/context\n",
      "Overwriting https://resource.swissartresearch.net/digitalobject/b184df35-4b8d-3ad5-a307-b1bddff7de6f/container/context\n",
      "Overwriting https://resource.swissartresearch.net/digitalobject/08d4b5a7-9748-35b3-abb4-f5b420d5ae58/container/context\n",
      "Overwriting https://resource.swissartresearch.net/digitalobject/7ddc1e30-cf39-3f0e-8e17-dc85695f763d/container/context\n",
      "Overwriting https://resource.swissartresearch.net/digitalobject/5b29e4fd-7768-3fd1-a387-24f2b66dd0af/container/context\n"
     ]
    }
   ],
   "source": [
    "graphsToUpdate = [d[0] for d in graphs['new']]\n",
    "\n",
    "for graphPair in graphs['changed']:\n",
    "    update = False\n",
    "    if updateCondition:\n",
    "        for result in graphPair[1].query(updateCondition):\n",
    "            break\n",
    "        update = result\n",
    "    else:\n",
    "        update = True\n",
    "        \n",
    "    if update:\n",
    "        print(\"Overwriting\", graphPair[0].identifier)\n",
    "        graphsToUpdate.append(graphPair[0])\n"
   ]
  },
  {
   "cell_type": "code",
   "execution_count": 10,
   "metadata": {},
   "outputs": [
    {
     "name": "stderr",
     "output_type": "stream",
     "text": [
      "100%|██████████| 7/7 [00:00<00:00, 35.83it/s]\n"
     ]
    }
   ],
   "source": [
    "for g in tqdm(graphsToUpdate):\n",
    "    putGraph(g, endpoint)"
   ]
  },
  {
   "cell_type": "code",
   "execution_count": null,
   "metadata": {},
   "outputs": [],
   "source": []
  }
 ],
 "metadata": {
  "kernelspec": {
   "display_name": "Python 3",
   "language": "python",
   "name": "python3"
  },
  "language_info": {
   "codemirror_mode": {
    "name": "ipython",
    "version": 3
   },
   "file_extension": ".py",
   "mimetype": "text/x-python",
   "name": "python",
   "nbconvert_exporter": "python",
   "pygments_lexer": "ipython3",
   "version": "3.7.3"
  }
 },
 "nbformat": 4,
 "nbformat_minor": 2
}
