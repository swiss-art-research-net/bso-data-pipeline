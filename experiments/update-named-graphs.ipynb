{
 "cells": [
  {
   "cell_type": "code",
   "execution_count": 38,
   "metadata": {},
   "outputs": [],
   "source": [
    "import requests\n",
    "from urllib.parse import quote_plus as urlencode\n",
    "from rdflib import Dataset, Graph, compare\n",
    "from tqdm import tqdm"
   ]
  },
  {
   "cell_type": "code",
   "execution_count": 39,
   "metadata": {},
   "outputs": [],
   "source": [
    "inputFile = '../data/graphs/imageRegions.trig'\n",
    "endpoint = \"http://localhost:7776/rdf-graph-store\""
   ]
  },
  {
   "cell_type": "code",
   "execution_count": 40,
   "metadata": {},
   "outputs": [],
   "source": [
    "inputData = Dataset()"
   ]
  },
  {
   "cell_type": "code",
   "execution_count": 41,
   "metadata": {},
   "outputs": [],
   "source": [
    "updateCondition = \"\"\"\n",
    "PREFIX crm: <http://www.cidoc-crm.org/cidoc-crm/>\n",
    "PREFIX crmdig: <http://www.ics.forth.gr/isl/CRMdig/>\n",
    "ASK { \n",
    "  ?s a crmdig:D35_Area ;\n",
    "      crm:P33_used_specific_technique <https://github.com/swiss-art-research-net/bso-image-segmentation> .\n",
    "}\n",
    "\"\"\""
   ]
  },
  {
   "cell_type": "code",
   "execution_count": 42,
   "metadata": {},
   "outputs": [],
   "source": [
    "devnull = inputData.parse(inputFile, format='trig')"
   ]
  },
  {
   "cell_type": "code",
   "execution_count": 43,
   "metadata": {},
   "outputs": [],
   "source": [
    "headers = {'Accept': 'text/turtle'}\n",
    "\n",
    "graphs= {\n",
    "    'new': [],\n",
    "    'changed': [],\n",
    "    'unchanged': []}\n",
    "\n",
    "for context in inputData.contexts():\n",
    "    if context.identifier.startswith(\"http\"):\n",
    "        r = requests.get(endpoint, headers=headers, params={\"graph\": context.identifier})\n",
    "        if r.ok:\n",
    "            remoteGraph = Graph()\n",
    "            remoteGraph.parse(data=r.text, format='turtle')\n",
    "            if compare.to_isomorphic(context) == compare.to_isomorphic(remoteGraph):\n",
    "                graphs['unchanged'].append((context, remoteGraph))\n",
    "            else:\n",
    "                graphs['changed'].append((context, remoteGraph))\n",
    "        else:\n",
    "            graphs['new'].append((context, False))"
   ]
  },
  {
   "cell_type": "code",
   "execution_count": 44,
   "metadata": {},
   "outputs": [
    {
     "name": "stdout",
     "output_type": "stream",
     "text": [
      "0 new graphs\n",
      "2 updated graphs\n",
      "7 unchanged graphs\n"
     ]
    }
   ],
   "source": [
    "print(len(graphs['new']), \"new graphs\")\n",
    "print(len(graphs['changed']), \"updated graphs\")\n",
    "print(len(graphs['unchanged']), \"unchanged graphs\")"
   ]
  },
  {
   "cell_type": "code",
   "execution_count": 45,
   "metadata": {},
   "outputs": [],
   "source": [
    "def putGraph(context, endpoint):\n",
    "    data = context.serialize(format='turtle')\n",
    "    params = {\"graph\": context.identifier}\n",
    "    headers = {\"Content-Type\" : \"text/turtle\"}\n",
    "    r = requests.put(endpoint, params=params, data=data, headers=headers, auth=(\"admin\",\"admin\"))\n",
    "    return r.ok"
   ]
  },
  {
   "cell_type": "code",
   "execution_count": 46,
   "metadata": {},
   "outputs": [
    {
     "name": "stdout",
     "output_type": "stream",
     "text": [
      "Overwriting https://resource.swissartresearch.net/digitalobject/b957bb50-c31c-3f6e-a98f-1fae9bf4341d/container/context\n"
     ]
    }
   ],
   "source": [
    "graphsToUpdate = [d[0] for d in graphs['new']]\n",
    "\n",
    "for graphPair in graphs['changed']:\n",
    "    update = False\n",
    "    if updateCondition:\n",
    "        for result in graphPair[1].query(updateCondition):\n",
    "            break\n",
    "        update = result\n",
    "    else:\n",
    "        update = True\n",
    "        \n",
    "    if update:\n",
    "        print(\"Overwriting\", graphPair[0].identifier)\n",
    "        graphsToUpdate.append(graphPair[0])\n"
   ]
  },
  {
   "cell_type": "code",
   "execution_count": 47,
   "metadata": {},
   "outputs": [
    {
     "name": "stderr",
     "output_type": "stream",
     "text": [
      "100%|██████████| 1/1 [00:00<00:00,  5.53it/s]\n"
     ]
    }
   ],
   "source": [
    "for g in tqdm(graphsToUpdate):\n",
    "    putGraph(g, endpoint)"
   ]
  },
  {
   "cell_type": "code",
   "execution_count": 48,
   "metadata": {},
   "outputs": [
    {
     "data": {
      "text/plain": [
       "[<Graph identifier=https://resource.swissartresearch.net/digitalobject/b957bb50-c31c-3f6e-a98f-1fae9bf4341d/container/context (<class 'rdflib.graph.Graph'>)>]"
      ]
     },
     "execution_count": 48,
     "metadata": {},
     "output_type": "execute_result"
    }
   ],
   "source": [
    "graphsToUpdate"
   ]
  },
  {
   "cell_type": "code",
   "execution_count": 49,
   "metadata": {},
   "outputs": [
    {
     "data": {
      "text/plain": [
       "<Response [200]>"
      ]
     },
     "execution_count": 49,
     "metadata": {},
     "output_type": "execute_result"
    }
   ],
   "source": [
    "r"
   ]
  },
  {
   "cell_type": "code",
   "execution_count": null,
   "metadata": {},
   "outputs": [],
   "source": []
  }
 ],
 "metadata": {
  "kernelspec": {
   "display_name": "Python 3",
   "language": "python",
   "name": "python3"
  },
  "language_info": {
   "codemirror_mode": {
    "name": "ipython",
    "version": 3
   },
   "file_extension": ".py",
   "mimetype": "text/x-python",
   "name": "python",
   "nbconvert_exporter": "python",
   "pygments_lexer": "ipython3",
   "version": "3.7.3"
  }
 },
 "nbformat": 4,
 "nbformat_minor": 2
}
