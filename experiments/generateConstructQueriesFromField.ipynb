{
 "cells": [
  {
   "cell_type": "code",
   "execution_count": 37,
   "metadata": {},
   "outputs": [],
   "source": [
    "import re\n",
    "import sys\n",
    "import yaml\n",
    "from string import Template"
   ]
  },
  {
   "cell_type": "code",
   "execution_count": 38,
   "metadata": {},
   "outputs": [],
   "source": [
    "fieldDefinitionsFile = '../services/researchplatform/apps/bso/src/fieldDefinitions.yml'\n",
    "output = ''"
   ]
  },
  {
   "cell_type": "code",
   "execution_count": 39,
   "metadata": {},
   "outputs": [],
   "source": [
    "with open(fieldDefinitionsFile, 'r') as f:\n",
    "    model = yaml.safe_load(f.read())"
   ]
  },
  {
   "cell_type": "code",
   "execution_count": 40,
   "metadata": {},
   "outputs": [],
   "source": [
    "template = Template(\"\"\"\n",
    "    INSERT {\n",
    "        ?subject <$uri> ?value\n",
    "    } WHERE {\n",
    "        $query\n",
    "    };\n",
    "\"\"\")\n",
    "\n",
    "for field in model['fields']:\n",
    "    uri = model['prefix'] + field['id']\n",
    "    selectQuery = [d for d in field['queries'] if 'select' in d.keys()][0]['select']\n",
    "    matches = re.findall(r'{(.*)}$', selectQuery)\n",
    "    if matches:\n",
    "        selectQueryPart = matches[0]\n",
    "    query = template.substitute(uri=uri, query=selectQueryPart)\n",
    "    output += query"
   ]
  },
  {
   "cell_type": "code",
   "execution_count": 41,
   "metadata": {},
   "outputs": [
    {
     "name": "stdout",
     "output_type": "stream",
     "text": [
      "\n",
      "    INSERT {\n",
      "        ?subject <http://rs.swissartresearch.net/instances/fields/collection> ?value\n",
      "    } WHERE {\n",
      "         $subject crm:P109_has_former_or_current_curator ?value . \n",
      "    };\n",
      "\n",
      "    INSERT {\n",
      "        ?subject <http://rs.swissartresearch.net/instances/fields/creator_of_object> ?value\n",
      "    } WHERE {\n",
      "         $subject crm:P128_carries/crm:P94i_was_created_by/crm:P14_carried_out_by ?value. OPTIONAL { BIND(URI(CONCAT(STR($subject), \"/meta\")) as ?subject_meta ) ?value crm:P1_is_identified_by ?appellation . ?appellation rdfs:label ?label ; crm:P70i_is_documented_in ?subject_meta . } \n",
      "    };\n",
      "\n",
      "    INSERT {\n",
      "        ?subject <http://rs.swissartresearch.net/instances/fields/object_depicts> ?value\n",
      "    } WHERE {\n",
      "         $subject crm:P128_carries/crm:P138_represents ?value . \n",
      "    };\n",
      "\n",
      "    INSERT {\n",
      "        ?subject <http://rs.swissartresearch.net/instances/fields/label> ?value\n",
      "    } WHERE {\n",
      "         $subject rdfs:label ?value . \n",
      "    };\n",
      "\n",
      "    INSERT {\n",
      "        ?subject <http://rs.swissartresearch.net/instances/fields/object_carries_visual_item> ?value\n",
      "    } WHERE {\n",
      "         $subject crm:P128_carries ?value . ?value a crm:E36_Visual_Item . \n",
      "    };\n",
      "\n"
     ]
    }
   ],
   "source": [
    "print(output)"
   ]
  }
 ],
 "metadata": {
  "kernelspec": {
   "display_name": "Python 3",
   "language": "python",
   "name": "python3"
  },
  "language_info": {
   "codemirror_mode": {
    "name": "ipython",
    "version": 3
   },
   "file_extension": ".py",
   "mimetype": "text/x-python",
   "name": "python",
   "nbconvert_exporter": "python",
   "pygments_lexer": "ipython3",
   "version": "3.7.3"
  }
 },
 "nbformat": 4,
 "nbformat_minor": 2
}
