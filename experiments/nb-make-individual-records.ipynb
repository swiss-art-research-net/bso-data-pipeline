{
 "cells": [
  {
   "cell_type": "code",
   "execution_count": 1,
   "metadata": {},
   "outputs": [],
   "source": [
    "import re\n",
    "import copy\n",
    "import csv\n",
    "from lxml import etree"
   ]
  },
  {
   "cell_type": "code",
   "execution_count": 2,
   "metadata": {},
   "outputs": [],
   "source": [
    "inputFiles = ['../data/source/nb-records.xml', '../data/source/nb-parentrecords.xml']\n",
    "outputDir = '../data/xml/nb'\n",
    "limit = 10\n",
    "offset = 10000"
   ]
  },
  {
   "cell_type": "code",
   "execution_count": 3,
   "metadata": {},
   "outputs": [],
   "source": [
    "curatedDataFiles = [\n",
    "    \"../data/source/nb-curation-personen.csv\",\n",
    "    \"../data/source/nb-curation-koerperschaften.csv\",\n",
    "    \"../data/source/nb-curation-geografika.csv\"\n",
    "]\n",
    "curatedKey = \"Raw\"\n",
    "curatedFieldsToAdd = [\"GND-Nummer\", \"GND-Kennung\", \"WD\"]"
   ]
  },
  {
   "cell_type": "code",
   "execution_count": 4,
   "metadata": {},
   "outputs": [],
   "source": [
    "curatedNamesFile = \"../data/source/nb-curation-names.csv\""
   ]
  },
  {
   "cell_type": "code",
   "execution_count": 5,
   "metadata": {},
   "outputs": [],
   "source": [
    "root = etree.XML(\"<Collection/>\")\n",
    "for inputFile in inputFiles:\n",
    "    collection = etree.parse(inputFile)\n",
    "    for record in collection.findall(\"//Record\"):\n",
    "        root.append(record)"
   ]
  },
  {
   "cell_type": "code",
   "execution_count": 6,
   "metadata": {},
   "outputs": [],
   "source": [
    "records = root.findall(\"Record\")"
   ]
  },
  {
   "cell_type": "code",
   "execution_count": 7,
   "metadata": {},
   "outputs": [],
   "source": [
    "# Filter records that either don't have an image or don't show up as a parent of another record\n",
    "parentIDs = []\n",
    "\n",
    "for record in records:\n",
    "    parentIDs.append(record.get('ParentId'))\n",
    "parentIDs = list(set(parentIDs))"
   ]
  },
  {
   "cell_type": "code",
   "execution_count": 8,
   "metadata": {},
   "outputs": [],
   "source": [
    "orphans = []\n",
    "\n",
    "for record in records:\n",
    "    recordID = record.get('Id')\n",
    "    image = record.find('.//DataElement[@ElementId=\"11040\"]')\n",
    "    # If record contains no image and is not a parent of another record, mark as orphan\n",
    "    if image is None and recordID not in parentIDs:\n",
    "        orphans.append(recordID)"
   ]
  },
  {
   "cell_type": "code",
   "execution_count": 9,
   "metadata": {},
   "outputs": [],
   "source": [
    "records = [d for d in records if d.get('Id') not in orphans]"
   ]
  },
  {
   "cell_type": "code",
   "execution_count": 10,
   "metadata": {},
   "outputs": [],
   "source": [
    "curatedData = []\n",
    "for curatedDataFile in curatedDataFiles:\n",
    "    with open(curatedDataFile, 'r') as f:\n",
    "        reader = csv.DictReader(f)\n",
    "        for row in reader:\n",
    "            curatedData.append(row)"
   ]
  },
  {
   "cell_type": "code",
   "execution_count": 11,
   "metadata": {},
   "outputs": [],
   "source": [
    "descriptors = root.xpath(\"//Descriptor\")"
   ]
  },
  {
   "cell_type": "code",
   "execution_count": 12,
   "metadata": {},
   "outputs": [],
   "source": [
    "for descriptor in descriptors:\n",
    "    thesaurus = descriptor.find(\"Thesaurus\").text\n",
    "    key = descriptor.find(\"IdName\").text\n",
    "    try:\n",
    "        dataToAdd = [d for d in curatedData if d['Thesaurus'] == thesaurus and d[curatedKey] == key][0]\n",
    "    except:\n",
    "        continue\n",
    "    for field in curatedFieldsToAdd:\n",
    "        if field in dataToAdd:\n",
    "            el = etree.SubElement(descriptor, field)\n",
    "            el.text = dataToAdd[field]"
   ]
  },
  {
   "cell_type": "code",
   "execution_count": 13,
   "metadata": {},
   "outputs": [],
   "source": [
    "curatedNames = []\n",
    "with open(curatedNamesFile, 'r') as f:\n",
    "    reader = csv.DictReader(f)\n",
    "    for row in reader:\n",
    "        curatedNames.append(row)"
   ]
  },
  {
   "cell_type": "code",
   "execution_count": 14,
   "metadata": {},
   "outputs": [],
   "source": [
    "\n",
    "def matchNameWithCuratedNames(name, curatedNames):\n",
    "    for curatedName in curatedNames:\n",
    "        if name in curatedName['Raw']:\n",
    "            return curatedName['normalised name']\n",
    "    print(\"Not found \", name)\n",
    "    return False\n",
    "\n",
    "def matchRoleWithCuratedNames(name, curatedNames):\n",
    "    for curatedName in curatedNames:\n",
    "        if curatedName['normalised role'] and curatedName['normalised role'] in name:\n",
    "            roles = curatedName['normalised role'].split(\"/\") \n",
    "            gndRoles = curatedName['gnd role'].split(\";\")\n",
    "            returnRoles = []\n",
    "            for i in range(min(len(roles), len(gndRoles))):\n",
    "                returnRoles.append({\"label\": roles[i], \"gnd\": gndRoles[i]})\n",
    "            return returnRoles\n",
    "    return False\n",
    "\n",
    "def cleanName(name):\n",
    "    return re.sub(r'[^A-Za-z]+', '', name)\n",
    "\n",
    "elementIdsWithCuratedNames = ['10817', '10927']\n",
    "dataElementXPath = '|'.join([\"DetailData/DataElement[@ElementId='%s']\" % d for d in elementIdsWithCuratedNames])\n",
    "\n",
    "# Process DataElements that have several values in one ElementValue by splitting the TextValue and adding extra ElementValues\n",
    "#\n",
    "# For example in ID 476941 the Element 10927 contains a TextValue that refers to two artists:\n",
    "#\n",
    "#            <DataElement ElementName=\"KünstlerIn\" ElementId=\"10927\" ElementType=\"Memo (max. 4000 Z.)\" ElementTypeId=\"7\">\n",
    "#              <ElementValue Sequence=\"1\">\n",
    "#                <TextValue>Aberli, Johann Ludwig [MalerIn/ZeichnerIn];\n",
    "#Zingg, Adrian [StecherIn]</TextValue>\n",
    "#               </ElementValue>\n",
    "#            </DataElement>\n",
    "#            \n",
    "# This should become:\n",
    "#\n",
    "#            <DataElement ElementName=\"KünstlerIn\" ElementId=\"10927\" ElementType=\"Memo (max. 4000 Z.)\" ElementTypeId=\"7\">\n",
    "#              <ElementValue Sequence=\"1-0\">\n",
    "#                <TextValue>Aberli, Johann Ludwig [MalerIn/ZeichnerIn]</TextValue>\n",
    "#              </ElementValue>\n",
    "#              <ElementValue Sequence=\"1-1\">\n",
    "#                <TextValue>#Zingg, Adrian [StecherIn]</TextValue>\n",
    "#              </ElementValue>\n",
    "#            </DataElement>\n",
    "\n",
    "for record in records:\n",
    "    dataElementsContainingNames = record.xpath(dataElementXPath)\n",
    "    if len(dataElementsContainingNames):\n",
    "        for dataElement in dataElementsContainingNames:\n",
    "            elementValues = dataElement.findall('./ElementValue')\n",
    "            for elementValue in elementValues:\n",
    "                text = elementValue.find(\"./TextValue\").text\n",
    "                if \";\" in text:\n",
    "                    # Extract data\n",
    "                    values = text.split(\";\\n\")\n",
    "                    sequence = elementValue.get(\"Sequence\")\n",
    "                    # Remove ElementValue\n",
    "                    dataElement.remove(elementValue)\n",
    "                    # Create new ElementValue elements for each value\n",
    "                    for i, value in enumerate(values):\n",
    "                        newElementValue = etree.SubElement(dataElement, \"ElementValue\")\n",
    "                        newElementValue.set(\"Sequence\", \"%s-%d\" % (sequence, i))\n",
    "                        newTextValue = etree.SubElement(newElementValue, \"TextValue\")\n",
    "                        newTextValue.text = value\n",
    "\n",
    "\n"
   ]
  },
  {
   "cell_type": "code",
   "execution_count": 15,
   "metadata": {},
   "outputs": [
    {
     "name": "stdout",
     "output_type": "stream",
     "text": [
      "Not found  Mllener, Johann Karl\n"
     ]
    }
   ],
   "source": [
    "for record in records:\n",
    "    \n",
    "    # Extract Elements containing names\n",
    "    recordElements = record.xpath(dataElementXPath)\n",
    "    recordDescriptors = record.xpath(\"Descriptors/Descriptor[Thesaurus/text()='Personen']\")\n",
    "    \n",
    "    if len(recordElements):\n",
    "        for recordElement in recordElements:\n",
    "            # Extract ElementValues (there can be several)\n",
    "            values = recordElement.xpath(\"ElementValue\")\n",
    "            for value in values:\n",
    "                name = value.find(\"TextValue\").text\n",
    "\n",
    "                matchedName = matchNameWithCuratedNames(name, curatedNames)\n",
    "                if matchedName:\n",
    "                    # If a match is found, copy the descriptor directly into the Element\n",
    "                    for descriptor in recordDescriptors:\n",
    "                        idName = descriptor.find(\"IdName\").text\n",
    "                        if cleanName(matchedName) in cleanName(idName):\n",
    "                            value.append(copy.deepcopy(descriptor))\n",
    "\n",
    "                matchedRoles = matchRoleWithCuratedNames(name, curatedNames)\n",
    "                if matchedRoles:\n",
    "                    for role in matchedRoles:\n",
    "                        roleElement = etree.SubElement(value, \"Role\")\n",
    "                        roleElement.set(\"gnd\", role['gnd'])\n",
    "                        roleElement.text = role['label']"
   ]
  },
  {
   "cell_type": "code",
   "execution_count": 16,
   "metadata": {},
   "outputs": [],
   "source": [
    "# elementIdsToAddDescriptors = ['10817', '10927']\n",
    "# xpath = '|'.join([\"//DataElement[@ElementId='%s']\" % d for d in elementIdsToAddDescriptors])\n",
    "# elementsToAddDescriptors = root.xpath(xpath)"
   ]
  },
  {
   "cell_type": "code",
   "execution_count": 17,
   "metadata": {},
   "outputs": [],
   "source": [
    "# descriptorIndex = {}\n",
    "# descriptorKeys = []\n",
    "# for descriptor in descriptors:\n",
    "#     idName = descriptor.find(\"IdName\").text\n",
    "#     if idName not in descriptorIndex:\n",
    "#         descriptorIndex[idName] = descriptor\n",
    "#         descriptorKeys.append(idName)"
   ]
  },
  {
   "cell_type": "code",
   "execution_count": 18,
   "metadata": {},
   "outputs": [],
   "source": [
    "# unmatchedNames = []\n",
    "# for element in elementsToAddDescriptors:\n",
    "#     values = element.xpath(\"ElementValue\")\n",
    "#     for value in values:\n",
    "#         name = value.find(\"TextValue\").text\n",
    "        \n",
    "#         try:\n",
    "#             matchedCuratedName = [d for d in curatedNames if d['Name'] in name][0]\n",
    "#         except:\n",
    "#             print(\"Could not find %s in curated names\" % name)\n",
    "            \n",
    "#         try:\n",
    "#             matchedDescriptorKey = [d for d in descriptorKeys if matchedCuratedName['Name'] in d][0]\n",
    "#         except:\n",
    "#             unmatchedNames.append(matchedCuratedName['Name'])\n",
    "\n",
    "# unmatchedNames = list(set(unmatchedNames))\n",
    "# unmatchedNames.sort()"
   ]
  },
  {
   "cell_type": "code",
   "execution_count": 19,
   "metadata": {},
   "outputs": [],
   "source": [
    "def getDateForDateElement(date):\n",
    "    if not date.text:\n",
    "        return False\n",
    "        \n",
    "    patternCeYear = r'\\+\\d{4}'\n",
    "    if re.match(patternCeYear, date.text):\n",
    "        year = date.text[1:].zfill(4)\n",
    "        if date.tag == 'FromDate':\n",
    "            return \"%s-01-01\" % year\n",
    "        else:\n",
    "            return \"%s-12-31\" % year\n",
    "    return False"
   ]
  },
  {
   "cell_type": "code",
   "execution_count": 20,
   "metadata": {},
   "outputs": [],
   "source": [
    "dates = root.xpath(\"//FromDate|//ToDate\")\n",
    "for date in dates:\n",
    "    fullDate = getDateForDateElement(date)\n",
    "    if fullDate:\n",
    "        date.set(\"fullDate\", fullDate)"
   ]
  },
  {
   "cell_type": "code",
   "execution_count": 21,
   "metadata": {},
   "outputs": [],
   "source": [
    "additionalIdsToRender = ['476941']\n",
    "collection = root\n",
    "for record in records[offset:limit+offset] + [r for r in records if r.get('Id') in additionalIdsToRender]:\n",
    "    collection.clear()\n",
    "    id = record.get(\"Id\")\n",
    "    parentId = record.get(\"ParentId\")\n",
    "    record.set(\"RecordIdentifier\", \"nb-\" + id)\n",
    "    record.set(\"ParentRecordIdentifier\", \"nb-\" + parentId)\n",
    "    collection.append(record)\n",
    "    outputFile = \"%s/nb-record-%s.xml\" % (outputDir, id)\n",
    "    with open(outputFile, 'wb') as f:\n",
    "        f.write(etree.tostring(collection, xml_declaration=True, pretty_print=True, encoding=\"UTF-8\"))"
   ]
  },
  {
   "cell_type": "code",
   "execution_count": null,
   "metadata": {},
   "outputs": [],
   "source": []
  },
  {
   "cell_type": "code",
   "execution_count": null,
   "metadata": {},
   "outputs": [],
   "source": []
  },
  {
   "cell_type": "code",
   "execution_count": null,
   "metadata": {},
   "outputs": [],
   "source": []
  }
 ],
 "metadata": {
  "kernelspec": {
   "display_name": "Python 3",
   "language": "python",
   "name": "python3"
  },
  "language_info": {
   "codemirror_mode": {
    "name": "ipython",
    "version": 3
   },
   "file_extension": ".py",
   "mimetype": "text/x-python",
   "name": "python",
   "nbconvert_exporter": "python",
   "pygments_lexer": "ipython3",
   "version": "3.7.3"
  }
 },
 "nbformat": 4,
 "nbformat_minor": 2
}
