{
 "cells": [
  {
   "cell_type": "code",
   "execution_count": 1,
   "metadata": {},
   "outputs": [],
   "source": [
    "import re\n",
    "import csv\n",
    "from lxml import etree"
   ]
  },
  {
   "cell_type": "code",
   "execution_count": 2,
   "metadata": {},
   "outputs": [],
   "source": [
    "inputFile = '../data/source/nb-allRecords.xml'\n",
    "outputDir = '../data/xml/nb'\n",
    "limit = 10\n",
    "offset = 0"
   ]
  },
  {
   "cell_type": "code",
   "execution_count": 3,
   "metadata": {},
   "outputs": [],
   "source": [
    "curatedDataFiles = [\n",
    "    \"../data/source/nb-curation-personen.csv\",\n",
    "    \"../data/source/nb-curation-koerperschaften.csv\",\n",
    "    \"../data/source/nb-curation-geografika.csv\"\n",
    "]\n",
    "curatedKey = \"Raw\"\n",
    "curatedFieldsToAdd = [\"GND-Nummer\", \"GND-Kennung\", \"WD\"]"
   ]
  },
  {
   "cell_type": "code",
   "execution_count": 4,
   "metadata": {},
   "outputs": [],
   "source": [
    "root = etree.parse(inputFile)"
   ]
  },
  {
   "cell_type": "code",
   "execution_count": 5,
   "metadata": {},
   "outputs": [],
   "source": [
    "collection = root.getroot()"
   ]
  },
  {
   "cell_type": "code",
   "execution_count": 6,
   "metadata": {},
   "outputs": [],
   "source": [
    "records = root.findall(\"Record\")"
   ]
  },
  {
   "cell_type": "code",
   "execution_count": 7,
   "metadata": {},
   "outputs": [],
   "source": [
    "curatedData = []\n",
    "for curatedDataFile in curatedDataFiles:\n",
    "    with open(curatedDataFile, 'r') as f:\n",
    "        reader = csv.DictReader(f)\n",
    "        for row in reader:\n",
    "            curatedData.append(row)"
   ]
  },
  {
   "cell_type": "code",
   "execution_count": 8,
   "metadata": {},
   "outputs": [],
   "source": [
    "descriptors = root.xpath(\"//Descriptor\")"
   ]
  },
  {
   "cell_type": "code",
   "execution_count": 9,
   "metadata": {},
   "outputs": [],
   "source": [
    "for descriptor in descriptors:\n",
    "    thesaurus = descriptor.find(\"Thesaurus\").text\n",
    "    key = descriptor.find(\"IdName\").text\n",
    "    try:\n",
    "        dataToAdd = [d for d in curatedData if d['Thesaurus'] == thesaurus and d[curatedKey] == key][0]\n",
    "    except:\n",
    "        continue\n",
    "    for field in curatedFieldsToAdd:\n",
    "        if field in dataToAdd:\n",
    "            el = etree.SubElement(descriptor, field)\n",
    "            el.text = dataToAdd[field]"
   ]
  },
  {
   "cell_type": "code",
   "execution_count": 10,
   "metadata": {},
   "outputs": [],
   "source": [
    "def getDateForDateElement(date):\n",
    "    if not date.text:\n",
    "        return False\n",
    "        \n",
    "    patternCeYear = r'\\+\\d{4}'\n",
    "    if re.match(patternCeYear, date.text):\n",
    "        year = date.text[1:].zfill(4)\n",
    "        if date.tag == 'FromDate':\n",
    "            return \"%s-01-01\" % year\n",
    "        else:\n",
    "            return \"%s-12-31\" % year\n",
    "    return False"
   ]
  },
  {
   "cell_type": "code",
   "execution_count": 11,
   "metadata": {},
   "outputs": [],
   "source": [
    "dates = root.xpath(\"//FromDate|//ToDate\")\n",
    "for date in dates:\n",
    "    fullDate = getDateForDateElement(date)\n",
    "    if fullDate:\n",
    "        date.set(\"fullDate\", fullDate)"
   ]
  },
  {
   "cell_type": "code",
   "execution_count": 12,
   "metadata": {},
   "outputs": [],
   "source": [
    "for record in records[offset:limit+offset]:\n",
    "    collection.clear()\n",
    "    recordId = record.get(\"Id\")\n",
    "        \n",
    "    collection.append(record)\n",
    "    outputFile = \"%s/nb-record-%s.xml\" % (outputDir, recordId)\n",
    "    with open(outputFile, 'wb') as f:\n",
    "        f.write(etree.tostring(collection, xml_declaration=True, pretty_print=True, encoding=\"UTF-8\"))"
   ]
  },
  {
   "cell_type": "code",
   "execution_count": null,
   "metadata": {},
   "outputs": [],
   "source": []
  }
 ],
 "metadata": {
  "kernelspec": {
   "display_name": "Python 3",
   "language": "python",
   "name": "python3"
  },
  "language_info": {
   "codemirror_mode": {
    "name": "ipython",
    "version": 3
   },
   "file_extension": ".py",
   "mimetype": "text/x-python",
   "name": "python",
   "nbconvert_exporter": "python",
   "pygments_lexer": "ipython3",
   "version": "3.7.3"
  }
 },
 "nbformat": 4,
 "nbformat_minor": 2
}
