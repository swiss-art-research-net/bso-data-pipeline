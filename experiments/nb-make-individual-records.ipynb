{
 "cells": [
  {
   "cell_type": "code",
   "execution_count": 1,
   "metadata": {},
   "outputs": [],
   "source": [
    "import re\n",
    "from lxml import etree"
   ]
  },
  {
   "cell_type": "code",
   "execution_count": 2,
   "metadata": {},
   "outputs": [],
   "source": [
    "inputFile = '../data/source/nb-allRecords.xml'\n",
    "outputDir = '../data/xml/nb'\n",
    "limit = 10\n",
    "offset = 0"
   ]
  },
  {
   "cell_type": "code",
   "execution_count": 3,
   "metadata": {},
   "outputs": [],
   "source": [
    "root = etree.parse(inputFile)"
   ]
  },
  {
   "cell_type": "code",
   "execution_count": 4,
   "metadata": {},
   "outputs": [],
   "source": [
    "collection = root.getroot()"
   ]
  },
  {
   "cell_type": "code",
   "execution_count": 5,
   "metadata": {},
   "outputs": [],
   "source": [
    "records = root.findall(\"Record\")"
   ]
  },
  {
   "cell_type": "code",
   "execution_count": 6,
   "metadata": {},
   "outputs": [],
   "source": [
    "def getDateForDateElement(date):\n",
    "    if not date.text:\n",
    "        return False\n",
    "        \n",
    "    patternCeYear = r'\\+\\d{4}'\n",
    "    if re.match(patternCeYear, date.text):\n",
    "        year = date.text[1:].zfill(4)\n",
    "        if date.tag == 'FromDate':\n",
    "            return \"%s-01-01\" % year\n",
    "        else:\n",
    "            return \"%s-12-31\" % year\n",
    "    return False"
   ]
  },
  {
   "cell_type": "code",
   "execution_count": 7,
   "metadata": {},
   "outputs": [],
   "source": [
    "dates = root.xpath(\"//FromDate|//ToDate\")\n",
    "for date in dates:\n",
    "    fullDate = getDateForDateElement(date)\n",
    "    if fullDate:\n",
    "        date.set(\"fullDate\", fullDate)"
   ]
  },
  {
   "cell_type": "code",
   "execution_count": 8,
   "metadata": {},
   "outputs": [],
   "source": [
    "def convertSwissGridToLatLong(x, y):\n",
    "    # https://www.swisstopo.admin.ch/en/maps-data-online/calculation-services/navref.html\n",
    "    # Example: https://geodesy.geo.admin.ch/reframe/navref?format=json&easting=683195&northing=248031&altitude=NaN&input=lv03&output=etrf93-ed\n",
    "    import requests\n",
    "    from string import Template\n",
    "    urlTemplate = Template(\"https://geodesy.geo.admin.ch/reframe/navref?format=json&easting=$x&northing=$y&altitude=NaN&input=lv03&output=etrf93-ed\")\n",
    "    url = urlTemplate.substitute(x=x, y=y)\n",
    "    try:\n",
    "        response = requests.get(url)\n",
    "        data = response.json()\n",
    "        return data\n",
    "    except:\n",
    "        print(\"No connection\")\n",
    "    return False"
   ]
  },
  {
   "cell_type": "code",
   "execution_count": 9,
   "metadata": {},
   "outputs": [],
   "source": [
    "for record in records[:10]:\n",
    "    xCoord = record.xpath(\"DetailData/DataElement[@ElementId='10161']/ElementValue/TextValue\")\n",
    "    yCoord = record.xpath(\"DetailData/DataElement[@ElementId='10162']/ElementValue/TextValue\")\n",
    "    if len(xCoord) and len(yCoord):\n",
    "        x = xCoord[0].text\n",
    "        y = yCoord[0].text\n",
    "        coordinates = convertSwissGridToLatLong(x, y)\n",
    "        elemCoord = etree.SubElement(record, \"Coordinates\")\n",
    "        elemCoord.set(\"longitude\", coordinates['easting'])\n",
    "        elemCoord.set(\"latitude\", coordinates['northing'])"
   ]
  },
  {
   "cell_type": "code",
   "execution_count": 10,
   "metadata": {},
   "outputs": [],
   "source": [
    "for record in records[offset:limit]:\n",
    "    collection.clear()\n",
    "    recordId = record.get(\"Id\")\n",
    "        \n",
    "    collection.append(record)\n",
    "    outputFile = \"%s/nb-record-%s.xml\" % (outputDir, recordId)\n",
    "    with open(outputFile, 'wb') as f:\n",
    "        f.write(etree.tostring(collection, xml_declaration=True, pretty_print=True, encoding=\"UTF-8\"))"
   ]
  },
  {
   "cell_type": "code",
   "execution_count": null,
   "metadata": {},
   "outputs": [],
   "source": []
  }
 ],
 "metadata": {
  "kernelspec": {
   "display_name": "Python 3",
   "language": "python",
   "name": "python3"
  },
  "language_info": {
   "codemirror_mode": {
    "name": "ipython",
    "version": 3
   },
   "file_extension": ".py",
   "mimetype": "text/x-python",
   "name": "python",
   "nbconvert_exporter": "python",
   "pygments_lexer": "ipython3",
   "version": "3.7.3"
  }
 },
 "nbformat": 4,
 "nbformat_minor": 2
}
