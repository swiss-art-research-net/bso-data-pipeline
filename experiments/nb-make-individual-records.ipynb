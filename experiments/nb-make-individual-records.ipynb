{
 "cells": [
  {
   "cell_type": "code",
   "execution_count": 1,
   "metadata": {},
   "outputs": [],
   "source": [
    "import re\n",
    "import copy\n",
    "import csv\n",
    "from lxml import etree"
   ]
  },
  {
   "cell_type": "code",
   "execution_count": 2,
   "metadata": {},
   "outputs": [],
   "source": [
    "inputFile = '../data/source/nb-records.xml'\n",
    "outputDir = '../data/xml/nb'\n",
    "limit = 10\n",
    "offset = 0"
   ]
  },
  {
   "cell_type": "code",
   "execution_count": 3,
   "metadata": {},
   "outputs": [],
   "source": [
    "curatedDataFiles = [\n",
    "    \"../data/source/nb-curation-personen.csv\",\n",
    "    \"../data/source/nb-curation-koerperschaften.csv\",\n",
    "    \"../data/source/nb-curation-geografika.csv\"\n",
    "]\n",
    "curatedKey = \"Raw\"\n",
    "curatedFieldsToAdd = [\"GND-Nummer\", \"GND-Kennung\", \"WD\"]"
   ]
  },
  {
   "cell_type": "code",
   "execution_count": 4,
   "metadata": {},
   "outputs": [],
   "source": [
    "curatedNamesFile = \"../data/source/nb-curation-names.csv\""
   ]
  },
  {
   "cell_type": "code",
   "execution_count": 5,
   "metadata": {},
   "outputs": [],
   "source": [
    "root = etree.parse(inputFile)"
   ]
  },
  {
   "cell_type": "code",
   "execution_count": 6,
   "metadata": {},
   "outputs": [],
   "source": [
    "collection = root.getroot()"
   ]
  },
  {
   "cell_type": "code",
   "execution_count": 7,
   "metadata": {},
   "outputs": [],
   "source": [
    "records = root.findall(\"Record\")"
   ]
  },
  {
   "cell_type": "code",
   "execution_count": 8,
   "metadata": {},
   "outputs": [],
   "source": [
    "curatedData = []\n",
    "for curatedDataFile in curatedDataFiles:\n",
    "    with open(curatedDataFile, 'r') as f:\n",
    "        reader = csv.DictReader(f)\n",
    "        for row in reader:\n",
    "            curatedData.append(row)"
   ]
  },
  {
   "cell_type": "code",
   "execution_count": 9,
   "metadata": {},
   "outputs": [],
   "source": [
    "descriptors = root.xpath(\"//Descriptor\")"
   ]
  },
  {
   "cell_type": "code",
   "execution_count": 10,
   "metadata": {},
   "outputs": [],
   "source": [
    "for descriptor in descriptors:\n",
    "    thesaurus = descriptor.find(\"Thesaurus\").text\n",
    "    key = descriptor.find(\"IdName\").text\n",
    "    try:\n",
    "        dataToAdd = [d for d in curatedData if d['Thesaurus'] == thesaurus and d[curatedKey] == key][0]\n",
    "    except:\n",
    "        continue\n",
    "    for field in curatedFieldsToAdd:\n",
    "        if field in dataToAdd:\n",
    "            el = etree.SubElement(descriptor, field)\n",
    "            el.text = dataToAdd[field]"
   ]
  },
  {
   "cell_type": "code",
   "execution_count": 11,
   "metadata": {},
   "outputs": [],
   "source": [
    "curatedNames = []\n",
    "with open(curatedNamesFile, 'r') as f:\n",
    "    reader = csv.DictReader(f)\n",
    "    for row in reader:\n",
    "        curatedNames.append(row)"
   ]
  },
  {
   "cell_type": "code",
   "execution_count": 12,
   "metadata": {},
   "outputs": [],
   "source": [
    "elementIdsWithCuratedNames = ['10817', '10927']\n",
    "dataElementXPath = '|'.join([\"DetailData/DataElement[@ElementId='%s']\" % d for d in elementIdsWithCuratedNames])\n",
    "\n",
    "def matchNameWithCuratedNames(name, curatedNames):\n",
    "    for curatedName in curatedNames:\n",
    "        if name in curatedName['Raw']:\n",
    "            return curatedName['normalised name']\n",
    "    print(\"Not found \", name)\n",
    "    return False\n",
    "\n",
    "def matchRoleWithCuratedNames(name, curatedNames):\n",
    "    for curatedName in curatedNames:\n",
    "        if curatedName['normalised role'] and curatedName['normalised role'] in name:\n",
    "            roles = curatedName['normalised role'].split(\"/\") \n",
    "            gndRoles = curatedName['gnd role'].split(\";\")\n",
    "            returnRoles = []\n",
    "            for i in range(min(len(roles), len(gndRoles))):\n",
    "                returnRoles.append({\"label\": roles[i], \"gnd\": gndRoles[i]})\n",
    "            return returnRoles\n",
    "    return False\n",
    "\n",
    "def cleanName(name):\n",
    "    return re.sub(r'[^A-Za-z]+', '', name)\n",
    "\n",
    "for record in records:\n",
    "    \n",
    "    recordElements = record.xpath(dataElementXPath)\n",
    "    recordDescriptors = record.xpath(\"Descriptors/Descriptor[Thesaurus/text()='Personen']\")\n",
    "    \n",
    "    if len(recordElements):\n",
    "        for recordElement in recordElements:\n",
    "            values = recordElement.xpath(\"ElementValue\")\n",
    "            for value in values:\n",
    "                name = value.find(\"TextValue\").text\n",
    "                matchedName = matchNameWithCuratedNames(name, curatedNames)\n",
    "                matchedRoles = matchRoleWithCuratedNames(name, curatedNames)\n",
    "                \n",
    "                for descriptor in recordDescriptors:\n",
    "                    idName = descriptor.find(\"IdName\").text\n",
    "                    if cleanName(matchedName) in cleanName(idName):\n",
    "                        value.append(copy.deepcopy(descriptor))\n",
    "                \n",
    "                if matchedRoles:\n",
    "                    for role in matchedRoles:\n",
    "                        roleElement = etree.SubElement(value, \"Role\")\n",
    "                        roleElement.set(\"gnd\", role['gnd'])\n",
    "                        roleElement.text = role['label']"
   ]
  },
  {
   "cell_type": "code",
   "execution_count": null,
   "metadata": {},
   "outputs": [],
   "source": []
  },
  {
   "cell_type": "code",
   "execution_count": 13,
   "metadata": {},
   "outputs": [],
   "source": [
    "# elementIdsToAddDescriptors = ['10817', '10927']\n",
    "# xpath = '|'.join([\"//DataElement[@ElementId='%s']\" % d for d in elementIdsToAddDescriptors])\n",
    "# elementsToAddDescriptors = root.xpath(xpath)"
   ]
  },
  {
   "cell_type": "code",
   "execution_count": 14,
   "metadata": {},
   "outputs": [],
   "source": [
    "# descriptorIndex = {}\n",
    "# descriptorKeys = []\n",
    "# for descriptor in descriptors:\n",
    "#     idName = descriptor.find(\"IdName\").text\n",
    "#     if idName not in descriptorIndex:\n",
    "#         descriptorIndex[idName] = descriptor\n",
    "#         descriptorKeys.append(idName)"
   ]
  },
  {
   "cell_type": "code",
   "execution_count": 15,
   "metadata": {},
   "outputs": [],
   "source": [
    "# unmatchedNames = []\n",
    "# for element in elementsToAddDescriptors:\n",
    "#     values = element.xpath(\"ElementValue\")\n",
    "#     for value in values:\n",
    "#         name = value.find(\"TextValue\").text\n",
    "        \n",
    "#         try:\n",
    "#             matchedCuratedName = [d for d in curatedNames if d['Name'] in name][0]\n",
    "#         except:\n",
    "#             print(\"Could not find %s in curated names\" % name)\n",
    "            \n",
    "#         try:\n",
    "#             matchedDescriptorKey = [d for d in descriptorKeys if matchedCuratedName['Name'] in d][0]\n",
    "#         except:\n",
    "#             unmatchedNames.append(matchedCuratedName['Name'])\n",
    "\n",
    "# unmatchedNames = list(set(unmatchedNames))\n",
    "# unmatchedNames.sort()"
   ]
  },
  {
   "cell_type": "code",
   "execution_count": 16,
   "metadata": {},
   "outputs": [],
   "source": [
    "def getDateForDateElement(date):\n",
    "    if not date.text:\n",
    "        return False\n",
    "        \n",
    "    patternCeYear = r'\\+\\d{4}'\n",
    "    if re.match(patternCeYear, date.text):\n",
    "        year = date.text[1:].zfill(4)\n",
    "        if date.tag == 'FromDate':\n",
    "            return \"%s-01-01\" % year\n",
    "        else:\n",
    "            return \"%s-12-31\" % year\n",
    "    return False"
   ]
  },
  {
   "cell_type": "code",
   "execution_count": 17,
   "metadata": {},
   "outputs": [],
   "source": [
    "dates = root.xpath(\"//FromDate|//ToDate\")\n",
    "for date in dates:\n",
    "    fullDate = getDateForDateElement(date)\n",
    "    if fullDate:\n",
    "        date.set(\"fullDate\", fullDate)"
   ]
  },
  {
   "cell_type": "code",
   "execution_count": 18,
   "metadata": {},
   "outputs": [],
   "source": [
    "additionalIdsToRender = ['476941']\n",
    "for record in records[offset:limit+offset] + [r for r in records if r.get('Id') in additionalIdsToRender]:\n",
    "    collection.clear()\n",
    "    recordId = record.get(\"Id\")\n",
    "        \n",
    "    collection.append(record)\n",
    "    outputFile = \"%s/nb-record-%s.xml\" % (outputDir, recordId)\n",
    "    with open(outputFile, 'wb') as f:\n",
    "        f.write(etree.tostring(collection, xml_declaration=True, pretty_print=True, encoding=\"UTF-8\"))"
   ]
  },
  {
   "cell_type": "code",
   "execution_count": null,
   "metadata": {},
   "outputs": [],
   "source": []
  }
 ],
 "metadata": {
  "kernelspec": {
   "display_name": "Python 3",
   "language": "python",
   "name": "python3"
  },
  "language_info": {
   "codemirror_mode": {
    "name": "ipython",
    "version": 3
   },
   "file_extension": ".py",
   "mimetype": "text/x-python",
   "name": "python",
   "nbconvert_exporter": "python",
   "pygments_lexer": "ipython3",
   "version": "3.7.3"
  }
 },
 "nbformat": 4,
 "nbformat_minor": 2
}
